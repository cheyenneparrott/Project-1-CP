{
 "cells": [
  {
   "cell_type": "code",
   "execution_count": 1,
   "metadata": {},
   "outputs": [],
   "source": [
    "# Dependencies\n",
    "import pandas as pd\n",
    "import matplotlib.pyplot as plt\n",
    "import csv"
   ]
  },
  {
   "cell_type": "code",
   "execution_count": 2,
   "metadata": {},
   "outputs": [],
   "source": [
    "# Store filepath in a variable\n",
    "file_one = \"Construction and extraction occupationsEmployed.csv\"\n",
    "file_two = \"Farming, fishing, and forestry occupationsEmployed.csv\"\n",
    "file_three = \"Installation, maintenance, and repair occupationsEmployed.csv\"\n",
    "file_four = \"Management, business, and financial operations occupationsEmployed.csv\"\n",
    "file_five = \"Office and administrative support occupationsEmployed.csv\"\n",
    "file_six = \"Production occupationsEmployed.csv\"\n",
    "file_seven = \"Professional and related occupationsEmployed.csv\"\n",
    "file_eight = \"Sales and related occupationsEmployed.csv\"\n",
    "file_nine = \"Transportation and material moving occupationsEmployed.csv\""
   ]
  },
  {
   "cell_type": "code",
   "execution_count": 3,
   "metadata": {},
   "outputs": [],
   "source": [
    "# Read the mouse data and the study results\n",
    "cons_employed = pd.read_csv(file_one)\n",
    "farm_employed = pd.read_csv(file_two)\n",
    "inst_employed = pd.read_csv(file_three)\n",
    "fina_employed = pd.read_csv(file_four)\n",
    "offi_employed = pd.read_csv(file_five)\n",
    "prod_employed = pd.read_csv(file_six)\n",
    "prof_employed = pd.read_csv(file_seven)\n",
    "sale_employed = pd.read_csv(file_eight)\n",
    "tran_employed = pd.read_csv(file_nine)"
   ]
  },
  {
   "cell_type": "markdown",
   "metadata": {},
   "source": [
    "## Construction and extraction occupations"
   ]
  },
  {
   "cell_type": "markdown",
   "metadata": {},
   "source": [
    "### Step 1 - Preparaing data for merging with other occupational data "
   ]
  },
  {
   "cell_type": "code",
   "execution_count": 9,
   "metadata": {
    "scrolled": true
   },
   "outputs": [
    {
     "data": {
      "text/html": [
       "<div>\n",
       "<style scoped>\n",
       "    .dataframe tbody tr th:only-of-type {\n",
       "        vertical-align: middle;\n",
       "    }\n",
       "\n",
       "    .dataframe tbody tr th {\n",
       "        vertical-align: top;\n",
       "    }\n",
       "\n",
       "    .dataframe thead th {\n",
       "        text-align: right;\n",
       "    }\n",
       "</style>\n",
       "<table border=\"1\" class=\"dataframe\">\n",
       "  <thead>\n",
       "    <tr style=\"text-align: right;\">\n",
       "      <th></th>\n",
       "      <th>Labor Force Statistics from the Current Population Survey</th>\n",
       "      <th>Unnamed: 1</th>\n",
       "      <th>Unnamed: 2</th>\n",
       "      <th>Unnamed: 3</th>\n",
       "      <th>Unnamed: 4</th>\n",
       "      <th>Unnamed: 5</th>\n",
       "      <th>Unnamed: 6</th>\n",
       "      <th>Unnamed: 7</th>\n",
       "      <th>Unnamed: 8</th>\n",
       "      <th>Unnamed: 9</th>\n",
       "      <th>Unnamed: 10</th>\n",
       "      <th>Unnamed: 11</th>\n",
       "      <th>Unnamed: 12</th>\n",
       "    </tr>\n",
       "  </thead>\n",
       "  <tbody>\n",
       "    <tr>\n",
       "      <th>11</th>\n",
       "      <td>Year</td>\n",
       "      <td>Jan</td>\n",
       "      <td>Feb</td>\n",
       "      <td>Mar</td>\n",
       "      <td>Apr</td>\n",
       "      <td>May</td>\n",
       "      <td>Jun</td>\n",
       "      <td>Jul</td>\n",
       "      <td>Aug</td>\n",
       "      <td>Sep</td>\n",
       "      <td>Oct</td>\n",
       "      <td>Nov</td>\n",
       "      <td>Dec</td>\n",
       "    </tr>\n",
       "    <tr>\n",
       "      <th>12</th>\n",
       "      <td>2019</td>\n",
       "      <td>8453</td>\n",
       "      <td>8272</td>\n",
       "      <td>8367</td>\n",
       "      <td>8274</td>\n",
       "      <td>8123</td>\n",
       "      <td>8352</td>\n",
       "      <td>8545</td>\n",
       "      <td>8415</td>\n",
       "      <td>8347</td>\n",
       "      <td>8365</td>\n",
       "      <td>8242</td>\n",
       "      <td>8143</td>\n",
       "    </tr>\n",
       "    <tr>\n",
       "      <th>13</th>\n",
       "      <td>2020</td>\n",
       "      <td>8015</td>\n",
       "      <td>8149</td>\n",
       "      <td>8029</td>\n",
       "      <td>6549</td>\n",
       "      <td>6872</td>\n",
       "      <td>7371</td>\n",
       "      <td>7675</td>\n",
       "      <td>NaN</td>\n",
       "      <td>NaN</td>\n",
       "      <td>NaN</td>\n",
       "      <td>NaN</td>\n",
       "      <td>NaN</td>\n",
       "    </tr>\n",
       "  </tbody>\n",
       "</table>\n",
       "</div>"
      ],
      "text/plain": [
       "   Labor Force Statistics from the Current Population Survey Unnamed: 1  \\\n",
       "11                                               Year               Jan   \n",
       "12                                               2019              8453   \n",
       "13                                               2020              8015   \n",
       "\n",
       "   Unnamed: 2 Unnamed: 3 Unnamed: 4 Unnamed: 5 Unnamed: 6 Unnamed: 7  \\\n",
       "11        Feb        Mar        Apr        May        Jun        Jul   \n",
       "12       8272       8367       8274       8123       8352       8545   \n",
       "13       8149       8029       6549       6872       7371       7675   \n",
       "\n",
       "   Unnamed: 8 Unnamed: 9 Unnamed: 10 Unnamed: 11 Unnamed: 12  \n",
       "11        Aug        Sep         Oct         Nov         Dec  \n",
       "12       8415       8347        8365        8242        8143  \n",
       "13        NaN        NaN         NaN         NaN         NaN  "
      ]
     },
     "execution_count": 9,
     "metadata": {},
     "output_type": "execute_result"
    }
   ],
   "source": [
    "# #removing extra rows and columns\n",
    "cons_employed_clean = cons_employed.drop(cons_employed.index[[0,1,2,3,4,5,6,7,8,9,10]])\n",
    "cons_employed_clean"
   ]
  },
  {
   "cell_type": "code",
   "execution_count": 10,
   "metadata": {},
   "outputs": [],
   "source": [
    "# Adding the correct header\n",
    "headers = cons_employed_clean.iloc[0]\n",
    "cons_employed_clean = cons_employed_clean[1:] "
   ]
  },
  {
   "cell_type": "code",
   "execution_count": 11,
   "metadata": {},
   "outputs": [],
   "source": [
    "cons_employed_clean.columns = headers"
   ]
  },
  {
   "cell_type": "code",
   "execution_count": 12,
   "metadata": {},
   "outputs": [
    {
     "data": {
      "text/html": [
       "<div>\n",
       "<style scoped>\n",
       "    .dataframe tbody tr th:only-of-type {\n",
       "        vertical-align: middle;\n",
       "    }\n",
       "\n",
       "    .dataframe tbody tr th {\n",
       "        vertical-align: top;\n",
       "    }\n",
       "\n",
       "    .dataframe thead th {\n",
       "        text-align: right;\n",
       "    }\n",
       "</style>\n",
       "<table border=\"1\" class=\"dataframe\">\n",
       "  <thead>\n",
       "    <tr style=\"text-align: right;\">\n",
       "      <th>11</th>\n",
       "      <th>Year</th>\n",
       "      <th>Jan</th>\n",
       "      <th>Feb</th>\n",
       "      <th>Mar</th>\n",
       "      <th>Apr</th>\n",
       "      <th>May</th>\n",
       "      <th>Jun</th>\n",
       "      <th>Jul</th>\n",
       "      <th>Aug</th>\n",
       "      <th>Sep</th>\n",
       "      <th>Oct</th>\n",
       "      <th>Nov</th>\n",
       "      <th>Dec</th>\n",
       "    </tr>\n",
       "  </thead>\n",
       "  <tbody>\n",
       "    <tr>\n",
       "      <th>12</th>\n",
       "      <td>2019</td>\n",
       "      <td>8453</td>\n",
       "      <td>8272</td>\n",
       "      <td>8367</td>\n",
       "      <td>8274</td>\n",
       "      <td>8123</td>\n",
       "      <td>8352</td>\n",
       "      <td>8545</td>\n",
       "      <td>8415</td>\n",
       "      <td>8347</td>\n",
       "      <td>8365</td>\n",
       "      <td>8242</td>\n",
       "      <td>8143</td>\n",
       "    </tr>\n",
       "    <tr>\n",
       "      <th>13</th>\n",
       "      <td>2020</td>\n",
       "      <td>8015</td>\n",
       "      <td>8149</td>\n",
       "      <td>8029</td>\n",
       "      <td>6549</td>\n",
       "      <td>6872</td>\n",
       "      <td>7371</td>\n",
       "      <td>7675</td>\n",
       "      <td>NaN</td>\n",
       "      <td>NaN</td>\n",
       "      <td>NaN</td>\n",
       "      <td>NaN</td>\n",
       "      <td>NaN</td>\n",
       "    </tr>\n",
       "  </tbody>\n",
       "</table>\n",
       "</div>"
      ],
      "text/plain": [
       "11  Year   Jan   Feb   Mar   Apr   May   Jun   Jul   Aug   Sep   Oct   Nov  \\\n",
       "12  2019  8453  8272  8367  8274  8123  8352  8545  8415  8347  8365  8242   \n",
       "13  2020  8015  8149  8029  6549  6872  7371  7675   NaN   NaN   NaN   NaN   \n",
       "\n",
       "11   Dec  \n",
       "12  8143  \n",
       "13   NaN  "
      ]
     },
     "execution_count": 12,
     "metadata": {},
     "output_type": "execute_result"
    }
   ],
   "source": [
    "cons_employed_clean"
   ]
  },
  {
   "cell_type": "markdown",
   "metadata": {},
   "source": [
    "### Step 2 - Preparaing data for plotting "
   ]
  },
  {
   "cell_type": "code",
   "execution_count": 13,
   "metadata": {},
   "outputs": [],
   "source": [
    "# creating new variable and transposing it for plotting\n",
    "cons_em_tp = cons_employed_clean.transpose()"
   ]
  },
  {
   "cell_type": "code",
   "execution_count": 14,
   "metadata": {},
   "outputs": [],
   "source": [
    "# Adding the correct header\n",
    "headers = cons_em_tp.iloc[0]\n",
    "cons_em_tp = cons_em_tp[1:] "
   ]
  },
  {
   "cell_type": "code",
   "execution_count": 15,
   "metadata": {},
   "outputs": [],
   "source": [
    "cons_em_tp.columns = headers"
   ]
  },
  {
   "cell_type": "code",
   "execution_count": 16,
   "metadata": {},
   "outputs": [],
   "source": [
    "# changing the datatype to numeric for plotting\n",
    "cons_em_tp = cons_em_tp.apply (pd.to_numeric, errors=\"ignore\")"
   ]
  },
  {
   "cell_type": "code",
   "execution_count": 18,
   "metadata": {},
   "outputs": [
    {
     "data": {
      "image/png": "[encoded data removed]",
      "text/plain": [
       "<Figure size 864x216 with 1 Axes>"
      ]
     },
     "metadata": {
      "needs_background": "light"
     },
     "output_type": "display_data"
    },
    {
     "data": {
      "text/plain": [
       "<Figure size 432x288 with 0 Axes>"
      ]
     },
     "metadata": {},
     "output_type": "display_data"
    }
   ],
   "source": [
    "# Use DataFrame.plot() in order to create a bar chart of the data\n",
    "cons_em_tp.plot(kind=\"bar\", figsize=(12,3))\n",
    "\n",
    "# Set a title for the chart\n",
    "plt.title(\"Count of Employed- Construction and Extraction\")\n",
    "\n",
    "plt.show()\n",
    "plt.tight_layout()"
   ]
  },
  {
   "cell_type": "markdown",
   "metadata": {},
   "source": [
    "### Step 3 - Add Occupation column dataframe created in step 1"
   ]
  },
  {
   "cell_type": "code",
   "execution_count": null,
   "metadata": {},
   "outputs": [],
   "source": [
    "# This dataframe will be merged with other occupations dataframe"
   ]
  },
  {
   "cell_type": "code",
   "execution_count": 19,
   "metadata": {},
   "outputs": [],
   "source": [
    "# Add occupation column\n",
    "# inserting column with static value in data frame \n",
    "cons_employed_clean.insert(1, \"Occupation\", \"Construction\")"
   ]
  },
  {
   "cell_type": "code",
   "execution_count": 20,
   "metadata": {},
   "outputs": [
    {
     "data": {
      "text/html": [
       "<div>\n",
       "<style scoped>\n",
       "    .dataframe tbody tr th:only-of-type {\n",
       "        vertical-align: middle;\n",
       "    }\n",
       "\n",
       "    .dataframe tbody tr th {\n",
       "        vertical-align: top;\n",
       "    }\n",
       "\n",
       "    .dataframe thead th {\n",
       "        text-align: right;\n",
       "    }\n",
       "</style>\n",
       "<table border=\"1\" class=\"dataframe\">\n",
       "  <thead>\n",
       "    <tr style=\"text-align: right;\">\n",
       "      <th>11</th>\n",
       "      <th>Year</th>\n",
       "      <th>Occupation</th>\n",
       "      <th>Jan</th>\n",
       "      <th>Feb</th>\n",
       "      <th>Mar</th>\n",
       "      <th>Apr</th>\n",
       "      <th>May</th>\n",
       "      <th>Jun</th>\n",
       "      <th>Jul</th>\n",
       "      <th>Aug</th>\n",
       "      <th>Sep</th>\n",
       "      <th>Oct</th>\n",
       "      <th>Nov</th>\n",
       "      <th>Dec</th>\n",
       "    </tr>\n",
       "  </thead>\n",
       "  <tbody>\n",
       "    <tr>\n",
       "      <th>12</th>\n",
       "      <td>2019</td>\n",
       "      <td>Construction</td>\n",
       "      <td>8453</td>\n",
       "      <td>8272</td>\n",
       "      <td>8367</td>\n",
       "      <td>8274</td>\n",
       "      <td>8123</td>\n",
       "      <td>8352</td>\n",
       "      <td>8545</td>\n",
       "      <td>8415</td>\n",
       "      <td>8347</td>\n",
       "      <td>8365</td>\n",
       "      <td>8242</td>\n",
       "      <td>8143</td>\n",
       "    </tr>\n",
       "    <tr>\n",
       "      <th>13</th>\n",
       "      <td>2020</td>\n",
       "      <td>Construction</td>\n",
       "      <td>8015</td>\n",
       "      <td>8149</td>\n",
       "      <td>8029</td>\n",
       "      <td>6549</td>\n",
       "      <td>6872</td>\n",
       "      <td>7371</td>\n",
       "      <td>7675</td>\n",
       "      <td>NaN</td>\n",
       "      <td>NaN</td>\n",
       "      <td>NaN</td>\n",
       "      <td>NaN</td>\n",
       "      <td>NaN</td>\n",
       "    </tr>\n",
       "  </tbody>\n",
       "</table>\n",
       "</div>"
      ],
      "text/plain": [
       "11  Year    Occupation   Jan   Feb   Mar   Apr   May   Jun   Jul   Aug   Sep  \\\n",
       "12  2019  Construction  8453  8272  8367  8274  8123  8352  8545  8415  8347   \n",
       "13  2020  Construction  8015  8149  8029  6549  6872  7371  7675   NaN   NaN   \n",
       "\n",
       "11   Oct   Nov   Dec  \n",
       "12  8365  8242  8143  \n",
       "13   NaN   NaN   NaN  "
      ]
     },
     "execution_count": 20,
     "metadata": {},
     "output_type": "execute_result"
    }
   ],
   "source": [
    "cons_employed_clean"
   ]
  },
  {
   "cell_type": "markdown",
   "metadata": {},
   "source": [
    "## Farming, Fishing and Forestry"
   ]
  },
  {
   "cell_type": "code",
   "execution_count": 21,
   "metadata": {},
   "outputs": [
    {
     "data": {
      "text/html": [
       "<div>\n",
       "<style scoped>\n",
       "    .dataframe tbody tr th:only-of-type {\n",
       "        vertical-align: middle;\n",
       "    }\n",
       "\n",
       "    .dataframe tbody tr th {\n",
       "        vertical-align: top;\n",
       "    }\n",
       "\n",
       "    .dataframe thead th {\n",
       "        text-align: right;\n",
       "    }\n",
       "</style>\n",
       "<table border=\"1\" class=\"dataframe\">\n",
       "  <thead>\n",
       "    <tr style=\"text-align: right;\">\n",
       "      <th></th>\n",
       "      <th>Labor Force Statistics from the Current Population Survey</th>\n",
       "      <th>Unnamed: 1</th>\n",
       "      <th>Unnamed: 2</th>\n",
       "      <th>Unnamed: 3</th>\n",
       "      <th>Unnamed: 4</th>\n",
       "      <th>Unnamed: 5</th>\n",
       "      <th>Unnamed: 6</th>\n",
       "      <th>Unnamed: 7</th>\n",
       "      <th>Unnamed: 8</th>\n",
       "      <th>Unnamed: 9</th>\n",
       "      <th>Unnamed: 10</th>\n",
       "      <th>Unnamed: 11</th>\n",
       "      <th>Unnamed: 12</th>\n",
       "    </tr>\n",
       "  </thead>\n",
       "  <tbody>\n",
       "    <tr>\n",
       "      <th>11</th>\n",
       "      <td>Year</td>\n",
       "      <td>Jan</td>\n",
       "      <td>Feb</td>\n",
       "      <td>Mar</td>\n",
       "      <td>Apr</td>\n",
       "      <td>May</td>\n",
       "      <td>Jun</td>\n",
       "      <td>Jul</td>\n",
       "      <td>Aug</td>\n",
       "      <td>Sep</td>\n",
       "      <td>Oct</td>\n",
       "      <td>Nov</td>\n",
       "      <td>Dec</td>\n",
       "    </tr>\n",
       "    <tr>\n",
       "      <th>12</th>\n",
       "      <td>2019</td>\n",
       "      <td>1119</td>\n",
       "      <td>1143</td>\n",
       "      <td>1130</td>\n",
       "      <td>1198</td>\n",
       "      <td>1330</td>\n",
       "      <td>1117</td>\n",
       "      <td>1211</td>\n",
       "      <td>1115</td>\n",
       "      <td>1149</td>\n",
       "      <td>1123</td>\n",
       "      <td>1067</td>\n",
       "      <td>1171</td>\n",
       "    </tr>\n",
       "    <tr>\n",
       "      <th>13</th>\n",
       "      <td>2020</td>\n",
       "      <td>1081</td>\n",
       "      <td>1139</td>\n",
       "      <td>1103</td>\n",
       "      <td>1079</td>\n",
       "      <td>1118</td>\n",
       "      <td>948</td>\n",
       "      <td>983</td>\n",
       "      <td>NaN</td>\n",
       "      <td>NaN</td>\n",
       "      <td>NaN</td>\n",
       "      <td>NaN</td>\n",
       "      <td>NaN</td>\n",
       "    </tr>\n",
       "  </tbody>\n",
       "</table>\n",
       "</div>"
      ],
      "text/plain": [
       "   Labor Force Statistics from the Current Population Survey Unnamed: 1  \\\n",
       "11                                               Year               Jan   \n",
       "12                                               2019              1119   \n",
       "13                                               2020              1081   \n",
       "\n",
       "   Unnamed: 2 Unnamed: 3 Unnamed: 4 Unnamed: 5 Unnamed: 6 Unnamed: 7  \\\n",
       "11        Feb        Mar        Apr        May        Jun        Jul   \n",
       "12       1143       1130       1198       1330       1117       1211   \n",
       "13       1139       1103       1079       1118        948        983   \n",
       "\n",
       "   Unnamed: 8 Unnamed: 9 Unnamed: 10 Unnamed: 11 Unnamed: 12  \n",
       "11        Aug        Sep         Oct         Nov         Dec  \n",
       "12       1115       1149        1123        1067        1171  \n",
       "13        NaN        NaN         NaN         NaN         NaN  "
      ]
     },
     "execution_count": 21,
     "metadata": {},
     "output_type": "execute_result"
    }
   ],
   "source": [
    "# #removing extra rows and columns\n",
    "farm_employed_clean = farm_employed.drop(farm_employed.index[[0,1,2,3,4,5,6,7,8,9,10]])\n",
    "farm_employed_clean"
   ]
  },
  {
   "cell_type": "code",
   "execution_count": 22,
   "metadata": {},
   "outputs": [],
   "source": [
    "# Adding the correct header\n",
    "headers = farm_employed_clean.iloc[0]\n",
    "farm_employed_clean = farm_employed_clean[1:] "
   ]
  },
  {
   "cell_type": "code",
   "execution_count": 23,
   "metadata": {},
   "outputs": [],
   "source": [
    "farm_employed_clean.columns = headers"
   ]
  },
  {
   "cell_type": "code",
   "execution_count": 24,
   "metadata": {},
   "outputs": [
    {
     "data": {
      "text/html": [
       "<div>\n",
       "<style scoped>\n",
       "    .dataframe tbody tr th:only-of-type {\n",
       "        vertical-align: middle;\n",
       "    }\n",
       "\n",
       "    .dataframe tbody tr th {\n",
       "        vertical-align: top;\n",
       "    }\n",
       "\n",
       "    .dataframe thead th {\n",
       "        text-align: right;\n",
       "    }\n",
       "</style>\n",
       "<table border=\"1\" class=\"dataframe\">\n",
       "  <thead>\n",
       "    <tr style=\"text-align: right;\">\n",
       "      <th>11</th>\n",
       "      <th>Year</th>\n",
       "      <th>Jan</th>\n",
       "      <th>Feb</th>\n",
       "      <th>Mar</th>\n",
       "      <th>Apr</th>\n",
       "      <th>May</th>\n",
       "      <th>Jun</th>\n",
       "      <th>Jul</th>\n",
       "      <th>Aug</th>\n",
       "      <th>Sep</th>\n",
       "      <th>Oct</th>\n",
       "      <th>Nov</th>\n",
       "      <th>Dec</th>\n",
       "    </tr>\n",
       "  </thead>\n",
       "  <tbody>\n",
       "    <tr>\n",
       "      <th>12</th>\n",
       "      <td>2019</td>\n",
       "      <td>1119</td>\n",
       "      <td>1143</td>\n",
       "      <td>1130</td>\n",
       "      <td>1198</td>\n",
       "      <td>1330</td>\n",
       "      <td>1117</td>\n",
       "      <td>1211</td>\n",
       "      <td>1115</td>\n",
       "      <td>1149</td>\n",
       "      <td>1123</td>\n",
       "      <td>1067</td>\n",
       "      <td>1171</td>\n",
       "    </tr>\n",
       "    <tr>\n",
       "      <th>13</th>\n",
       "      <td>2020</td>\n",
       "      <td>1081</td>\n",
       "      <td>1139</td>\n",
       "      <td>1103</td>\n",
       "      <td>1079</td>\n",
       "      <td>1118</td>\n",
       "      <td>948</td>\n",
       "      <td>983</td>\n",
       "      <td>NaN</td>\n",
       "      <td>NaN</td>\n",
       "      <td>NaN</td>\n",
       "      <td>NaN</td>\n",
       "      <td>NaN</td>\n",
       "    </tr>\n",
       "  </tbody>\n",
       "</table>\n",
       "</div>"
      ],
      "text/plain": [
       "11  Year   Jan   Feb   Mar   Apr   May   Jun   Jul   Aug   Sep   Oct   Nov  \\\n",
       "12  2019  1119  1143  1130  1198  1330  1117  1211  1115  1149  1123  1067   \n",
       "13  2020  1081  1139  1103  1079  1118   948   983   NaN   NaN   NaN   NaN   \n",
       "\n",
       "11   Dec  \n",
       "12  1171  \n",
       "13   NaN  "
      ]
     },
     "execution_count": 24,
     "metadata": {},
     "output_type": "execute_result"
    }
   ],
   "source": [
    "farm_employed_clean"
   ]
  },
  {
   "cell_type": "code",
   "execution_count": 25,
   "metadata": {},
   "outputs": [],
   "source": [
    "# creating new variable and transposing it for plotting\n",
    "farm_em_tp = farm_employed_clean.transpose()"
   ]
  },
  {
   "cell_type": "code",
   "execution_count": 26,
   "metadata": {},
   "outputs": [],
   "source": [
    "# Adding the correct header\n",
    "headers = farm_em_tp.iloc[0]\n",
    "farm_em_tp = farm_em_tp[1:] "
   ]
  },
  {
   "cell_type": "code",
   "execution_count": 27,
   "metadata": {},
   "outputs": [],
   "source": [
    "farm_em_tp.columns = headers"
   ]
  },
  {
   "cell_type": "code",
   "execution_count": 28,
   "metadata": {},
   "outputs": [],
   "source": [
    "# changing the datatype to numeric for plotting\n",
    "farm_em_tp = farm_em_tp.apply (pd.to_numeric, errors=\"ignore\")"
   ]
  },
  {
   "cell_type": "code",
   "execution_count": 29,
   "metadata": {},
   "outputs": [
    {
     "data": {
      "image/png": "[encoded data removed]",
      "text/plain": [
       "<Figure size 864x216 with 1 Axes>"
      ]
     },
     "metadata": {
      "needs_background": "light"
     },
     "output_type": "display_data"
    },
    {
     "data": {
      "text/plain": [
       "<Figure size 432x288 with 0 Axes>"
      ]
     },
     "metadata": {},
     "output_type": "display_data"
    }
   ],
   "source": [
    "# Use DataFrame.plot() in order to create a bar chart of the data\n",
    "farm_em_tp.plot(kind=\"bar\", figsize=(12,3))\n",
    "\n",
    "# Set a title for the chart\n",
    "plt.title(\"Count of Employed- Farming, Fishing and Forestry\")\n",
    "\n",
    "plt.show()\n",
    "plt.tight_layout()"
   ]
  },
  {
   "cell_type": "code",
   "execution_count": 30,
   "metadata": {},
   "outputs": [],
   "source": [
    "# Add occupation column\n",
    "# inserting column with static value in data frame \n",
    "farm_employed_clean.insert(1, \"Occupation\", \"Farming\")"
   ]
  },
  {
   "cell_type": "code",
   "execution_count": 31,
   "metadata": {},
   "outputs": [
    {
     "data": {
      "text/html": [
       "<div>\n",
       "<style scoped>\n",
       "    .dataframe tbody tr th:only-of-type {\n",
       "        vertical-align: middle;\n",
       "    }\n",
       "\n",
       "    .dataframe tbody tr th {\n",
       "        vertical-align: top;\n",
       "    }\n",
       "\n",
       "    .dataframe thead th {\n",
       "        text-align: right;\n",
       "    }\n",
       "</style>\n",
       "<table border=\"1\" class=\"dataframe\">\n",
       "  <thead>\n",
       "    <tr style=\"text-align: right;\">\n",
       "      <th>11</th>\n",
       "      <th>Year</th>\n",
       "      <th>Occupation</th>\n",
       "      <th>Jan</th>\n",
       "      <th>Feb</th>\n",
       "      <th>Mar</th>\n",
       "      <th>Apr</th>\n",
       "      <th>May</th>\n",
       "      <th>Jun</th>\n",
       "      <th>Jul</th>\n",
       "      <th>Aug</th>\n",
       "      <th>Sep</th>\n",
       "      <th>Oct</th>\n",
       "      <th>Nov</th>\n",
       "      <th>Dec</th>\n",
       "    </tr>\n",
       "  </thead>\n",
       "  <tbody>\n",
       "    <tr>\n",
       "      <th>12</th>\n",
       "      <td>2019</td>\n",
       "      <td>Farming</td>\n",
       "      <td>1119</td>\n",
       "      <td>1143</td>\n",
       "      <td>1130</td>\n",
       "      <td>1198</td>\n",
       "      <td>1330</td>\n",
       "      <td>1117</td>\n",
       "      <td>1211</td>\n",
       "      <td>1115</td>\n",
       "      <td>1149</td>\n",
       "      <td>1123</td>\n",
       "      <td>1067</td>\n",
       "      <td>1171</td>\n",
       "    </tr>\n",
       "    <tr>\n",
       "      <th>13</th>\n",
       "      <td>2020</td>\n",
       "      <td>Farming</td>\n",
       "      <td>1081</td>\n",
       "      <td>1139</td>\n",
       "      <td>1103</td>\n",
       "      <td>1079</td>\n",
       "      <td>1118</td>\n",
       "      <td>948</td>\n",
       "      <td>983</td>\n",
       "      <td>NaN</td>\n",
       "      <td>NaN</td>\n",
       "      <td>NaN</td>\n",
       "      <td>NaN</td>\n",
       "      <td>NaN</td>\n",
       "    </tr>\n",
       "  </tbody>\n",
       "</table>\n",
       "</div>"
      ],
      "text/plain": [
       "11  Year Occupation   Jan   Feb   Mar   Apr   May   Jun   Jul   Aug   Sep  \\\n",
       "12  2019    Farming  1119  1143  1130  1198  1330  1117  1211  1115  1149   \n",
       "13  2020    Farming  1081  1139  1103  1079  1118   948   983   NaN   NaN   \n",
       "\n",
       "11   Oct   Nov   Dec  \n",
       "12  1123  1067  1171  \n",
       "13   NaN   NaN   NaN  "
      ]
     },
     "execution_count": 31,
     "metadata": {},
     "output_type": "execute_result"
    }
   ],
   "source": [
    "farm_employed_clean"
   ]
  },
  {
   "cell_type": "markdown",
   "metadata": {},
   "source": [
    "## Installation, Maintenance, and Repair"
   ]
  },
  {
   "cell_type": "code",
   "execution_count": 32,
   "metadata": {},
   "outputs": [
    {
     "data": {
      "text/html": [
       "<div>\n",
       "<style scoped>\n",
       "    .dataframe tbody tr th:only-of-type {\n",
       "        vertical-align: middle;\n",
       "    }\n",
       "\n",
       "    .dataframe tbody tr th {\n",
       "        vertical-align: top;\n",
       "    }\n",
       "\n",
       "    .dataframe thead th {\n",
       "        text-align: right;\n",
       "    }\n",
       "</style>\n",
       "<table border=\"1\" class=\"dataframe\">\n",
       "  <thead>\n",
       "    <tr style=\"text-align: right;\">\n",
       "      <th></th>\n",
       "      <th>Labor Force Statistics from the Current Population Survey</th>\n",
       "      <th>Unnamed: 1</th>\n",
       "      <th>Unnamed: 2</th>\n",
       "      <th>Unnamed: 3</th>\n",
       "      <th>Unnamed: 4</th>\n",
       "      <th>Unnamed: 5</th>\n",
       "      <th>Unnamed: 6</th>\n",
       "      <th>Unnamed: 7</th>\n",
       "      <th>Unnamed: 8</th>\n",
       "      <th>Unnamed: 9</th>\n",
       "      <th>Unnamed: 10</th>\n",
       "      <th>Unnamed: 11</th>\n",
       "      <th>Unnamed: 12</th>\n",
       "    </tr>\n",
       "  </thead>\n",
       "  <tbody>\n",
       "    <tr>\n",
       "      <th>11</th>\n",
       "      <td>Year</td>\n",
       "      <td>Jan</td>\n",
       "      <td>Feb</td>\n",
       "      <td>Mar</td>\n",
       "      <td>Apr</td>\n",
       "      <td>May</td>\n",
       "      <td>Jun</td>\n",
       "      <td>Jul</td>\n",
       "      <td>Aug</td>\n",
       "      <td>Sep</td>\n",
       "      <td>Oct</td>\n",
       "      <td>Nov</td>\n",
       "      <td>Dec</td>\n",
       "    </tr>\n",
       "    <tr>\n",
       "      <th>12</th>\n",
       "      <td>2019</td>\n",
       "      <td>4705</td>\n",
       "      <td>4549</td>\n",
       "      <td>4562</td>\n",
       "      <td>4669</td>\n",
       "      <td>4901</td>\n",
       "      <td>4938</td>\n",
       "      <td>4948</td>\n",
       "      <td>5019</td>\n",
       "      <td>5037</td>\n",
       "      <td>4901</td>\n",
       "      <td>5101</td>\n",
       "      <td>5016</td>\n",
       "    </tr>\n",
       "    <tr>\n",
       "      <th>13</th>\n",
       "      <td>2020</td>\n",
       "      <td>4827</td>\n",
       "      <td>4918</td>\n",
       "      <td>4786</td>\n",
       "      <td>4199</td>\n",
       "      <td>4372</td>\n",
       "      <td>4460</td>\n",
       "      <td>4524</td>\n",
       "      <td>NaN</td>\n",
       "      <td>NaN</td>\n",
       "      <td>NaN</td>\n",
       "      <td>NaN</td>\n",
       "      <td>NaN</td>\n",
       "    </tr>\n",
       "  </tbody>\n",
       "</table>\n",
       "</div>"
      ],
      "text/plain": [
       "   Labor Force Statistics from the Current Population Survey Unnamed: 1  \\\n",
       "11                                               Year               Jan   \n",
       "12                                               2019              4705   \n",
       "13                                               2020              4827   \n",
       "\n",
       "   Unnamed: 2 Unnamed: 3 Unnamed: 4 Unnamed: 5 Unnamed: 6 Unnamed: 7  \\\n",
       "11        Feb        Mar        Apr        May        Jun        Jul   \n",
       "12       4549       4562       4669       4901       4938       4948   \n",
       "13       4918       4786       4199       4372       4460       4524   \n",
       "\n",
       "   Unnamed: 8 Unnamed: 9 Unnamed: 10 Unnamed: 11 Unnamed: 12  \n",
       "11        Aug        Sep         Oct         Nov         Dec  \n",
       "12       5019       5037        4901        5101        5016  \n",
       "13        NaN        NaN         NaN         NaN         NaN  "
      ]
     },
     "execution_count": 32,
     "metadata": {},
     "output_type": "execute_result"
    }
   ],
   "source": [
    "# #removing extra rows and columns\n",
    "inst_employed_clean = inst_employed.drop(inst_employed.index[[0,1,2,3,4,5,6,7,8,9,10]])\n",
    "inst_employed_clean"
   ]
  },
  {
   "cell_type": "code",
   "execution_count": 33,
   "metadata": {},
   "outputs": [],
   "source": [
    "# Adding the correct header\n",
    "headers = inst_employed_clean.iloc[0]\n",
    "inst_employed_clean = inst_employed_clean[1:] "
   ]
  },
  {
   "cell_type": "code",
   "execution_count": 34,
   "metadata": {},
   "outputs": [],
   "source": [
    "inst_employed_clean.columns = headers"
   ]
  },
  {
   "cell_type": "code",
   "execution_count": 35,
   "metadata": {},
   "outputs": [
    {
     "data": {
      "text/html": [
       "<div>\n",
       "<style scoped>\n",
       "    .dataframe tbody tr th:only-of-type {\n",
       "        vertical-align: middle;\n",
       "    }\n",
       "\n",
       "    .dataframe tbody tr th {\n",
       "        vertical-align: top;\n",
       "    }\n",
       "\n",
       "    .dataframe thead th {\n",
       "        text-align: right;\n",
       "    }\n",
       "</style>\n",
       "<table border=\"1\" class=\"dataframe\">\n",
       "  <thead>\n",
       "    <tr style=\"text-align: right;\">\n",
       "      <th>11</th>\n",
       "      <th>Year</th>\n",
       "      <th>Jan</th>\n",
       "      <th>Feb</th>\n",
       "      <th>Mar</th>\n",
       "      <th>Apr</th>\n",
       "      <th>May</th>\n",
       "      <th>Jun</th>\n",
       "      <th>Jul</th>\n",
       "      <th>Aug</th>\n",
       "      <th>Sep</th>\n",
       "      <th>Oct</th>\n",
       "      <th>Nov</th>\n",
       "      <th>Dec</th>\n",
       "    </tr>\n",
       "  </thead>\n",
       "  <tbody>\n",
       "    <tr>\n",
       "      <th>12</th>\n",
       "      <td>2019</td>\n",
       "      <td>4705</td>\n",
       "      <td>4549</td>\n",
       "      <td>4562</td>\n",
       "      <td>4669</td>\n",
       "      <td>4901</td>\n",
       "      <td>4938</td>\n",
       "      <td>4948</td>\n",
       "      <td>5019</td>\n",
       "      <td>5037</td>\n",
       "      <td>4901</td>\n",
       "      <td>5101</td>\n",
       "      <td>5016</td>\n",
       "    </tr>\n",
       "    <tr>\n",
       "      <th>13</th>\n",
       "      <td>2020</td>\n",
       "      <td>4827</td>\n",
       "      <td>4918</td>\n",
       "      <td>4786</td>\n",
       "      <td>4199</td>\n",
       "      <td>4372</td>\n",
       "      <td>4460</td>\n",
       "      <td>4524</td>\n",
       "      <td>NaN</td>\n",
       "      <td>NaN</td>\n",
       "      <td>NaN</td>\n",
       "      <td>NaN</td>\n",
       "      <td>NaN</td>\n",
       "    </tr>\n",
       "  </tbody>\n",
       "</table>\n",
       "</div>"
      ],
      "text/plain": [
       "11  Year   Jan   Feb   Mar   Apr   May   Jun   Jul   Aug   Sep   Oct   Nov  \\\n",
       "12  2019  4705  4549  4562  4669  4901  4938  4948  5019  5037  4901  5101   \n",
       "13  2020  4827  4918  4786  4199  4372  4460  4524   NaN   NaN   NaN   NaN   \n",
       "\n",
       "11   Dec  \n",
       "12  5016  \n",
       "13   NaN  "
      ]
     },
     "execution_count": 35,
     "metadata": {},
     "output_type": "execute_result"
    }
   ],
   "source": [
    "inst_employed_clean"
   ]
  },
  {
   "cell_type": "code",
   "execution_count": 36,
   "metadata": {},
   "outputs": [],
   "source": [
    "# creating new variable and transposing it for plotting\n",
    "inst_em_tp = inst_employed_clean.transpose()"
   ]
  },
  {
   "cell_type": "code",
   "execution_count": 37,
   "metadata": {},
   "outputs": [],
   "source": [
    "# Adding the correct header\n",
    "headers = inst_em_tp.iloc[0]\n",
    "inst_em_tp = inst_em_tp[1:] "
   ]
  },
  {
   "cell_type": "code",
   "execution_count": 38,
   "metadata": {},
   "outputs": [],
   "source": [
    "inst_em_tp.columns = headers"
   ]
  },
  {
   "cell_type": "code",
   "execution_count": 39,
   "metadata": {},
   "outputs": [],
   "source": [
    "# changing the datatype to numeric for plotting\n",
    "inst_em_tp = inst_em_tp.apply (pd.to_numeric, errors=\"ignore\")"
   ]
  },
  {
   "cell_type": "code",
   "execution_count": 55,
   "metadata": {},
   "outputs": [
    {
     "data": {
      "image/png": "[encoded data removed]",
      "text/plain": [
       "<Figure size 864x216 with 1 Axes>"
      ]
     },
     "metadata": {
      "needs_background": "light"
     },
     "output_type": "display_data"
    },
    {
     "data": {
      "text/plain": [
       "<Figure size 432x288 with 0 Axes>"
      ]
     },
     "metadata": {},
     "output_type": "display_data"
    }
   ],
   "source": [
    "# Use DataFrame.plot() in order to create a bar chart of the data\n",
    "inst_em_tp.plot(kind=\"bar\", figsize=(12,3))\n",
    "\n",
    "# Set a title for the chart\n",
    "plt.title(\"Count of Employed - Installation, Maintenance, and Repair\")\n",
    "\n",
    "plt.show()\n",
    "plt.tight_layout()"
   ]
  },
  {
   "cell_type": "code",
   "execution_count": 41,
   "metadata": {},
   "outputs": [],
   "source": [
    "# Add occupation column\n",
    "# inserting column with static value in data frame \n",
    "inst_employed_clean.insert(1, \"Occupation\", \"Installation\")"
   ]
  },
  {
   "cell_type": "code",
   "execution_count": 42,
   "metadata": {},
   "outputs": [
    {
     "data": {
      "text/html": [
       "<div>\n",
       "<style scoped>\n",
       "    .dataframe tbody tr th:only-of-type {\n",
       "        vertical-align: middle;\n",
       "    }\n",
       "\n",
       "    .dataframe tbody tr th {\n",
       "        vertical-align: top;\n",
       "    }\n",
       "\n",
       "    .dataframe thead th {\n",
       "        text-align: right;\n",
       "    }\n",
       "</style>\n",
       "<table border=\"1\" class=\"dataframe\">\n",
       "  <thead>\n",
       "    <tr style=\"text-align: right;\">\n",
       "      <th>11</th>\n",
       "      <th>Year</th>\n",
       "      <th>Occupation</th>\n",
       "      <th>Jan</th>\n",
       "      <th>Feb</th>\n",
       "      <th>Mar</th>\n",
       "      <th>Apr</th>\n",
       "      <th>May</th>\n",
       "      <th>Jun</th>\n",
       "      <th>Jul</th>\n",
       "      <th>Aug</th>\n",
       "      <th>Sep</th>\n",
       "      <th>Oct</th>\n",
       "      <th>Nov</th>\n",
       "      <th>Dec</th>\n",
       "    </tr>\n",
       "  </thead>\n",
       "  <tbody>\n",
       "    <tr>\n",
       "      <th>12</th>\n",
       "      <td>2019</td>\n",
       "      <td>Installation</td>\n",
       "      <td>4705</td>\n",
       "      <td>4549</td>\n",
       "      <td>4562</td>\n",
       "      <td>4669</td>\n",
       "      <td>4901</td>\n",
       "      <td>4938</td>\n",
       "      <td>4948</td>\n",
       "      <td>5019</td>\n",
       "      <td>5037</td>\n",
       "      <td>4901</td>\n",
       "      <td>5101</td>\n",
       "      <td>5016</td>\n",
       "    </tr>\n",
       "    <tr>\n",
       "      <th>13</th>\n",
       "      <td>2020</td>\n",
       "      <td>Installation</td>\n",
       "      <td>4827</td>\n",
       "      <td>4918</td>\n",
       "      <td>4786</td>\n",
       "      <td>4199</td>\n",
       "      <td>4372</td>\n",
       "      <td>4460</td>\n",
       "      <td>4524</td>\n",
       "      <td>NaN</td>\n",
       "      <td>NaN</td>\n",
       "      <td>NaN</td>\n",
       "      <td>NaN</td>\n",
       "      <td>NaN</td>\n",
       "    </tr>\n",
       "  </tbody>\n",
       "</table>\n",
       "</div>"
      ],
      "text/plain": [
       "11  Year    Occupation   Jan   Feb   Mar   Apr   May   Jun   Jul   Aug   Sep  \\\n",
       "12  2019  Installation  4705  4549  4562  4669  4901  4938  4948  5019  5037   \n",
       "13  2020  Installation  4827  4918  4786  4199  4372  4460  4524   NaN   NaN   \n",
       "\n",
       "11   Oct   Nov   Dec  \n",
       "12  4901  5101  5016  \n",
       "13   NaN   NaN   NaN  "
      ]
     },
     "execution_count": 42,
     "metadata": {},
     "output_type": "execute_result"
    }
   ],
   "source": [
    "inst_employed_clean"
   ]
  },
  {
   "cell_type": "markdown",
   "metadata": {},
   "source": [
    "## Management, business, and financial operations"
   ]
  },
  {
   "cell_type": "code",
   "execution_count": 43,
   "metadata": {},
   "outputs": [
    {
     "data": {
      "text/html": [
       "<div>\n",
       "<style scoped>\n",
       "    .dataframe tbody tr th:only-of-type {\n",
       "        vertical-align: middle;\n",
       "    }\n",
       "\n",
       "    .dataframe tbody tr th {\n",
       "        vertical-align: top;\n",
       "    }\n",
       "\n",
       "    .dataframe thead th {\n",
       "        text-align: right;\n",
       "    }\n",
       "</style>\n",
       "<table border=\"1\" class=\"dataframe\">\n",
       "  <thead>\n",
       "    <tr style=\"text-align: right;\">\n",
       "      <th></th>\n",
       "      <th>Labor Force Statistics from the Current Population Survey</th>\n",
       "      <th>Unnamed: 1</th>\n",
       "      <th>Unnamed: 2</th>\n",
       "      <th>Unnamed: 3</th>\n",
       "      <th>Unnamed: 4</th>\n",
       "      <th>Unnamed: 5</th>\n",
       "      <th>Unnamed: 6</th>\n",
       "      <th>Unnamed: 7</th>\n",
       "      <th>Unnamed: 8</th>\n",
       "      <th>Unnamed: 9</th>\n",
       "      <th>Unnamed: 10</th>\n",
       "      <th>Unnamed: 11</th>\n",
       "      <th>Unnamed: 12</th>\n",
       "    </tr>\n",
       "  </thead>\n",
       "  <tbody>\n",
       "    <tr>\n",
       "      <th>11</th>\n",
       "      <td>Year</td>\n",
       "      <td>Jan</td>\n",
       "      <td>Feb</td>\n",
       "      <td>Mar</td>\n",
       "      <td>Apr</td>\n",
       "      <td>May</td>\n",
       "      <td>Jun</td>\n",
       "      <td>Jul</td>\n",
       "      <td>Aug</td>\n",
       "      <td>Sep</td>\n",
       "      <td>Oct</td>\n",
       "      <td>Nov</td>\n",
       "      <td>Dec</td>\n",
       "    </tr>\n",
       "    <tr>\n",
       "      <th>12</th>\n",
       "      <td>2019</td>\n",
       "      <td>26733</td>\n",
       "      <td>26562</td>\n",
       "      <td>26898</td>\n",
       "      <td>26645</td>\n",
       "      <td>26534</td>\n",
       "      <td>26844</td>\n",
       "      <td>26877</td>\n",
       "      <td>26717</td>\n",
       "      <td>27218</td>\n",
       "      <td>27517</td>\n",
       "      <td>27476</td>\n",
       "      <td>27748</td>\n",
       "    </tr>\n",
       "    <tr>\n",
       "      <th>13</th>\n",
       "      <td>2020</td>\n",
       "      <td>27498</td>\n",
       "      <td>27866</td>\n",
       "      <td>27958</td>\n",
       "      <td>26437</td>\n",
       "      <td>26592</td>\n",
       "      <td>26915</td>\n",
       "      <td>26904</td>\n",
       "      <td>NaN</td>\n",
       "      <td>NaN</td>\n",
       "      <td>NaN</td>\n",
       "      <td>NaN</td>\n",
       "      <td>NaN</td>\n",
       "    </tr>\n",
       "  </tbody>\n",
       "</table>\n",
       "</div>"
      ],
      "text/plain": [
       "   Labor Force Statistics from the Current Population Survey Unnamed: 1  \\\n",
       "11                                               Year               Jan   \n",
       "12                                               2019             26733   \n",
       "13                                               2020             27498   \n",
       "\n",
       "   Unnamed: 2 Unnamed: 3 Unnamed: 4 Unnamed: 5 Unnamed: 6 Unnamed: 7  \\\n",
       "11        Feb        Mar        Apr        May        Jun        Jul   \n",
       "12      26562      26898      26645      26534      26844      26877   \n",
       "13      27866      27958      26437      26592      26915      26904   \n",
       "\n",
       "   Unnamed: 8 Unnamed: 9 Unnamed: 10 Unnamed: 11 Unnamed: 12  \n",
       "11        Aug        Sep         Oct         Nov         Dec  \n",
       "12      26717      27218       27517       27476       27748  \n",
       "13        NaN        NaN         NaN         NaN         NaN  "
      ]
     },
     "execution_count": 43,
     "metadata": {},
     "output_type": "execute_result"
    }
   ],
   "source": [
    "# #removing extra rows and columns\n",
    "fina_employed_clean = fina_employed.drop(fina_employed.index[[0,1,2,3,4,5,6,7,8,9,10]])\n",
    "fina_employed_clean"
   ]
  },
  {
   "cell_type": "code",
   "execution_count": 44,
   "metadata": {},
   "outputs": [],
   "source": [
    "# Adding the correct header\n",
    "headers = fina_employed_clean.iloc[0]\n",
    "fina_employed_clean = fina_employed_clean[1:] "
   ]
  },
  {
   "cell_type": "code",
   "execution_count": 45,
   "metadata": {},
   "outputs": [],
   "source": [
    "fina_employed_clean.columns = headers"
   ]
  },
  {
   "cell_type": "code",
   "execution_count": 46,
   "metadata": {},
   "outputs": [
    {
     "data": {
      "text/html": [
       "<div>\n",
       "<style scoped>\n",
       "    .dataframe tbody tr th:only-of-type {\n",
       "        vertical-align: middle;\n",
       "    }\n",
       "\n",
       "    .dataframe tbody tr th {\n",
       "        vertical-align: top;\n",
       "    }\n",
       "\n",
       "    .dataframe thead th {\n",
       "        text-align: right;\n",
       "    }\n",
       "</style>\n",
       "<table border=\"1\" class=\"dataframe\">\n",
       "  <thead>\n",
       "    <tr style=\"text-align: right;\">\n",
       "      <th>11</th>\n",
       "      <th>Year</th>\n",
       "      <th>Jan</th>\n",
       "      <th>Feb</th>\n",
       "      <th>Mar</th>\n",
       "      <th>Apr</th>\n",
       "      <th>May</th>\n",
       "      <th>Jun</th>\n",
       "      <th>Jul</th>\n",
       "      <th>Aug</th>\n",
       "      <th>Sep</th>\n",
       "      <th>Oct</th>\n",
       "      <th>Nov</th>\n",
       "      <th>Dec</th>\n",
       "    </tr>\n",
       "  </thead>\n",
       "  <tbody>\n",
       "    <tr>\n",
       "      <th>12</th>\n",
       "      <td>2019</td>\n",
       "      <td>26733</td>\n",
       "      <td>26562</td>\n",
       "      <td>26898</td>\n",
       "      <td>26645</td>\n",
       "      <td>26534</td>\n",
       "      <td>26844</td>\n",
       "      <td>26877</td>\n",
       "      <td>26717</td>\n",
       "      <td>27218</td>\n",
       "      <td>27517</td>\n",
       "      <td>27476</td>\n",
       "      <td>27748</td>\n",
       "    </tr>\n",
       "    <tr>\n",
       "      <th>13</th>\n",
       "      <td>2020</td>\n",
       "      <td>27498</td>\n",
       "      <td>27866</td>\n",
       "      <td>27958</td>\n",
       "      <td>26437</td>\n",
       "      <td>26592</td>\n",
       "      <td>26915</td>\n",
       "      <td>26904</td>\n",
       "      <td>NaN</td>\n",
       "      <td>NaN</td>\n",
       "      <td>NaN</td>\n",
       "      <td>NaN</td>\n",
       "      <td>NaN</td>\n",
       "    </tr>\n",
       "  </tbody>\n",
       "</table>\n",
       "</div>"
      ],
      "text/plain": [
       "11  Year    Jan    Feb    Mar    Apr    May    Jun    Jul    Aug    Sep  \\\n",
       "12  2019  26733  26562  26898  26645  26534  26844  26877  26717  27218   \n",
       "13  2020  27498  27866  27958  26437  26592  26915  26904    NaN    NaN   \n",
       "\n",
       "11    Oct    Nov    Dec  \n",
       "12  27517  27476  27748  \n",
       "13    NaN    NaN    NaN  "
      ]
     },
     "execution_count": 46,
     "metadata": {},
     "output_type": "execute_result"
    }
   ],
   "source": [
    "fina_employed_clean"
   ]
  },
  {
   "cell_type": "code",
   "execution_count": 47,
   "metadata": {},
   "outputs": [],
   "source": [
    "# creating new variable and transposing it for plotting\n",
    "fina_em_tp = fina_employed_clean.transpose()"
   ]
  },
  {
   "cell_type": "code",
   "execution_count": 48,
   "metadata": {},
   "outputs": [],
   "source": [
    "# Adding the correct header\n",
    "headers = fina_em_tp.iloc[0]\n",
    "fina_em_tp = fina_em_tp[1:] "
   ]
  },
  {
   "cell_type": "code",
   "execution_count": 49,
   "metadata": {},
   "outputs": [],
   "source": [
    "fina_em_tp.columns = headers"
   ]
  },
  {
   "cell_type": "code",
   "execution_count": 50,
   "metadata": {},
   "outputs": [],
   "source": [
    "# changing the datatype to numeric for plotting\n",
    "fina_em_tp = fina_em_tp.apply (pd.to_numeric, errors=\"ignore\")"
   ]
  },
  {
   "cell_type": "code",
   "execution_count": 54,
   "metadata": {},
   "outputs": [
    {
     "data": {
      "image/png": "[encoded data removed]",
      "text/plain": [
       "<Figure size 864x216 with 1 Axes>"
      ]
     },
     "metadata": {
      "needs_background": "light"
     },
     "output_type": "display_data"
    },
    {
     "data": {
      "text/plain": [
       "<Figure size 432x288 with 0 Axes>"
      ]
     },
     "metadata": {},
     "output_type": "display_data"
    }
   ],
   "source": [
    "# Use DataFrame.plot() in order to create a bar chart of the data\n",
    "fina_em_tp.plot(kind=\"bar\", figsize=(12,3))\n",
    "\n",
    "# Set a title for the chart\n",
    "plt.title(\"Count of Employed - Management,Business, and Financial Operations\")\n",
    "\n",
    "plt.show()\n",
    "plt.tight_layout()"
   ]
  },
  {
   "cell_type": "code",
   "execution_count": 52,
   "metadata": {},
   "outputs": [],
   "source": [
    "# Add occupation column\n",
    "# inserting column with static value in data frame \n",
    "fina_employed_clean.insert(1, \"Occupation\", \"Finance\")"
   ]
  },
  {
   "cell_type": "code",
   "execution_count": 53,
   "metadata": {},
   "outputs": [
    {
     "data": {
      "text/html": [
       "<div>\n",
       "<style scoped>\n",
       "    .dataframe tbody tr th:only-of-type {\n",
       "        vertical-align: middle;\n",
       "    }\n",
       "\n",
       "    .dataframe tbody tr th {\n",
       "        vertical-align: top;\n",
       "    }\n",
       "\n",
       "    .dataframe thead th {\n",
       "        text-align: right;\n",
       "    }\n",
       "</style>\n",
       "<table border=\"1\" class=\"dataframe\">\n",
       "  <thead>\n",
       "    <tr style=\"text-align: right;\">\n",
       "      <th>11</th>\n",
       "      <th>Year</th>\n",
       "      <th>Occupation</th>\n",
       "      <th>Jan</th>\n",
       "      <th>Feb</th>\n",
       "      <th>Mar</th>\n",
       "      <th>Apr</th>\n",
       "      <th>May</th>\n",
       "      <th>Jun</th>\n",
       "      <th>Jul</th>\n",
       "      <th>Aug</th>\n",
       "      <th>Sep</th>\n",
       "      <th>Oct</th>\n",
       "      <th>Nov</th>\n",
       "      <th>Dec</th>\n",
       "    </tr>\n",
       "  </thead>\n",
       "  <tbody>\n",
       "    <tr>\n",
       "      <th>12</th>\n",
       "      <td>2019</td>\n",
       "      <td>Finance</td>\n",
       "      <td>26733</td>\n",
       "      <td>26562</td>\n",
       "      <td>26898</td>\n",
       "      <td>26645</td>\n",
       "      <td>26534</td>\n",
       "      <td>26844</td>\n",
       "      <td>26877</td>\n",
       "      <td>26717</td>\n",
       "      <td>27218</td>\n",
       "      <td>27517</td>\n",
       "      <td>27476</td>\n",
       "      <td>27748</td>\n",
       "    </tr>\n",
       "    <tr>\n",
       "      <th>13</th>\n",
       "      <td>2020</td>\n",
       "      <td>Finance</td>\n",
       "      <td>27498</td>\n",
       "      <td>27866</td>\n",
       "      <td>27958</td>\n",
       "      <td>26437</td>\n",
       "      <td>26592</td>\n",
       "      <td>26915</td>\n",
       "      <td>26904</td>\n",
       "      <td>NaN</td>\n",
       "      <td>NaN</td>\n",
       "      <td>NaN</td>\n",
       "      <td>NaN</td>\n",
       "      <td>NaN</td>\n",
       "    </tr>\n",
       "  </tbody>\n",
       "</table>\n",
       "</div>"
      ],
      "text/plain": [
       "11  Year Occupation    Jan    Feb    Mar    Apr    May    Jun    Jul    Aug  \\\n",
       "12  2019    Finance  26733  26562  26898  26645  26534  26844  26877  26717   \n",
       "13  2020    Finance  27498  27866  27958  26437  26592  26915  26904    NaN   \n",
       "\n",
       "11    Sep    Oct    Nov    Dec  \n",
       "12  27218  27517  27476  27748  \n",
       "13    NaN    NaN    NaN    NaN  "
      ]
     },
     "execution_count": 53,
     "metadata": {},
     "output_type": "execute_result"
    }
   ],
   "source": [
    "fina_employed_clean"
   ]
  },
  {
   "cell_type": "markdown",
   "metadata": {},
   "source": [
    "## Office and Administrative Support"
   ]
  },
  {
   "cell_type": "code",
   "execution_count": 56,
   "metadata": {},
   "outputs": [
    {
     "data": {
      "text/html": [
       "<div>\n",
       "<style scoped>\n",
       "    .dataframe tbody tr th:only-of-type {\n",
       "        vertical-align: middle;\n",
       "    }\n",
       "\n",
       "    .dataframe tbody tr th {\n",
       "        vertical-align: top;\n",
       "    }\n",
       "\n",
       "    .dataframe thead th {\n",
       "        text-align: right;\n",
       "    }\n",
       "</style>\n",
       "<table border=\"1\" class=\"dataframe\">\n",
       "  <thead>\n",
       "    <tr style=\"text-align: right;\">\n",
       "      <th></th>\n",
       "      <th>Labor Force Statistics from the Current Population Survey</th>\n",
       "      <th>Unnamed: 1</th>\n",
       "      <th>Unnamed: 2</th>\n",
       "      <th>Unnamed: 3</th>\n",
       "      <th>Unnamed: 4</th>\n",
       "      <th>Unnamed: 5</th>\n",
       "      <th>Unnamed: 6</th>\n",
       "      <th>Unnamed: 7</th>\n",
       "      <th>Unnamed: 8</th>\n",
       "      <th>Unnamed: 9</th>\n",
       "      <th>Unnamed: 10</th>\n",
       "      <th>Unnamed: 11</th>\n",
       "      <th>Unnamed: 12</th>\n",
       "    </tr>\n",
       "  </thead>\n",
       "  <tbody>\n",
       "    <tr>\n",
       "      <th>11</th>\n",
       "      <td>Year</td>\n",
       "      <td>Jan</td>\n",
       "      <td>Feb</td>\n",
       "      <td>Mar</td>\n",
       "      <td>Apr</td>\n",
       "      <td>May</td>\n",
       "      <td>Jun</td>\n",
       "      <td>Jul</td>\n",
       "      <td>Aug</td>\n",
       "      <td>Sep</td>\n",
       "      <td>Oct</td>\n",
       "      <td>Nov</td>\n",
       "      <td>Dec</td>\n",
       "    </tr>\n",
       "    <tr>\n",
       "      <th>12</th>\n",
       "      <td>2019</td>\n",
       "      <td>17721</td>\n",
       "      <td>17908</td>\n",
       "      <td>17685</td>\n",
       "      <td>18084</td>\n",
       "      <td>17568</td>\n",
       "      <td>17620</td>\n",
       "      <td>17688</td>\n",
       "      <td>17707</td>\n",
       "      <td>17942</td>\n",
       "      <td>18005</td>\n",
       "      <td>17766</td>\n",
       "      <td>17769</td>\n",
       "    </tr>\n",
       "    <tr>\n",
       "      <th>13</th>\n",
       "      <td>2020</td>\n",
       "      <td>15984</td>\n",
       "      <td>16296</td>\n",
       "      <td>16294</td>\n",
       "      <td>14328</td>\n",
       "      <td>14497</td>\n",
       "      <td>15027</td>\n",
       "      <td>15268</td>\n",
       "      <td>NaN</td>\n",
       "      <td>NaN</td>\n",
       "      <td>NaN</td>\n",
       "      <td>NaN</td>\n",
       "      <td>NaN</td>\n",
       "    </tr>\n",
       "  </tbody>\n",
       "</table>\n",
       "</div>"
      ],
      "text/plain": [
       "   Labor Force Statistics from the Current Population Survey Unnamed: 1  \\\n",
       "11                                               Year               Jan   \n",
       "12                                               2019             17721   \n",
       "13                                               2020             15984   \n",
       "\n",
       "   Unnamed: 2 Unnamed: 3 Unnamed: 4 Unnamed: 5 Unnamed: 6 Unnamed: 7  \\\n",
       "11        Feb        Mar        Apr        May        Jun        Jul   \n",
       "12      17908      17685      18084      17568      17620      17688   \n",
       "13      16296      16294      14328      14497      15027      15268   \n",
       "\n",
       "   Unnamed: 8 Unnamed: 9 Unnamed: 10 Unnamed: 11 Unnamed: 12  \n",
       "11        Aug        Sep         Oct         Nov         Dec  \n",
       "12      17707      17942       18005       17766       17769  \n",
       "13        NaN        NaN         NaN         NaN         NaN  "
      ]
     },
     "execution_count": 56,
     "metadata": {},
     "output_type": "execute_result"
    }
   ],
   "source": [
    "# #removing extra rows and columns\n",
    "offi_employed_clean = offi_employed.drop(offi_employed.index[[0,1,2,3,4,5,6,7,8,9,10]]) \n",
    "offi_employed_clean"
   ]
  },
  {
   "cell_type": "code",
   "execution_count": 57,
   "metadata": {},
   "outputs": [],
   "source": [
    "# Adding the correct header\n",
    "headers = offi_employed_clean.iloc[0]\n",
    "offi_employed_clean = offi_employed_clean[1:] "
   ]
  },
  {
   "cell_type": "code",
   "execution_count": 58,
   "metadata": {},
   "outputs": [],
   "source": [
    "offi_employed_clean.columns = headers"
   ]
  },
  {
   "cell_type": "code",
   "execution_count": 59,
   "metadata": {},
   "outputs": [
    {
     "data": {
      "text/html": [
       "<div>\n",
       "<style scoped>\n",
       "    .dataframe tbody tr th:only-of-type {\n",
       "        vertical-align: middle;\n",
       "    }\n",
       "\n",
       "    .dataframe tbody tr th {\n",
       "        vertical-align: top;\n",
       "    }\n",
       "\n",
       "    .dataframe thead th {\n",
       "        text-align: right;\n",
       "    }\n",
       "</style>\n",
       "<table border=\"1\" class=\"dataframe\">\n",
       "  <thead>\n",
       "    <tr style=\"text-align: right;\">\n",
       "      <th>11</th>\n",
       "      <th>Year</th>\n",
       "      <th>Jan</th>\n",
       "      <th>Feb</th>\n",
       "      <th>Mar</th>\n",
       "      <th>Apr</th>\n",
       "      <th>May</th>\n",
       "      <th>Jun</th>\n",
       "      <th>Jul</th>\n",
       "      <th>Aug</th>\n",
       "      <th>Sep</th>\n",
       "      <th>Oct</th>\n",
       "      <th>Nov</th>\n",
       "      <th>Dec</th>\n",
       "    </tr>\n",
       "  </thead>\n",
       "  <tbody>\n",
       "    <tr>\n",
       "      <th>12</th>\n",
       "      <td>2019</td>\n",
       "      <td>17721</td>\n",
       "      <td>17908</td>\n",
       "      <td>17685</td>\n",
       "      <td>18084</td>\n",
       "      <td>17568</td>\n",
       "      <td>17620</td>\n",
       "      <td>17688</td>\n",
       "      <td>17707</td>\n",
       "      <td>17942</td>\n",
       "      <td>18005</td>\n",
       "      <td>17766</td>\n",
       "      <td>17769</td>\n",
       "    </tr>\n",
       "    <tr>\n",
       "      <th>13</th>\n",
       "      <td>2020</td>\n",
       "      <td>15984</td>\n",
       "      <td>16296</td>\n",
       "      <td>16294</td>\n",
       "      <td>14328</td>\n",
       "      <td>14497</td>\n",
       "      <td>15027</td>\n",
       "      <td>15268</td>\n",
       "      <td>NaN</td>\n",
       "      <td>NaN</td>\n",
       "      <td>NaN</td>\n",
       "      <td>NaN</td>\n",
       "      <td>NaN</td>\n",
       "    </tr>\n",
       "  </tbody>\n",
       "</table>\n",
       "</div>"
      ],
      "text/plain": [
       "11  Year    Jan    Feb    Mar    Apr    May    Jun    Jul    Aug    Sep  \\\n",
       "12  2019  17721  17908  17685  18084  17568  17620  17688  17707  17942   \n",
       "13  2020  15984  16296  16294  14328  14497  15027  15268    NaN    NaN   \n",
       "\n",
       "11    Oct    Nov    Dec  \n",
       "12  18005  17766  17769  \n",
       "13    NaN    NaN    NaN  "
      ]
     },
     "execution_count": 59,
     "metadata": {},
     "output_type": "execute_result"
    }
   ],
   "source": [
    "offi_employed_clean"
   ]
  },
  {
   "cell_type": "code",
   "execution_count": 60,
   "metadata": {},
   "outputs": [],
   "source": [
    "# creating new variable and transposing it for plotting\n",
    "offi_em_tp = offi_employed_clean.transpose()"
   ]
  },
  {
   "cell_type": "code",
   "execution_count": 61,
   "metadata": {},
   "outputs": [],
   "source": [
    "# Adding the correct header\n",
    "headers = offi_em_tp.iloc[0]\n",
    "offi_em_tp = offi_em_tp[1:] "
   ]
  },
  {
   "cell_type": "code",
   "execution_count": 62,
   "metadata": {},
   "outputs": [],
   "source": [
    "offi_em_tp.columns = headers"
   ]
  },
  {
   "cell_type": "code",
   "execution_count": 63,
   "metadata": {},
   "outputs": [],
   "source": [
    "# changing the datatype to numeric for plotting\n",
    "offi_em_tp = offi_em_tp.apply (pd.to_numeric, errors=\"ignore\")"
   ]
  },
  {
   "cell_type": "code",
   "execution_count": 64,
   "metadata": {},
   "outputs": [
    {
     "data": {
      "image/png": "[encoded data removed]",
      "text/plain": [
       "<Figure size 864x216 with 1 Axes>"
      ]
     },
     "metadata": {
      "needs_background": "light"
     },
     "output_type": "display_data"
    },
    {
     "data": {
      "text/plain": [
       "<Figure size 432x288 with 0 Axes>"
      ]
     },
     "metadata": {},
     "output_type": "display_data"
    }
   ],
   "source": [
    "# Use DataFrame.plot() in order to create a bar chart of the data\n",
    "offi_em_tp.plot(kind=\"bar\", figsize=(12,3))\n",
    "\n",
    "# Set a title for the chart\n",
    "plt.title(\"Count of Employed - Office and Aministrative Support\")\n",
    "\n",
    "plt.show()\n",
    "plt.tight_layout()"
   ]
  },
  {
   "cell_type": "code",
   "execution_count": 65,
   "metadata": {},
   "outputs": [],
   "source": [
    "# Add occupation column\n",
    "# inserting column with static value in data frame \n",
    "offi_employed_clean.insert(1, \"Occupation\", \"Office\")"
   ]
  },
  {
   "cell_type": "code",
   "execution_count": 66,
   "metadata": {},
   "outputs": [
    {
     "data": {
      "text/html": [
       "<div>\n",
       "<style scoped>\n",
       "    .dataframe tbody tr th:only-of-type {\n",
       "        vertical-align: middle;\n",
       "    }\n",
       "\n",
       "    .dataframe tbody tr th {\n",
       "        vertical-align: top;\n",
       "    }\n",
       "\n",
       "    .dataframe thead th {\n",
       "        text-align: right;\n",
       "    }\n",
       "</style>\n",
       "<table border=\"1\" class=\"dataframe\">\n",
       "  <thead>\n",
       "    <tr style=\"text-align: right;\">\n",
       "      <th>11</th>\n",
       "      <th>Year</th>\n",
       "      <th>Occupation</th>\n",
       "      <th>Jan</th>\n",
       "      <th>Feb</th>\n",
       "      <th>Mar</th>\n",
       "      <th>Apr</th>\n",
       "      <th>May</th>\n",
       "      <th>Jun</th>\n",
       "      <th>Jul</th>\n",
       "      <th>Aug</th>\n",
       "      <th>Sep</th>\n",
       "      <th>Oct</th>\n",
       "      <th>Nov</th>\n",
       "      <th>Dec</th>\n",
       "    </tr>\n",
       "  </thead>\n",
       "  <tbody>\n",
       "    <tr>\n",
       "      <th>12</th>\n",
       "      <td>2019</td>\n",
       "      <td>Office</td>\n",
       "      <td>17721</td>\n",
       "      <td>17908</td>\n",
       "      <td>17685</td>\n",
       "      <td>18084</td>\n",
       "      <td>17568</td>\n",
       "      <td>17620</td>\n",
       "      <td>17688</td>\n",
       "      <td>17707</td>\n",
       "      <td>17942</td>\n",
       "      <td>18005</td>\n",
       "      <td>17766</td>\n",
       "      <td>17769</td>\n",
       "    </tr>\n",
       "    <tr>\n",
       "      <th>13</th>\n",
       "      <td>2020</td>\n",
       "      <td>Office</td>\n",
       "      <td>15984</td>\n",
       "      <td>16296</td>\n",
       "      <td>16294</td>\n",
       "      <td>14328</td>\n",
       "      <td>14497</td>\n",
       "      <td>15027</td>\n",
       "      <td>15268</td>\n",
       "      <td>NaN</td>\n",
       "      <td>NaN</td>\n",
       "      <td>NaN</td>\n",
       "      <td>NaN</td>\n",
       "      <td>NaN</td>\n",
       "    </tr>\n",
       "  </tbody>\n",
       "</table>\n",
       "</div>"
      ],
      "text/plain": [
       "11  Year Occupation    Jan    Feb    Mar    Apr    May    Jun    Jul    Aug  \\\n",
       "12  2019     Office  17721  17908  17685  18084  17568  17620  17688  17707   \n",
       "13  2020     Office  15984  16296  16294  14328  14497  15027  15268    NaN   \n",
       "\n",
       "11    Sep    Oct    Nov    Dec  \n",
       "12  17942  18005  17766  17769  \n",
       "13    NaN    NaN    NaN    NaN  "
      ]
     },
     "execution_count": 66,
     "metadata": {},
     "output_type": "execute_result"
    }
   ],
   "source": [
    "offi_employed_clean"
   ]
  },
  {
   "cell_type": "markdown",
   "metadata": {},
   "source": [
    "##  Production"
   ]
  },
  {
   "cell_type": "code",
   "execution_count": 67,
   "metadata": {},
   "outputs": [
    {
     "data": {
      "text/html": [
       "<div>\n",
       "<style scoped>\n",
       "    .dataframe tbody tr th:only-of-type {\n",
       "        vertical-align: middle;\n",
       "    }\n",
       "\n",
       "    .dataframe tbody tr th {\n",
       "        vertical-align: top;\n",
       "    }\n",
       "\n",
       "    .dataframe thead th {\n",
       "        text-align: right;\n",
       "    }\n",
       "</style>\n",
       "<table border=\"1\" class=\"dataframe\">\n",
       "  <thead>\n",
       "    <tr style=\"text-align: right;\">\n",
       "      <th></th>\n",
       "      <th>Labor Force Statistics from the Current Population Survey</th>\n",
       "      <th>Unnamed: 1</th>\n",
       "      <th>Unnamed: 2</th>\n",
       "      <th>Unnamed: 3</th>\n",
       "      <th>Unnamed: 4</th>\n",
       "      <th>Unnamed: 5</th>\n",
       "      <th>Unnamed: 6</th>\n",
       "      <th>Unnamed: 7</th>\n",
       "      <th>Unnamed: 8</th>\n",
       "      <th>Unnamed: 9</th>\n",
       "      <th>Unnamed: 10</th>\n",
       "      <th>Unnamed: 11</th>\n",
       "      <th>Unnamed: 12</th>\n",
       "    </tr>\n",
       "  </thead>\n",
       "  <tbody>\n",
       "    <tr>\n",
       "      <th>11</th>\n",
       "      <td>Year</td>\n",
       "      <td>Jan</td>\n",
       "      <td>Feb</td>\n",
       "      <td>Mar</td>\n",
       "      <td>Apr</td>\n",
       "      <td>May</td>\n",
       "      <td>Jun</td>\n",
       "      <td>Jul</td>\n",
       "      <td>Aug</td>\n",
       "      <td>Sep</td>\n",
       "      <td>Oct</td>\n",
       "      <td>Nov</td>\n",
       "      <td>Dec</td>\n",
       "    </tr>\n",
       "    <tr>\n",
       "      <th>12</th>\n",
       "      <td>2019</td>\n",
       "      <td>8417</td>\n",
       "      <td>8742</td>\n",
       "      <td>8635</td>\n",
       "      <td>8534</td>\n",
       "      <td>8660</td>\n",
       "      <td>8785</td>\n",
       "      <td>8415</td>\n",
       "      <td>8861</td>\n",
       "      <td>8502</td>\n",
       "      <td>8412</td>\n",
       "      <td>8586</td>\n",
       "      <td>8229</td>\n",
       "    </tr>\n",
       "    <tr>\n",
       "      <th>13</th>\n",
       "      <td>2020</td>\n",
       "      <td>8322</td>\n",
       "      <td>8361</td>\n",
       "      <td>7986</td>\n",
       "      <td>6380</td>\n",
       "      <td>6868</td>\n",
       "      <td>7198</td>\n",
       "      <td>7322</td>\n",
       "      <td>NaN</td>\n",
       "      <td>NaN</td>\n",
       "      <td>NaN</td>\n",
       "      <td>NaN</td>\n",
       "      <td>NaN</td>\n",
       "    </tr>\n",
       "  </tbody>\n",
       "</table>\n",
       "</div>"
      ],
      "text/plain": [
       "   Labor Force Statistics from the Current Population Survey Unnamed: 1  \\\n",
       "11                                               Year               Jan   \n",
       "12                                               2019              8417   \n",
       "13                                               2020              8322   \n",
       "\n",
       "   Unnamed: 2 Unnamed: 3 Unnamed: 4 Unnamed: 5 Unnamed: 6 Unnamed: 7  \\\n",
       "11        Feb        Mar        Apr        May        Jun        Jul   \n",
       "12       8742       8635       8534       8660       8785       8415   \n",
       "13       8361       7986       6380       6868       7198       7322   \n",
       "\n",
       "   Unnamed: 8 Unnamed: 9 Unnamed: 10 Unnamed: 11 Unnamed: 12  \n",
       "11        Aug        Sep         Oct         Nov         Dec  \n",
       "12       8861       8502        8412        8586        8229  \n",
       "13        NaN        NaN         NaN         NaN         NaN  "
      ]
     },
     "execution_count": 67,
     "metadata": {},
     "output_type": "execute_result"
    }
   ],
   "source": [
    "# #removing extra rows and columns\n",
    "prod_employed_clean = prod_employed.drop(prod_employed.index[[0,1,2,3,4,5,6,7,8,9,10]])\n",
    "prod_employed_clean"
   ]
  },
  {
   "cell_type": "code",
   "execution_count": 68,
   "metadata": {},
   "outputs": [],
   "source": [
    "# Adding the correct header\n",
    "headers = prod_employed_clean.iloc[0]\n",
    "prod_employed_clean = prod_employed_clean[1:] "
   ]
  },
  {
   "cell_type": "code",
   "execution_count": 69,
   "metadata": {},
   "outputs": [],
   "source": [
    "prod_employed_clean.columns = headers"
   ]
  },
  {
   "cell_type": "code",
   "execution_count": 70,
   "metadata": {},
   "outputs": [
    {
     "data": {
      "text/html": [
       "<div>\n",
       "<style scoped>\n",
       "    .dataframe tbody tr th:only-of-type {\n",
       "        vertical-align: middle;\n",
       "    }\n",
       "\n",
       "    .dataframe tbody tr th {\n",
       "        vertical-align: top;\n",
       "    }\n",
       "\n",
       "    .dataframe thead th {\n",
       "        text-align: right;\n",
       "    }\n",
       "</style>\n",
       "<table border=\"1\" class=\"dataframe\">\n",
       "  <thead>\n",
       "    <tr style=\"text-align: right;\">\n",
       "      <th>11</th>\n",
       "      <th>Year</th>\n",
       "      <th>Jan</th>\n",
       "      <th>Feb</th>\n",
       "      <th>Mar</th>\n",
       "      <th>Apr</th>\n",
       "      <th>May</th>\n",
       "      <th>Jun</th>\n",
       "      <th>Jul</th>\n",
       "      <th>Aug</th>\n",
       "      <th>Sep</th>\n",
       "      <th>Oct</th>\n",
       "      <th>Nov</th>\n",
       "      <th>Dec</th>\n",
       "    </tr>\n",
       "  </thead>\n",
       "  <tbody>\n",
       "    <tr>\n",
       "      <th>12</th>\n",
       "      <td>2019</td>\n",
       "      <td>8417</td>\n",
       "      <td>8742</td>\n",
       "      <td>8635</td>\n",
       "      <td>8534</td>\n",
       "      <td>8660</td>\n",
       "      <td>8785</td>\n",
       "      <td>8415</td>\n",
       "      <td>8861</td>\n",
       "      <td>8502</td>\n",
       "      <td>8412</td>\n",
       "      <td>8586</td>\n",
       "      <td>8229</td>\n",
       "    </tr>\n",
       "    <tr>\n",
       "      <th>13</th>\n",
       "      <td>2020</td>\n",
       "      <td>8322</td>\n",
       "      <td>8361</td>\n",
       "      <td>7986</td>\n",
       "      <td>6380</td>\n",
       "      <td>6868</td>\n",
       "      <td>7198</td>\n",
       "      <td>7322</td>\n",
       "      <td>NaN</td>\n",
       "      <td>NaN</td>\n",
       "      <td>NaN</td>\n",
       "      <td>NaN</td>\n",
       "      <td>NaN</td>\n",
       "    </tr>\n",
       "  </tbody>\n",
       "</table>\n",
       "</div>"
      ],
      "text/plain": [
       "11  Year   Jan   Feb   Mar   Apr   May   Jun   Jul   Aug   Sep   Oct   Nov  \\\n",
       "12  2019  8417  8742  8635  8534  8660  8785  8415  8861  8502  8412  8586   \n",
       "13  2020  8322  8361  7986  6380  6868  7198  7322   NaN   NaN   NaN   NaN   \n",
       "\n",
       "11   Dec  \n",
       "12  8229  \n",
       "13   NaN  "
      ]
     },
     "execution_count": 70,
     "metadata": {},
     "output_type": "execute_result"
    }
   ],
   "source": [
    "prod_employed_clean"
   ]
  },
  {
   "cell_type": "code",
   "execution_count": 71,
   "metadata": {},
   "outputs": [],
   "source": [
    "# creating new variable and transposing it for plotting\n",
    "prod_em_tp = prod_employed_clean.transpose()"
   ]
  },
  {
   "cell_type": "code",
   "execution_count": 72,
   "metadata": {},
   "outputs": [],
   "source": [
    "# Adding the correct header\n",
    "headers = prod_em_tp.iloc[0]\n",
    "prod_em_tp = prod_em_tp[1:] "
   ]
  },
  {
   "cell_type": "code",
   "execution_count": 73,
   "metadata": {},
   "outputs": [],
   "source": [
    "prod_em_tp.columns = headers"
   ]
  },
  {
   "cell_type": "code",
   "execution_count": 74,
   "metadata": {},
   "outputs": [],
   "source": [
    "# changing the datatype to numeric for plotting\n",
    "prod_em_tp = prod_em_tp.apply (pd.to_numeric, errors=\"ignore\")"
   ]
  },
  {
   "cell_type": "code",
   "execution_count": 75,
   "metadata": {},
   "outputs": [
    {
     "data": {
      "image/png": "[encoded data removed]",
      "text/plain": [
       "<Figure size 864x216 with 1 Axes>"
      ]
     },
     "metadata": {
      "needs_background": "light"
     },
     "output_type": "display_data"
    },
    {
     "data": {
      "text/plain": [
       "<Figure size 432x288 with 0 Axes>"
      ]
     },
     "metadata": {},
     "output_type": "display_data"
    }
   ],
   "source": [
    "# Use DataFrame.plot() in order to create a bar chart of the data\n",
    "prod_em_tp.plot(kind=\"bar\", figsize=(12,3))\n",
    "\n",
    "# Set a title for the chart\n",
    "plt.title(\"Count of Employed - Production and Related\")\n",
    "\n",
    "plt.show()\n",
    "plt.tight_layout()"
   ]
  },
  {
   "cell_type": "code",
   "execution_count": 76,
   "metadata": {},
   "outputs": [],
   "source": [
    "# Add occupation column\n",
    "# inserting column with static value in data frame \n",
    "prod_employed_clean.insert(1, \"Occupation\", \"Production\")"
   ]
  },
  {
   "cell_type": "code",
   "execution_count": 77,
   "metadata": {},
   "outputs": [
    {
     "data": {
      "text/html": [
       "<div>\n",
       "<style scoped>\n",
       "    .dataframe tbody tr th:only-of-type {\n",
       "        vertical-align: middle;\n",
       "    }\n",
       "\n",
       "    .dataframe tbody tr th {\n",
       "        vertical-align: top;\n",
       "    }\n",
       "\n",
       "    .dataframe thead th {\n",
       "        text-align: right;\n",
       "    }\n",
       "</style>\n",
       "<table border=\"1\" class=\"dataframe\">\n",
       "  <thead>\n",
       "    <tr style=\"text-align: right;\">\n",
       "      <th>11</th>\n",
       "      <th>Year</th>\n",
       "      <th>Occupation</th>\n",
       "      <th>Jan</th>\n",
       "      <th>Feb</th>\n",
       "      <th>Mar</th>\n",
       "      <th>Apr</th>\n",
       "      <th>May</th>\n",
       "      <th>Jun</th>\n",
       "      <th>Jul</th>\n",
       "      <th>Aug</th>\n",
       "      <th>Sep</th>\n",
       "      <th>Oct</th>\n",
       "      <th>Nov</th>\n",
       "      <th>Dec</th>\n",
       "    </tr>\n",
       "  </thead>\n",
       "  <tbody>\n",
       "    <tr>\n",
       "      <th>12</th>\n",
       "      <td>2019</td>\n",
       "      <td>Production</td>\n",
       "      <td>8417</td>\n",
       "      <td>8742</td>\n",
       "      <td>8635</td>\n",
       "      <td>8534</td>\n",
       "      <td>8660</td>\n",
       "      <td>8785</td>\n",
       "      <td>8415</td>\n",
       "      <td>8861</td>\n",
       "      <td>8502</td>\n",
       "      <td>8412</td>\n",
       "      <td>8586</td>\n",
       "      <td>8229</td>\n",
       "    </tr>\n",
       "    <tr>\n",
       "      <th>13</th>\n",
       "      <td>2020</td>\n",
       "      <td>Production</td>\n",
       "      <td>8322</td>\n",
       "      <td>8361</td>\n",
       "      <td>7986</td>\n",
       "      <td>6380</td>\n",
       "      <td>6868</td>\n",
       "      <td>7198</td>\n",
       "      <td>7322</td>\n",
       "      <td>NaN</td>\n",
       "      <td>NaN</td>\n",
       "      <td>NaN</td>\n",
       "      <td>NaN</td>\n",
       "      <td>NaN</td>\n",
       "    </tr>\n",
       "  </tbody>\n",
       "</table>\n",
       "</div>"
      ],
      "text/plain": [
       "11  Year  Occupation   Jan   Feb   Mar   Apr   May   Jun   Jul   Aug   Sep  \\\n",
       "12  2019  Production  8417  8742  8635  8534  8660  8785  8415  8861  8502   \n",
       "13  2020  Production  8322  8361  7986  6380  6868  7198  7322   NaN   NaN   \n",
       "\n",
       "11   Oct   Nov   Dec  \n",
       "12  8412  8586  8229  \n",
       "13   NaN   NaN   NaN  "
      ]
     },
     "execution_count": 77,
     "metadata": {},
     "output_type": "execute_result"
    }
   ],
   "source": [
    "prod_employed_clean"
   ]
  },
  {
   "cell_type": "markdown",
   "metadata": {},
   "source": [
    "## Professional and Related"
   ]
  },
  {
   "cell_type": "code",
   "execution_count": 78,
   "metadata": {},
   "outputs": [
    {
     "data": {
      "text/html": [
       "<div>\n",
       "<style scoped>\n",
       "    .dataframe tbody tr th:only-of-type {\n",
       "        vertical-align: middle;\n",
       "    }\n",
       "\n",
       "    .dataframe tbody tr th {\n",
       "        vertical-align: top;\n",
       "    }\n",
       "\n",
       "    .dataframe thead th {\n",
       "        text-align: right;\n",
       "    }\n",
       "</style>\n",
       "<table border=\"1\" class=\"dataframe\">\n",
       "  <thead>\n",
       "    <tr style=\"text-align: right;\">\n",
       "      <th></th>\n",
       "      <th>Labor Force Statistics from the Current Population Survey</th>\n",
       "      <th>Unnamed: 1</th>\n",
       "      <th>Unnamed: 2</th>\n",
       "      <th>Unnamed: 3</th>\n",
       "      <th>Unnamed: 4</th>\n",
       "      <th>Unnamed: 5</th>\n",
       "      <th>Unnamed: 6</th>\n",
       "      <th>Unnamed: 7</th>\n",
       "      <th>Unnamed: 8</th>\n",
       "      <th>Unnamed: 9</th>\n",
       "      <th>Unnamed: 10</th>\n",
       "      <th>Unnamed: 11</th>\n",
       "      <th>Unnamed: 12</th>\n",
       "    </tr>\n",
       "  </thead>\n",
       "  <tbody>\n",
       "    <tr>\n",
       "      <th>11</th>\n",
       "      <td>Year</td>\n",
       "      <td>Jan</td>\n",
       "      <td>Feb</td>\n",
       "      <td>Mar</td>\n",
       "      <td>Apr</td>\n",
       "      <td>May</td>\n",
       "      <td>Jun</td>\n",
       "      <td>Jul</td>\n",
       "      <td>Aug</td>\n",
       "      <td>Sep</td>\n",
       "      <td>Oct</td>\n",
       "      <td>Nov</td>\n",
       "      <td>Dec</td>\n",
       "    </tr>\n",
       "    <tr>\n",
       "      <th>12</th>\n",
       "      <td>2019</td>\n",
       "      <td>37085</td>\n",
       "      <td>37718</td>\n",
       "      <td>37401</td>\n",
       "      <td>36915</td>\n",
       "      <td>37060</td>\n",
       "      <td>36574</td>\n",
       "      <td>36517</td>\n",
       "      <td>36962</td>\n",
       "      <td>37124</td>\n",
       "      <td>37480</td>\n",
       "      <td>38072</td>\n",
       "      <td>37935</td>\n",
       "    </tr>\n",
       "    <tr>\n",
       "      <th>13</th>\n",
       "      <td>2020</td>\n",
       "      <td>38036</td>\n",
       "      <td>38225</td>\n",
       "      <td>37924</td>\n",
       "      <td>34715</td>\n",
       "      <td>35738</td>\n",
       "      <td>36375</td>\n",
       "      <td>35548</td>\n",
       "      <td>NaN</td>\n",
       "      <td>NaN</td>\n",
       "      <td>NaN</td>\n",
       "      <td>NaN</td>\n",
       "      <td>NaN</td>\n",
       "    </tr>\n",
       "  </tbody>\n",
       "</table>\n",
       "</div>"
      ],
      "text/plain": [
       "   Labor Force Statistics from the Current Population Survey Unnamed: 1  \\\n",
       "11                                               Year               Jan   \n",
       "12                                               2019             37085   \n",
       "13                                               2020             38036   \n",
       "\n",
       "   Unnamed: 2 Unnamed: 3 Unnamed: 4 Unnamed: 5 Unnamed: 6 Unnamed: 7  \\\n",
       "11        Feb        Mar        Apr        May        Jun        Jul   \n",
       "12      37718      37401      36915      37060      36574      36517   \n",
       "13      38225      37924      34715      35738      36375      35548   \n",
       "\n",
       "   Unnamed: 8 Unnamed: 9 Unnamed: 10 Unnamed: 11 Unnamed: 12  \n",
       "11        Aug        Sep         Oct         Nov         Dec  \n",
       "12      36962      37124       37480       38072       37935  \n",
       "13        NaN        NaN         NaN         NaN         NaN  "
      ]
     },
     "execution_count": 78,
     "metadata": {},
     "output_type": "execute_result"
    }
   ],
   "source": [
    "# #removing extra rows and columns\n",
    "prof_employed_clean = prof_employed.drop(prof_employed.index[[0,1,2,3,4,5,6,7,8,9,10]])\n",
    "prof_employed_clean"
   ]
  },
  {
   "cell_type": "code",
   "execution_count": 79,
   "metadata": {},
   "outputs": [],
   "source": [
    "# Adding the correct header\n",
    "headers = prof_employed_clean.iloc[0]\n",
    "prof_employed_clean = prof_employed_clean[1:] "
   ]
  },
  {
   "cell_type": "code",
   "execution_count": 80,
   "metadata": {},
   "outputs": [],
   "source": [
    "prof_employed_clean.columns = headers"
   ]
  },
  {
   "cell_type": "code",
   "execution_count": 81,
   "metadata": {},
   "outputs": [
    {
     "data": {
      "text/html": [
       "<div>\n",
       "<style scoped>\n",
       "    .dataframe tbody tr th:only-of-type {\n",
       "        vertical-align: middle;\n",
       "    }\n",
       "\n",
       "    .dataframe tbody tr th {\n",
       "        vertical-align: top;\n",
       "    }\n",
       "\n",
       "    .dataframe thead th {\n",
       "        text-align: right;\n",
       "    }\n",
       "</style>\n",
       "<table border=\"1\" class=\"dataframe\">\n",
       "  <thead>\n",
       "    <tr style=\"text-align: right;\">\n",
       "      <th>11</th>\n",
       "      <th>Year</th>\n",
       "      <th>Jan</th>\n",
       "      <th>Feb</th>\n",
       "      <th>Mar</th>\n",
       "      <th>Apr</th>\n",
       "      <th>May</th>\n",
       "      <th>Jun</th>\n",
       "      <th>Jul</th>\n",
       "      <th>Aug</th>\n",
       "      <th>Sep</th>\n",
       "      <th>Oct</th>\n",
       "      <th>Nov</th>\n",
       "      <th>Dec</th>\n",
       "    </tr>\n",
       "  </thead>\n",
       "  <tbody>\n",
       "    <tr>\n",
       "      <th>12</th>\n",
       "      <td>2019</td>\n",
       "      <td>37085</td>\n",
       "      <td>37718</td>\n",
       "      <td>37401</td>\n",
       "      <td>36915</td>\n",
       "      <td>37060</td>\n",
       "      <td>36574</td>\n",
       "      <td>36517</td>\n",
       "      <td>36962</td>\n",
       "      <td>37124</td>\n",
       "      <td>37480</td>\n",
       "      <td>38072</td>\n",
       "      <td>37935</td>\n",
       "    </tr>\n",
       "    <tr>\n",
       "      <th>13</th>\n",
       "      <td>2020</td>\n",
       "      <td>38036</td>\n",
       "      <td>38225</td>\n",
       "      <td>37924</td>\n",
       "      <td>34715</td>\n",
       "      <td>35738</td>\n",
       "      <td>36375</td>\n",
       "      <td>35548</td>\n",
       "      <td>NaN</td>\n",
       "      <td>NaN</td>\n",
       "      <td>NaN</td>\n",
       "      <td>NaN</td>\n",
       "      <td>NaN</td>\n",
       "    </tr>\n",
       "  </tbody>\n",
       "</table>\n",
       "</div>"
      ],
      "text/plain": [
       "11  Year    Jan    Feb    Mar    Apr    May    Jun    Jul    Aug    Sep  \\\n",
       "12  2019  37085  37718  37401  36915  37060  36574  36517  36962  37124   \n",
       "13  2020  38036  38225  37924  34715  35738  36375  35548    NaN    NaN   \n",
       "\n",
       "11    Oct    Nov    Dec  \n",
       "12  37480  38072  37935  \n",
       "13    NaN    NaN    NaN  "
      ]
     },
     "execution_count": 81,
     "metadata": {},
     "output_type": "execute_result"
    }
   ],
   "source": [
    "prof_employed_clean"
   ]
  },
  {
   "cell_type": "code",
   "execution_count": 82,
   "metadata": {},
   "outputs": [],
   "source": [
    "# creating new variable and transposing it for plotting\n",
    "prof_em_tp = prof_employed_clean.transpose()"
   ]
  },
  {
   "cell_type": "code",
   "execution_count": 83,
   "metadata": {},
   "outputs": [],
   "source": [
    "# Adding the correct header\n",
    "headers = prof_em_tp.iloc[0]\n",
    "prof_em_tp = prof_em_tp[1:] "
   ]
  },
  {
   "cell_type": "code",
   "execution_count": 84,
   "metadata": {},
   "outputs": [],
   "source": [
    "prof_em_tp.columns = headers"
   ]
  },
  {
   "cell_type": "code",
   "execution_count": 85,
   "metadata": {},
   "outputs": [],
   "source": [
    "# changing the datatype to numeric for plotting\n",
    "prof_em_tp = prof_em_tp.apply (pd.to_numeric, errors=\"ignore\")"
   ]
  },
  {
   "cell_type": "code",
   "execution_count": 86,
   "metadata": {},
   "outputs": [
    {
     "data": {
      "image/png": "[encoded data removed]",
      "text/plain": [
       "<Figure size 864x216 with 1 Axes>"
      ]
     },
     "metadata": {
      "needs_background": "light"
     },
     "output_type": "display_data"
    },
    {
     "data": {
      "text/plain": [
       "<Figure size 432x288 with 0 Axes>"
      ]
     },
     "metadata": {},
     "output_type": "display_data"
    }
   ],
   "source": [
    "# Use DataFrame.plot() in order to create a bar chart of the data\n",
    "prof_em_tp.plot(kind=\"bar\", figsize=(12,3))\n",
    "\n",
    "# Set a title for the chart\n",
    "plt.title(\"Count of Unemployed - Professional and Related\")\n",
    "\n",
    "plt.show()\n",
    "plt.tight_layout()"
   ]
  },
  {
   "cell_type": "code",
   "execution_count": 87,
   "metadata": {},
   "outputs": [],
   "source": [
    "# Add occupation column\n",
    "# inserting column with static value in data frame \n",
    "prof_employed_clean.insert(1, \"Occupation\", \"Professional\")"
   ]
  },
  {
   "cell_type": "code",
   "execution_count": 88,
   "metadata": {},
   "outputs": [
    {
     "data": {
      "text/html": [
       "<div>\n",
       "<style scoped>\n",
       "    .dataframe tbody tr th:only-of-type {\n",
       "        vertical-align: middle;\n",
       "    }\n",
       "\n",
       "    .dataframe tbody tr th {\n",
       "        vertical-align: top;\n",
       "    }\n",
       "\n",
       "    .dataframe thead th {\n",
       "        text-align: right;\n",
       "    }\n",
       "</style>\n",
       "<table border=\"1\" class=\"dataframe\">\n",
       "  <thead>\n",
       "    <tr style=\"text-align: right;\">\n",
       "      <th>11</th>\n",
       "      <th>Year</th>\n",
       "      <th>Occupation</th>\n",
       "      <th>Jan</th>\n",
       "      <th>Feb</th>\n",
       "      <th>Mar</th>\n",
       "      <th>Apr</th>\n",
       "      <th>May</th>\n",
       "      <th>Jun</th>\n",
       "      <th>Jul</th>\n",
       "      <th>Aug</th>\n",
       "      <th>Sep</th>\n",
       "      <th>Oct</th>\n",
       "      <th>Nov</th>\n",
       "      <th>Dec</th>\n",
       "    </tr>\n",
       "  </thead>\n",
       "  <tbody>\n",
       "    <tr>\n",
       "      <th>12</th>\n",
       "      <td>2019</td>\n",
       "      <td>Professional</td>\n",
       "      <td>37085</td>\n",
       "      <td>37718</td>\n",
       "      <td>37401</td>\n",
       "      <td>36915</td>\n",
       "      <td>37060</td>\n",
       "      <td>36574</td>\n",
       "      <td>36517</td>\n",
       "      <td>36962</td>\n",
       "      <td>37124</td>\n",
       "      <td>37480</td>\n",
       "      <td>38072</td>\n",
       "      <td>37935</td>\n",
       "    </tr>\n",
       "    <tr>\n",
       "      <th>13</th>\n",
       "      <td>2020</td>\n",
       "      <td>Professional</td>\n",
       "      <td>38036</td>\n",
       "      <td>38225</td>\n",
       "      <td>37924</td>\n",
       "      <td>34715</td>\n",
       "      <td>35738</td>\n",
       "      <td>36375</td>\n",
       "      <td>35548</td>\n",
       "      <td>NaN</td>\n",
       "      <td>NaN</td>\n",
       "      <td>NaN</td>\n",
       "      <td>NaN</td>\n",
       "      <td>NaN</td>\n",
       "    </tr>\n",
       "  </tbody>\n",
       "</table>\n",
       "</div>"
      ],
      "text/plain": [
       "11  Year    Occupation    Jan    Feb    Mar    Apr    May    Jun    Jul  \\\n",
       "12  2019  Professional  37085  37718  37401  36915  37060  36574  36517   \n",
       "13  2020  Professional  38036  38225  37924  34715  35738  36375  35548   \n",
       "\n",
       "11    Aug    Sep    Oct    Nov    Dec  \n",
       "12  36962  37124  37480  38072  37935  \n",
       "13    NaN    NaN    NaN    NaN    NaN  "
      ]
     },
     "execution_count": 88,
     "metadata": {},
     "output_type": "execute_result"
    }
   ],
   "source": [
    "prof_employed_clean"
   ]
  },
  {
   "cell_type": "markdown",
   "metadata": {},
   "source": [
    "## Sales and Related"
   ]
  },
  {
   "cell_type": "code",
   "execution_count": 89,
   "metadata": {},
   "outputs": [
    {
     "data": {
      "text/html": [
       "<div>\n",
       "<style scoped>\n",
       "    .dataframe tbody tr th:only-of-type {\n",
       "        vertical-align: middle;\n",
       "    }\n",
       "\n",
       "    .dataframe tbody tr th {\n",
       "        vertical-align: top;\n",
       "    }\n",
       "\n",
       "    .dataframe thead th {\n",
       "        text-align: right;\n",
       "    }\n",
       "</style>\n",
       "<table border=\"1\" class=\"dataframe\">\n",
       "  <thead>\n",
       "    <tr style=\"text-align: right;\">\n",
       "      <th></th>\n",
       "      <th>Labor Force Statistics from the Current Population Survey</th>\n",
       "      <th>Unnamed: 1</th>\n",
       "      <th>Unnamed: 2</th>\n",
       "      <th>Unnamed: 3</th>\n",
       "      <th>Unnamed: 4</th>\n",
       "      <th>Unnamed: 5</th>\n",
       "      <th>Unnamed: 6</th>\n",
       "      <th>Unnamed: 7</th>\n",
       "      <th>Unnamed: 8</th>\n",
       "      <th>Unnamed: 9</th>\n",
       "      <th>Unnamed: 10</th>\n",
       "      <th>Unnamed: 11</th>\n",
       "      <th>Unnamed: 12</th>\n",
       "    </tr>\n",
       "  </thead>\n",
       "  <tbody>\n",
       "    <tr>\n",
       "      <th>11</th>\n",
       "      <td>Year</td>\n",
       "      <td>Jan</td>\n",
       "      <td>Feb</td>\n",
       "      <td>Mar</td>\n",
       "      <td>Apr</td>\n",
       "      <td>May</td>\n",
       "      <td>Jun</td>\n",
       "      <td>Jul</td>\n",
       "      <td>Aug</td>\n",
       "      <td>Sep</td>\n",
       "      <td>Oct</td>\n",
       "      <td>Nov</td>\n",
       "      <td>Dec</td>\n",
       "    </tr>\n",
       "    <tr>\n",
       "      <th>12</th>\n",
       "      <td>2019</td>\n",
       "      <td>15438</td>\n",
       "      <td>15292</td>\n",
       "      <td>15365</td>\n",
       "      <td>15211</td>\n",
       "      <td>15429</td>\n",
       "      <td>15391</td>\n",
       "      <td>15998</td>\n",
       "      <td>15777</td>\n",
       "      <td>15733</td>\n",
       "      <td>16050</td>\n",
       "      <td>15627</td>\n",
       "      <td>15672</td>\n",
       "    </tr>\n",
       "    <tr>\n",
       "      <th>13</th>\n",
       "      <td>2020</td>\n",
       "      <td>15433</td>\n",
       "      <td>15064</td>\n",
       "      <td>14574</td>\n",
       "      <td>12218</td>\n",
       "      <td>12434</td>\n",
       "      <td>13464</td>\n",
       "      <td>14239</td>\n",
       "      <td>NaN</td>\n",
       "      <td>NaN</td>\n",
       "      <td>NaN</td>\n",
       "      <td>NaN</td>\n",
       "      <td>NaN</td>\n",
       "    </tr>\n",
       "  </tbody>\n",
       "</table>\n",
       "</div>"
      ],
      "text/plain": [
       "   Labor Force Statistics from the Current Population Survey Unnamed: 1  \\\n",
       "11                                               Year               Jan   \n",
       "12                                               2019             15438   \n",
       "13                                               2020             15433   \n",
       "\n",
       "   Unnamed: 2 Unnamed: 3 Unnamed: 4 Unnamed: 5 Unnamed: 6 Unnamed: 7  \\\n",
       "11        Feb        Mar        Apr        May        Jun        Jul   \n",
       "12      15292      15365      15211      15429      15391      15998   \n",
       "13      15064      14574      12218      12434      13464      14239   \n",
       "\n",
       "   Unnamed: 8 Unnamed: 9 Unnamed: 10 Unnamed: 11 Unnamed: 12  \n",
       "11        Aug        Sep         Oct         Nov         Dec  \n",
       "12      15777      15733       16050       15627       15672  \n",
       "13        NaN        NaN         NaN         NaN         NaN  "
      ]
     },
     "execution_count": 89,
     "metadata": {},
     "output_type": "execute_result"
    }
   ],
   "source": [
    "# #removing extra rows and columns\n",
    "sale_employed_clean = sale_employed.drop(sale_employed.index[[0,1,2,3,4,5,6,7,8,9,10]])\n",
    "sale_employed_clean"
   ]
  },
  {
   "cell_type": "code",
   "execution_count": 90,
   "metadata": {},
   "outputs": [],
   "source": [
    "# Adding the correct header\n",
    "headers = sale_employed_clean.iloc[0]\n",
    "sale_employed_clean = sale_employed_clean[1:] "
   ]
  },
  {
   "cell_type": "code",
   "execution_count": 91,
   "metadata": {},
   "outputs": [],
   "source": [
    "sale_employed_clean.columns = headers"
   ]
  },
  {
   "cell_type": "code",
   "execution_count": 92,
   "metadata": {},
   "outputs": [
    {
     "data": {
      "text/html": [
       "<div>\n",
       "<style scoped>\n",
       "    .dataframe tbody tr th:only-of-type {\n",
       "        vertical-align: middle;\n",
       "    }\n",
       "\n",
       "    .dataframe tbody tr th {\n",
       "        vertical-align: top;\n",
       "    }\n",
       "\n",
       "    .dataframe thead th {\n",
       "        text-align: right;\n",
       "    }\n",
       "</style>\n",
       "<table border=\"1\" class=\"dataframe\">\n",
       "  <thead>\n",
       "    <tr style=\"text-align: right;\">\n",
       "      <th>11</th>\n",
       "      <th>Year</th>\n",
       "      <th>Jan</th>\n",
       "      <th>Feb</th>\n",
       "      <th>Mar</th>\n",
       "      <th>Apr</th>\n",
       "      <th>May</th>\n",
       "      <th>Jun</th>\n",
       "      <th>Jul</th>\n",
       "      <th>Aug</th>\n",
       "      <th>Sep</th>\n",
       "      <th>Oct</th>\n",
       "      <th>Nov</th>\n",
       "      <th>Dec</th>\n",
       "    </tr>\n",
       "  </thead>\n",
       "  <tbody>\n",
       "    <tr>\n",
       "      <th>12</th>\n",
       "      <td>2019</td>\n",
       "      <td>15438</td>\n",
       "      <td>15292</td>\n",
       "      <td>15365</td>\n",
       "      <td>15211</td>\n",
       "      <td>15429</td>\n",
       "      <td>15391</td>\n",
       "      <td>15998</td>\n",
       "      <td>15777</td>\n",
       "      <td>15733</td>\n",
       "      <td>16050</td>\n",
       "      <td>15627</td>\n",
       "      <td>15672</td>\n",
       "    </tr>\n",
       "    <tr>\n",
       "      <th>13</th>\n",
       "      <td>2020</td>\n",
       "      <td>15433</td>\n",
       "      <td>15064</td>\n",
       "      <td>14574</td>\n",
       "      <td>12218</td>\n",
       "      <td>12434</td>\n",
       "      <td>13464</td>\n",
       "      <td>14239</td>\n",
       "      <td>NaN</td>\n",
       "      <td>NaN</td>\n",
       "      <td>NaN</td>\n",
       "      <td>NaN</td>\n",
       "      <td>NaN</td>\n",
       "    </tr>\n",
       "  </tbody>\n",
       "</table>\n",
       "</div>"
      ],
      "text/plain": [
       "11  Year    Jan    Feb    Mar    Apr    May    Jun    Jul    Aug    Sep  \\\n",
       "12  2019  15438  15292  15365  15211  15429  15391  15998  15777  15733   \n",
       "13  2020  15433  15064  14574  12218  12434  13464  14239    NaN    NaN   \n",
       "\n",
       "11    Oct    Nov    Dec  \n",
       "12  16050  15627  15672  \n",
       "13    NaN    NaN    NaN  "
      ]
     },
     "execution_count": 92,
     "metadata": {},
     "output_type": "execute_result"
    }
   ],
   "source": [
    "sale_employed_clean"
   ]
  },
  {
   "cell_type": "code",
   "execution_count": 93,
   "metadata": {},
   "outputs": [],
   "source": [
    "# creating new variable and transposing it for plotting\n",
    "sale_em_tp = sale_employed_clean.transpose()"
   ]
  },
  {
   "cell_type": "code",
   "execution_count": 94,
   "metadata": {},
   "outputs": [],
   "source": [
    "# Adding the correct header\n",
    "headers = sale_em_tp.iloc[0]\n",
    "sale_em_tp = sale_em_tp[1:] "
   ]
  },
  {
   "cell_type": "code",
   "execution_count": 95,
   "metadata": {},
   "outputs": [],
   "source": [
    "sale_em_tp.columns = headers"
   ]
  },
  {
   "cell_type": "code",
   "execution_count": 96,
   "metadata": {},
   "outputs": [],
   "source": [
    "# changing the datatype to numeric for plotting\n",
    "sale_em_tp = sale_em_tp.apply (pd.to_numeric, errors=\"ignore\")"
   ]
  },
  {
   "cell_type": "code",
   "execution_count": 97,
   "metadata": {},
   "outputs": [
    {
     "data": {
      "image/png": "[encoded data removed]",
      "text/plain": [
       "<Figure size 864x216 with 1 Axes>"
      ]
     },
     "metadata": {
      "needs_background": "light"
     },
     "output_type": "display_data"
    },
    {
     "data": {
      "text/plain": [
       "<Figure size 432x288 with 0 Axes>"
      ]
     },
     "metadata": {},
     "output_type": "display_data"
    }
   ],
   "source": [
    "# Use DataFrame.plot() in order to create a bar chart of the data\n",
    "sale_em_tp.plot(kind=\"bar\", figsize=(12,3))\n",
    "\n",
    "# Set a title for the chart\n",
    "plt.title(\"Count of Employed - Sales and Related\")\n",
    "\n",
    "plt.show()\n",
    "plt.tight_layout()"
   ]
  },
  {
   "cell_type": "code",
   "execution_count": 98,
   "metadata": {},
   "outputs": [],
   "source": [
    "# Add occupation column\n",
    "# inserting column with static value in data frame \n",
    "sale_employed_clean.insert(1, \"Occupation\", \"Sales\")"
   ]
  },
  {
   "cell_type": "code",
   "execution_count": 99,
   "metadata": {},
   "outputs": [
    {
     "data": {
      "text/html": [
       "<div>\n",
       "<style scoped>\n",
       "    .dataframe tbody tr th:only-of-type {\n",
       "        vertical-align: middle;\n",
       "    }\n",
       "\n",
       "    .dataframe tbody tr th {\n",
       "        vertical-align: top;\n",
       "    }\n",
       "\n",
       "    .dataframe thead th {\n",
       "        text-align: right;\n",
       "    }\n",
       "</style>\n",
       "<table border=\"1\" class=\"dataframe\">\n",
       "  <thead>\n",
       "    <tr style=\"text-align: right;\">\n",
       "      <th>11</th>\n",
       "      <th>Year</th>\n",
       "      <th>Occupation</th>\n",
       "      <th>Jan</th>\n",
       "      <th>Feb</th>\n",
       "      <th>Mar</th>\n",
       "      <th>Apr</th>\n",
       "      <th>May</th>\n",
       "      <th>Jun</th>\n",
       "      <th>Jul</th>\n",
       "      <th>Aug</th>\n",
       "      <th>Sep</th>\n",
       "      <th>Oct</th>\n",
       "      <th>Nov</th>\n",
       "      <th>Dec</th>\n",
       "    </tr>\n",
       "  </thead>\n",
       "  <tbody>\n",
       "    <tr>\n",
       "      <th>12</th>\n",
       "      <td>2019</td>\n",
       "      <td>Sales</td>\n",
       "      <td>15438</td>\n",
       "      <td>15292</td>\n",
       "      <td>15365</td>\n",
       "      <td>15211</td>\n",
       "      <td>15429</td>\n",
       "      <td>15391</td>\n",
       "      <td>15998</td>\n",
       "      <td>15777</td>\n",
       "      <td>15733</td>\n",
       "      <td>16050</td>\n",
       "      <td>15627</td>\n",
       "      <td>15672</td>\n",
       "    </tr>\n",
       "    <tr>\n",
       "      <th>13</th>\n",
       "      <td>2020</td>\n",
       "      <td>Sales</td>\n",
       "      <td>15433</td>\n",
       "      <td>15064</td>\n",
       "      <td>14574</td>\n",
       "      <td>12218</td>\n",
       "      <td>12434</td>\n",
       "      <td>13464</td>\n",
       "      <td>14239</td>\n",
       "      <td>NaN</td>\n",
       "      <td>NaN</td>\n",
       "      <td>NaN</td>\n",
       "      <td>NaN</td>\n",
       "      <td>NaN</td>\n",
       "    </tr>\n",
       "  </tbody>\n",
       "</table>\n",
       "</div>"
      ],
      "text/plain": [
       "11  Year Occupation    Jan    Feb    Mar    Apr    May    Jun    Jul    Aug  \\\n",
       "12  2019      Sales  15438  15292  15365  15211  15429  15391  15998  15777   \n",
       "13  2020      Sales  15433  15064  14574  12218  12434  13464  14239    NaN   \n",
       "\n",
       "11    Sep    Oct    Nov    Dec  \n",
       "12  15733  16050  15627  15672  \n",
       "13    NaN    NaN    NaN    NaN  "
      ]
     },
     "execution_count": 99,
     "metadata": {},
     "output_type": "execute_result"
    }
   ],
   "source": [
    "sale_employed_clean"
   ]
  },
  {
   "cell_type": "markdown",
   "metadata": {},
   "source": [
    "## Transportation and Moving "
   ]
  },
  {
   "cell_type": "code",
   "execution_count": 100,
   "metadata": {},
   "outputs": [
    {
     "data": {
      "text/html": [
       "<div>\n",
       "<style scoped>\n",
       "    .dataframe tbody tr th:only-of-type {\n",
       "        vertical-align: middle;\n",
       "    }\n",
       "\n",
       "    .dataframe tbody tr th {\n",
       "        vertical-align: top;\n",
       "    }\n",
       "\n",
       "    .dataframe thead th {\n",
       "        text-align: right;\n",
       "    }\n",
       "</style>\n",
       "<table border=\"1\" class=\"dataframe\">\n",
       "  <thead>\n",
       "    <tr style=\"text-align: right;\">\n",
       "      <th></th>\n",
       "      <th>Labor Force Statistics from the Current Population Survey</th>\n",
       "      <th>Unnamed: 1</th>\n",
       "      <th>Unnamed: 2</th>\n",
       "      <th>Unnamed: 3</th>\n",
       "      <th>Unnamed: 4</th>\n",
       "      <th>Unnamed: 5</th>\n",
       "      <th>Unnamed: 6</th>\n",
       "      <th>Unnamed: 7</th>\n",
       "      <th>Unnamed: 8</th>\n",
       "      <th>Unnamed: 9</th>\n",
       "      <th>Unnamed: 10</th>\n",
       "      <th>Unnamed: 11</th>\n",
       "      <th>Unnamed: 12</th>\n",
       "    </tr>\n",
       "  </thead>\n",
       "  <tbody>\n",
       "    <tr>\n",
       "      <th>11</th>\n",
       "      <td>Year</td>\n",
       "      <td>Jan</td>\n",
       "      <td>Feb</td>\n",
       "      <td>Mar</td>\n",
       "      <td>Apr</td>\n",
       "      <td>May</td>\n",
       "      <td>Jun</td>\n",
       "      <td>Jul</td>\n",
       "      <td>Aug</td>\n",
       "      <td>Sep</td>\n",
       "      <td>Oct</td>\n",
       "      <td>Nov</td>\n",
       "      <td>Dec</td>\n",
       "    </tr>\n",
       "    <tr>\n",
       "      <th>12</th>\n",
       "      <td>2019</td>\n",
       "      <td>9522</td>\n",
       "      <td>9891</td>\n",
       "      <td>10046</td>\n",
       "      <td>10257</td>\n",
       "      <td>10156</td>\n",
       "      <td>10216</td>\n",
       "      <td>10209</td>\n",
       "      <td>9827</td>\n",
       "      <td>10123</td>\n",
       "      <td>10083</td>\n",
       "      <td>10093</td>\n",
       "      <td>10335</td>\n",
       "    </tr>\n",
       "    <tr>\n",
       "      <th>13</th>\n",
       "      <td>2020</td>\n",
       "      <td>11866</td>\n",
       "      <td>11794</td>\n",
       "      <td>11207</td>\n",
       "      <td>9378</td>\n",
       "      <td>9883</td>\n",
       "      <td>9887</td>\n",
       "      <td>10100</td>\n",
       "      <td>NaN</td>\n",
       "      <td>NaN</td>\n",
       "      <td>NaN</td>\n",
       "      <td>NaN</td>\n",
       "      <td>NaN</td>\n",
       "    </tr>\n",
       "  </tbody>\n",
       "</table>\n",
       "</div>"
      ],
      "text/plain": [
       "   Labor Force Statistics from the Current Population Survey Unnamed: 1  \\\n",
       "11                                               Year               Jan   \n",
       "12                                               2019              9522   \n",
       "13                                               2020             11866   \n",
       "\n",
       "   Unnamed: 2 Unnamed: 3 Unnamed: 4 Unnamed: 5 Unnamed: 6 Unnamed: 7  \\\n",
       "11        Feb        Mar        Apr        May        Jun        Jul   \n",
       "12       9891      10046      10257      10156      10216      10209   \n",
       "13      11794      11207       9378       9883       9887      10100   \n",
       "\n",
       "   Unnamed: 8 Unnamed: 9 Unnamed: 10 Unnamed: 11 Unnamed: 12  \n",
       "11        Aug        Sep         Oct         Nov         Dec  \n",
       "12       9827      10123       10083       10093       10335  \n",
       "13        NaN        NaN         NaN         NaN         NaN  "
      ]
     },
     "execution_count": 100,
     "metadata": {},
     "output_type": "execute_result"
    }
   ],
   "source": [
    "# #removing extra rows and columns\n",
    "tran_employed_clean = tran_employed.drop(tran_employed.index[[0,1,2,3,4,5,6,7,8,9,10]])\n",
    "tran_employed_clean"
   ]
  },
  {
   "cell_type": "code",
   "execution_count": 101,
   "metadata": {},
   "outputs": [],
   "source": [
    "# Adding the correct header\n",
    "headers = tran_employed_clean.iloc[0]\n",
    "tran_employed_clean = tran_employed_clean[1:] "
   ]
  },
  {
   "cell_type": "code",
   "execution_count": 102,
   "metadata": {},
   "outputs": [],
   "source": [
    "tran_employed_clean.columns = headers"
   ]
  },
  {
   "cell_type": "code",
   "execution_count": 103,
   "metadata": {},
   "outputs": [
    {
     "data": {
      "text/html": [
       "<div>\n",
       "<style scoped>\n",
       "    .dataframe tbody tr th:only-of-type {\n",
       "        vertical-align: middle;\n",
       "    }\n",
       "\n",
       "    .dataframe tbody tr th {\n",
       "        vertical-align: top;\n",
       "    }\n",
       "\n",
       "    .dataframe thead th {\n",
       "        text-align: right;\n",
       "    }\n",
       "</style>\n",
       "<table border=\"1\" class=\"dataframe\">\n",
       "  <thead>\n",
       "    <tr style=\"text-align: right;\">\n",
       "      <th>11</th>\n",
       "      <th>Year</th>\n",
       "      <th>Jan</th>\n",
       "      <th>Feb</th>\n",
       "      <th>Mar</th>\n",
       "      <th>Apr</th>\n",
       "      <th>May</th>\n",
       "      <th>Jun</th>\n",
       "      <th>Jul</th>\n",
       "      <th>Aug</th>\n",
       "      <th>Sep</th>\n",
       "      <th>Oct</th>\n",
       "      <th>Nov</th>\n",
       "      <th>Dec</th>\n",
       "    </tr>\n",
       "  </thead>\n",
       "  <tbody>\n",
       "    <tr>\n",
       "      <th>12</th>\n",
       "      <td>2019</td>\n",
       "      <td>9522</td>\n",
       "      <td>9891</td>\n",
       "      <td>10046</td>\n",
       "      <td>10257</td>\n",
       "      <td>10156</td>\n",
       "      <td>10216</td>\n",
       "      <td>10209</td>\n",
       "      <td>9827</td>\n",
       "      <td>10123</td>\n",
       "      <td>10083</td>\n",
       "      <td>10093</td>\n",
       "      <td>10335</td>\n",
       "    </tr>\n",
       "    <tr>\n",
       "      <th>13</th>\n",
       "      <td>2020</td>\n",
       "      <td>11866</td>\n",
       "      <td>11794</td>\n",
       "      <td>11207</td>\n",
       "      <td>9378</td>\n",
       "      <td>9883</td>\n",
       "      <td>9887</td>\n",
       "      <td>10100</td>\n",
       "      <td>NaN</td>\n",
       "      <td>NaN</td>\n",
       "      <td>NaN</td>\n",
       "      <td>NaN</td>\n",
       "      <td>NaN</td>\n",
       "    </tr>\n",
       "  </tbody>\n",
       "</table>\n",
       "</div>"
      ],
      "text/plain": [
       "11  Year    Jan    Feb    Mar    Apr    May    Jun    Jul   Aug    Sep    Oct  \\\n",
       "12  2019   9522   9891  10046  10257  10156  10216  10209  9827  10123  10083   \n",
       "13  2020  11866  11794  11207   9378   9883   9887  10100   NaN    NaN    NaN   \n",
       "\n",
       "11    Nov    Dec  \n",
       "12  10093  10335  \n",
       "13    NaN    NaN  "
      ]
     },
     "execution_count": 103,
     "metadata": {},
     "output_type": "execute_result"
    }
   ],
   "source": [
    "tran_employed_clean"
   ]
  },
  {
   "cell_type": "code",
   "execution_count": 104,
   "metadata": {},
   "outputs": [],
   "source": [
    "# creating new variable and transposing it for plotting\n",
    "tran_em_tp = tran_employed_clean.transpose()"
   ]
  },
  {
   "cell_type": "code",
   "execution_count": 105,
   "metadata": {},
   "outputs": [],
   "source": [
    "# Adding the correct header\n",
    "headers = tran_em_tp.iloc[0]\n",
    "tran_em_tp = tran_em_tp[1:] "
   ]
  },
  {
   "cell_type": "code",
   "execution_count": 106,
   "metadata": {},
   "outputs": [],
   "source": [
    "tran_em_tp.columns = headers"
   ]
  },
  {
   "cell_type": "code",
   "execution_count": 107,
   "metadata": {},
   "outputs": [],
   "source": [
    "# changing the datatype to numeric for plotting\n",
    "tran_em_tp = tran_em_tp.apply (pd.to_numeric, errors=\"ignore\")"
   ]
  },
  {
   "cell_type": "code",
   "execution_count": 108,
   "metadata": {},
   "outputs": [
    {
     "data": {
      "image/png": "[encoded data removed]",
      "text/plain": [
       "<Figure size 864x216 with 1 Axes>"
      ]
     },
     "metadata": {
      "needs_background": "light"
     },
     "output_type": "display_data"
    },
    {
     "data": {
      "text/plain": [
       "<Figure size 432x288 with 0 Axes>"
      ]
     },
     "metadata": {},
     "output_type": "display_data"
    }
   ],
   "source": [
    "# Use DataFrame.plot() in order to create a bar chart of the data\n",
    "tran_em_tp.plot(kind=\"bar\", figsize=(12,3))\n",
    "\n",
    "# Set a title for the chart\n",
    "plt.title(\"Count of employed - Transportation and Moving\")\n",
    "\n",
    "plt.show()\n",
    "plt.tight_layout()"
   ]
  },
  {
   "cell_type": "code",
   "execution_count": 109,
   "metadata": {},
   "outputs": [],
   "source": [
    "# Add occupation column\n",
    "# inserting column with static value in data frame \n",
    "tran_employed_clean.insert(1, \"Occupation\", \"Transportation\")"
   ]
  },
  {
   "cell_type": "code",
   "execution_count": 110,
   "metadata": {},
   "outputs": [
    {
     "data": {
      "text/html": [
       "<div>\n",
       "<style scoped>\n",
       "    .dataframe tbody tr th:only-of-type {\n",
       "        vertical-align: middle;\n",
       "    }\n",
       "\n",
       "    .dataframe tbody tr th {\n",
       "        vertical-align: top;\n",
       "    }\n",
       "\n",
       "    .dataframe thead th {\n",
       "        text-align: right;\n",
       "    }\n",
       "</style>\n",
       "<table border=\"1\" class=\"dataframe\">\n",
       "  <thead>\n",
       "    <tr style=\"text-align: right;\">\n",
       "      <th>11</th>\n",
       "      <th>Year</th>\n",
       "      <th>Occupation</th>\n",
       "      <th>Jan</th>\n",
       "      <th>Feb</th>\n",
       "      <th>Mar</th>\n",
       "      <th>Apr</th>\n",
       "      <th>May</th>\n",
       "      <th>Jun</th>\n",
       "      <th>Jul</th>\n",
       "      <th>Aug</th>\n",
       "      <th>Sep</th>\n",
       "      <th>Oct</th>\n",
       "      <th>Nov</th>\n",
       "      <th>Dec</th>\n",
       "    </tr>\n",
       "  </thead>\n",
       "  <tbody>\n",
       "    <tr>\n",
       "      <th>12</th>\n",
       "      <td>2019</td>\n",
       "      <td>Transportation</td>\n",
       "      <td>9522</td>\n",
       "      <td>9891</td>\n",
       "      <td>10046</td>\n",
       "      <td>10257</td>\n",
       "      <td>10156</td>\n",
       "      <td>10216</td>\n",
       "      <td>10209</td>\n",
       "      <td>9827</td>\n",
       "      <td>10123</td>\n",
       "      <td>10083</td>\n",
       "      <td>10093</td>\n",
       "      <td>10335</td>\n",
       "    </tr>\n",
       "    <tr>\n",
       "      <th>13</th>\n",
       "      <td>2020</td>\n",
       "      <td>Transportation</td>\n",
       "      <td>11866</td>\n",
       "      <td>11794</td>\n",
       "      <td>11207</td>\n",
       "      <td>9378</td>\n",
       "      <td>9883</td>\n",
       "      <td>9887</td>\n",
       "      <td>10100</td>\n",
       "      <td>NaN</td>\n",
       "      <td>NaN</td>\n",
       "      <td>NaN</td>\n",
       "      <td>NaN</td>\n",
       "      <td>NaN</td>\n",
       "    </tr>\n",
       "  </tbody>\n",
       "</table>\n",
       "</div>"
      ],
      "text/plain": [
       "11  Year      Occupation    Jan    Feb    Mar    Apr    May    Jun    Jul  \\\n",
       "12  2019  Transportation   9522   9891  10046  10257  10156  10216  10209   \n",
       "13  2020  Transportation  11866  11794  11207   9378   9883   9887  10100   \n",
       "\n",
       "11   Aug    Sep    Oct    Nov    Dec  \n",
       "12  9827  10123  10083  10093  10335  \n",
       "13   NaN    NaN    NaN    NaN    NaN  "
      ]
     },
     "execution_count": 110,
     "metadata": {},
     "output_type": "execute_result"
    }
   ],
   "source": [
    "tran_employed_clean"
   ]
  },
  {
   "cell_type": "markdown",
   "metadata": {},
   "source": [
    "## Merging all the dataframes to one "
   ]
  },
  {
   "cell_type": "code",
   "execution_count": null,
   "metadata": {},
   "outputs": [],
   "source": [
    "# # add row at index 13:14 from dataframe cons_unemployed to dataframe mgmt_unemployed\n",
    "# combined_unemployed = mgmt_unemployed.append(cons_unemployed.loc[13:14], ignore_index=True)\n",
    "# combined_unemployed\n"
   ]
  },
  {
   "cell_type": "code",
   "execution_count": 111,
   "metadata": {},
   "outputs": [],
   "source": [
    "combined_employed = cons_employed_clean.append ([farm_employed_clean, inst_employed_clean, fina_employed_clean, offi_employed_clean, prod_employed_clean, prof_employed_clean, sale_employed_clean, tran_employed_clean]) "
   ]
  },
  {
   "cell_type": "code",
   "execution_count": 112,
   "metadata": {},
   "outputs": [
    {
     "data": {
      "text/html": [
       "<div>\n",
       "<style scoped>\n",
       "    .dataframe tbody tr th:only-of-type {\n",
       "        vertical-align: middle;\n",
       "    }\n",
       "\n",
       "    .dataframe tbody tr th {\n",
       "        vertical-align: top;\n",
       "    }\n",
       "\n",
       "    .dataframe thead th {\n",
       "        text-align: right;\n",
       "    }\n",
       "</style>\n",
       "<table border=\"1\" class=\"dataframe\">\n",
       "  <thead>\n",
       "    <tr style=\"text-align: right;\">\n",
       "      <th>11</th>\n",
       "      <th>Year</th>\n",
       "      <th>Occupation</th>\n",
       "      <th>Jan</th>\n",
       "      <th>Feb</th>\n",
       "      <th>Mar</th>\n",
       "      <th>Apr</th>\n",
       "      <th>May</th>\n",
       "      <th>Jun</th>\n",
       "      <th>Jul</th>\n",
       "      <th>Aug</th>\n",
       "      <th>Sep</th>\n",
       "      <th>Oct</th>\n",
       "      <th>Nov</th>\n",
       "      <th>Dec</th>\n",
       "    </tr>\n",
       "  </thead>\n",
       "  <tbody>\n",
       "    <tr>\n",
       "      <th>12</th>\n",
       "      <td>2019</td>\n",
       "      <td>Construction</td>\n",
       "      <td>8453</td>\n",
       "      <td>8272</td>\n",
       "      <td>8367</td>\n",
       "      <td>8274</td>\n",
       "      <td>8123</td>\n",
       "      <td>8352</td>\n",
       "      <td>8545</td>\n",
       "      <td>8415</td>\n",
       "      <td>8347</td>\n",
       "      <td>8365</td>\n",
       "      <td>8242</td>\n",
       "      <td>8143</td>\n",
       "    </tr>\n",
       "    <tr>\n",
       "      <th>13</th>\n",
       "      <td>2020</td>\n",
       "      <td>Construction</td>\n",
       "      <td>8015</td>\n",
       "      <td>8149</td>\n",
       "      <td>8029</td>\n",
       "      <td>6549</td>\n",
       "      <td>6872</td>\n",
       "      <td>7371</td>\n",
       "      <td>7675</td>\n",
       "      <td>NaN</td>\n",
       "      <td>NaN</td>\n",
       "      <td>NaN</td>\n",
       "      <td>NaN</td>\n",
       "      <td>NaN</td>\n",
       "    </tr>\n",
       "    <tr>\n",
       "      <th>12</th>\n",
       "      <td>2019</td>\n",
       "      <td>Farming</td>\n",
       "      <td>1119</td>\n",
       "      <td>1143</td>\n",
       "      <td>1130</td>\n",
       "      <td>1198</td>\n",
       "      <td>1330</td>\n",
       "      <td>1117</td>\n",
       "      <td>1211</td>\n",
       "      <td>1115</td>\n",
       "      <td>1149</td>\n",
       "      <td>1123</td>\n",
       "      <td>1067</td>\n",
       "      <td>1171</td>\n",
       "    </tr>\n",
       "    <tr>\n",
       "      <th>13</th>\n",
       "      <td>2020</td>\n",
       "      <td>Farming</td>\n",
       "      <td>1081</td>\n",
       "      <td>1139</td>\n",
       "      <td>1103</td>\n",
       "      <td>1079</td>\n",
       "      <td>1118</td>\n",
       "      <td>948</td>\n",
       "      <td>983</td>\n",
       "      <td>NaN</td>\n",
       "      <td>NaN</td>\n",
       "      <td>NaN</td>\n",
       "      <td>NaN</td>\n",
       "      <td>NaN</td>\n",
       "    </tr>\n",
       "    <tr>\n",
       "      <th>12</th>\n",
       "      <td>2019</td>\n",
       "      <td>Installation</td>\n",
       "      <td>4705</td>\n",
       "      <td>4549</td>\n",
       "      <td>4562</td>\n",
       "      <td>4669</td>\n",
       "      <td>4901</td>\n",
       "      <td>4938</td>\n",
       "      <td>4948</td>\n",
       "      <td>5019</td>\n",
       "      <td>5037</td>\n",
       "      <td>4901</td>\n",
       "      <td>5101</td>\n",
       "      <td>5016</td>\n",
       "    </tr>\n",
       "    <tr>\n",
       "      <th>13</th>\n",
       "      <td>2020</td>\n",
       "      <td>Installation</td>\n",
       "      <td>4827</td>\n",
       "      <td>4918</td>\n",
       "      <td>4786</td>\n",
       "      <td>4199</td>\n",
       "      <td>4372</td>\n",
       "      <td>4460</td>\n",
       "      <td>4524</td>\n",
       "      <td>NaN</td>\n",
       "      <td>NaN</td>\n",
       "      <td>NaN</td>\n",
       "      <td>NaN</td>\n",
       "      <td>NaN</td>\n",
       "    </tr>\n",
       "    <tr>\n",
       "      <th>12</th>\n",
       "      <td>2019</td>\n",
       "      <td>Finance</td>\n",
       "      <td>26733</td>\n",
       "      <td>26562</td>\n",
       "      <td>26898</td>\n",
       "      <td>26645</td>\n",
       "      <td>26534</td>\n",
       "      <td>26844</td>\n",
       "      <td>26877</td>\n",
       "      <td>26717</td>\n",
       "      <td>27218</td>\n",
       "      <td>27517</td>\n",
       "      <td>27476</td>\n",
       "      <td>27748</td>\n",
       "    </tr>\n",
       "    <tr>\n",
       "      <th>13</th>\n",
       "      <td>2020</td>\n",
       "      <td>Finance</td>\n",
       "      <td>27498</td>\n",
       "      <td>27866</td>\n",
       "      <td>27958</td>\n",
       "      <td>26437</td>\n",
       "      <td>26592</td>\n",
       "      <td>26915</td>\n",
       "      <td>26904</td>\n",
       "      <td>NaN</td>\n",
       "      <td>NaN</td>\n",
       "      <td>NaN</td>\n",
       "      <td>NaN</td>\n",
       "      <td>NaN</td>\n",
       "    </tr>\n",
       "    <tr>\n",
       "      <th>12</th>\n",
       "      <td>2019</td>\n",
       "      <td>Office</td>\n",
       "      <td>17721</td>\n",
       "      <td>17908</td>\n",
       "      <td>17685</td>\n",
       "      <td>18084</td>\n",
       "      <td>17568</td>\n",
       "      <td>17620</td>\n",
       "      <td>17688</td>\n",
       "      <td>17707</td>\n",
       "      <td>17942</td>\n",
       "      <td>18005</td>\n",
       "      <td>17766</td>\n",
       "      <td>17769</td>\n",
       "    </tr>\n",
       "    <tr>\n",
       "      <th>13</th>\n",
       "      <td>2020</td>\n",
       "      <td>Office</td>\n",
       "      <td>15984</td>\n",
       "      <td>16296</td>\n",
       "      <td>16294</td>\n",
       "      <td>14328</td>\n",
       "      <td>14497</td>\n",
       "      <td>15027</td>\n",
       "      <td>15268</td>\n",
       "      <td>NaN</td>\n",
       "      <td>NaN</td>\n",
       "      <td>NaN</td>\n",
       "      <td>NaN</td>\n",
       "      <td>NaN</td>\n",
       "    </tr>\n",
       "  </tbody>\n",
       "</table>\n",
       "</div>"
      ],
      "text/plain": [
       "11  Year    Occupation    Jan    Feb    Mar    Apr    May    Jun    Jul  \\\n",
       "12  2019  Construction   8453   8272   8367   8274   8123   8352   8545   \n",
       "13  2020  Construction   8015   8149   8029   6549   6872   7371   7675   \n",
       "12  2019       Farming   1119   1143   1130   1198   1330   1117   1211   \n",
       "13  2020       Farming   1081   1139   1103   1079   1118    948    983   \n",
       "12  2019  Installation   4705   4549   4562   4669   4901   4938   4948   \n",
       "13  2020  Installation   4827   4918   4786   4199   4372   4460   4524   \n",
       "12  2019       Finance  26733  26562  26898  26645  26534  26844  26877   \n",
       "13  2020       Finance  27498  27866  27958  26437  26592  26915  26904   \n",
       "12  2019        Office  17721  17908  17685  18084  17568  17620  17688   \n",
       "13  2020        Office  15984  16296  16294  14328  14497  15027  15268   \n",
       "\n",
       "11    Aug    Sep    Oct    Nov    Dec  \n",
       "12   8415   8347   8365   8242   8143  \n",
       "13    NaN    NaN    NaN    NaN    NaN  \n",
       "12   1115   1149   1123   1067   1171  \n",
       "13    NaN    NaN    NaN    NaN    NaN  \n",
       "12   5019   5037   4901   5101   5016  \n",
       "13    NaN    NaN    NaN    NaN    NaN  \n",
       "12  26717  27218  27517  27476  27748  \n",
       "13    NaN    NaN    NaN    NaN    NaN  \n",
       "12  17707  17942  18005  17766  17769  \n",
       "13    NaN    NaN    NaN    NaN    NaN  "
      ]
     },
     "execution_count": 112,
     "metadata": {},
     "output_type": "execute_result"
    }
   ],
   "source": [
    "combined_employed.head(10)"
   ]
  },
  {
   "cell_type": "code",
   "execution_count": 113,
   "metadata": {},
   "outputs": [
    {
     "data": {
      "text/html": [
       "<div>\n",
       "<style scoped>\n",
       "    .dataframe tbody tr th:only-of-type {\n",
       "        vertical-align: middle;\n",
       "    }\n",
       "\n",
       "    .dataframe tbody tr th {\n",
       "        vertical-align: top;\n",
       "    }\n",
       "\n",
       "    .dataframe thead th {\n",
       "        text-align: right;\n",
       "    }\n",
       "</style>\n",
       "<table border=\"1\" class=\"dataframe\">\n",
       "  <thead>\n",
       "    <tr style=\"text-align: right;\">\n",
       "      <th>11</th>\n",
       "      <th>Year</th>\n",
       "      <th>Occupation</th>\n",
       "      <th>Jan</th>\n",
       "      <th>Feb</th>\n",
       "      <th>Mar</th>\n",
       "      <th>Apr</th>\n",
       "      <th>May</th>\n",
       "      <th>Jun</th>\n",
       "      <th>Jul</th>\n",
       "      <th>Aug</th>\n",
       "      <th>Sep</th>\n",
       "      <th>Oct</th>\n",
       "      <th>Nov</th>\n",
       "      <th>Dec</th>\n",
       "    </tr>\n",
       "  </thead>\n",
       "  <tbody>\n",
       "    <tr>\n",
       "      <th>0</th>\n",
       "      <td>2019</td>\n",
       "      <td>Construction</td>\n",
       "      <td>8453</td>\n",
       "      <td>8272</td>\n",
       "      <td>8367</td>\n",
       "      <td>8274</td>\n",
       "      <td>8123</td>\n",
       "      <td>8352</td>\n",
       "      <td>8545</td>\n",
       "      <td>8415</td>\n",
       "      <td>8347</td>\n",
       "      <td>8365</td>\n",
       "      <td>8242</td>\n",
       "      <td>8143</td>\n",
       "    </tr>\n",
       "    <tr>\n",
       "      <th>1</th>\n",
       "      <td>2020</td>\n",
       "      <td>Construction</td>\n",
       "      <td>8015</td>\n",
       "      <td>8149</td>\n",
       "      <td>8029</td>\n",
       "      <td>6549</td>\n",
       "      <td>6872</td>\n",
       "      <td>7371</td>\n",
       "      <td>7675</td>\n",
       "      <td>NaN</td>\n",
       "      <td>NaN</td>\n",
       "      <td>NaN</td>\n",
       "      <td>NaN</td>\n",
       "      <td>NaN</td>\n",
       "    </tr>\n",
       "    <tr>\n",
       "      <th>2</th>\n",
       "      <td>2019</td>\n",
       "      <td>Farming</td>\n",
       "      <td>1119</td>\n",
       "      <td>1143</td>\n",
       "      <td>1130</td>\n",
       "      <td>1198</td>\n",
       "      <td>1330</td>\n",
       "      <td>1117</td>\n",
       "      <td>1211</td>\n",
       "      <td>1115</td>\n",
       "      <td>1149</td>\n",
       "      <td>1123</td>\n",
       "      <td>1067</td>\n",
       "      <td>1171</td>\n",
       "    </tr>\n",
       "    <tr>\n",
       "      <th>3</th>\n",
       "      <td>2020</td>\n",
       "      <td>Farming</td>\n",
       "      <td>1081</td>\n",
       "      <td>1139</td>\n",
       "      <td>1103</td>\n",
       "      <td>1079</td>\n",
       "      <td>1118</td>\n",
       "      <td>948</td>\n",
       "      <td>983</td>\n",
       "      <td>NaN</td>\n",
       "      <td>NaN</td>\n",
       "      <td>NaN</td>\n",
       "      <td>NaN</td>\n",
       "      <td>NaN</td>\n",
       "    </tr>\n",
       "    <tr>\n",
       "      <th>4</th>\n",
       "      <td>2019</td>\n",
       "      <td>Installation</td>\n",
       "      <td>4705</td>\n",
       "      <td>4549</td>\n",
       "      <td>4562</td>\n",
       "      <td>4669</td>\n",
       "      <td>4901</td>\n",
       "      <td>4938</td>\n",
       "      <td>4948</td>\n",
       "      <td>5019</td>\n",
       "      <td>5037</td>\n",
       "      <td>4901</td>\n",
       "      <td>5101</td>\n",
       "      <td>5016</td>\n",
       "    </tr>\n",
       "  </tbody>\n",
       "</table>\n",
       "</div>"
      ],
      "text/plain": [
       "11  Year    Occupation   Jan   Feb   Mar   Apr   May   Jun   Jul   Aug   Sep  \\\n",
       "0   2019  Construction  8453  8272  8367  8274  8123  8352  8545  8415  8347   \n",
       "1   2020  Construction  8015  8149  8029  6549  6872  7371  7675   NaN   NaN   \n",
       "2   2019       Farming  1119  1143  1130  1198  1330  1117  1211  1115  1149   \n",
       "3   2020       Farming  1081  1139  1103  1079  1118   948   983   NaN   NaN   \n",
       "4   2019  Installation  4705  4549  4562  4669  4901  4938  4948  5019  5037   \n",
       "\n",
       "11   Oct   Nov   Dec  \n",
       "0   8365  8242  8143  \n",
       "1    NaN   NaN   NaN  \n",
       "2   1123  1067  1171  \n",
       "3    NaN   NaN   NaN  \n",
       "4   4901  5101  5016  "
      ]
     },
     "execution_count": 113,
     "metadata": {},
     "output_type": "execute_result"
    }
   ],
   "source": [
    "#reset index\n",
    "combined_employed = combined_employed.reset_index(drop=True)\n",
    "combined_employed.head()"
   ]
  },
  {
   "cell_type": "code",
   "execution_count": null,
   "metadata": {},
   "outputs": [],
   "source": []
  }
 ],
 "metadata": {
  "kernelspec": {
   "display_name": "Python 3",
   "language": "python",
   "name": "python3"
  },
  "language_info": {
   "codemirror_mode": {
    "name": "ipython",
    "version": 3
   },
   "file_extension": ".py",
   "mimetype": "text/x-python",
   "name": "python",
   "nbconvert_exporter": "python",
   "pygments_lexer": "ipython3",
   "version": "3.8.3"
  }
 },
 "nbformat": 4,
 "nbformat_minor": 4
}
