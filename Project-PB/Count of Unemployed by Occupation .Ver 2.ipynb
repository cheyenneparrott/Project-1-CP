{
 "cells": [
  {
   "cell_type": "code",
   "execution_count": 1,
   "metadata": {},
   "outputs": [],
   "source": [
    "# Dependencies\n",
    "import pandas as pd\n",
    "import matplotlib.pyplot as plt\n",
    "import csv"
   ]
  },
  {
   "cell_type": "code",
   "execution_count": 2,
   "metadata": {},
   "outputs": [],
   "source": [
    "# Store filepath in a variable\n",
    "file_one = \"Construction and extraction occupationsUnemployed.csv\"\n",
    "file_two = \"Farming, fishing, and forestry occupationsUnemployed.csv\"\n",
    "file_three = \"Installation, maintenance, and repair occupationsUnemployed.csv\"\n",
    "file_four = \"Management, business, and financial operations occupationsUnemployed.csv\"\n",
    "file_five = \"Office and administrative support occupationsUnemployed.csv\"\n",
    "file_six = \"Production occupationsUnemployed.csv\"\n",
    "file_seven = \"Professional and related occupationsUnemployed.csv\"\n",
    "file_eight = \"Sales and related occupationsUnemployed.csv\"\n",
    "file_nine = \"Transportation and material moving occupationsUnemployed.csv\""
   ]
  },
  {
   "cell_type": "code",
   "execution_count": 3,
   "metadata": {},
   "outputs": [],
   "source": [
    "# Read the mouse data and the study results\n",
    "cons_unemployed = pd.read_csv(file_one)\n",
    "farm_unemployed = pd.read_csv(file_two)\n",
    "inst_unemployed = pd.read_csv(file_three)\n",
    "fina_unemployed = pd.read_csv(file_four)\n",
    "offi_unemployed = pd.read_csv(file_five)\n",
    "prod_unemployed = pd.read_csv(file_six)\n",
    "prof_unemployed = pd.read_csv(file_seven)\n",
    "sale_unemployed = pd.read_csv(file_eight)\n",
    "tran_unemployed = pd.read_csv(file_nine)"
   ]
  },
  {
   "cell_type": "markdown",
   "metadata": {},
   "source": [
    "## Construction and extraction occupations"
   ]
  },
  {
   "cell_type": "markdown",
   "metadata": {},
   "source": [
    "### Step 1 - Preparaing data for merging with other occupational data "
   ]
  },
  {
   "cell_type": "code",
   "execution_count": 4,
   "metadata": {
    "scrolled": true
   },
   "outputs": [
    {
     "data": {
      "text/html": [
       "<div>\n",
       "<style scoped>\n",
       "    .dataframe tbody tr th:only-of-type {\n",
       "        vertical-align: middle;\n",
       "    }\n",
       "\n",
       "    .dataframe tbody tr th {\n",
       "        vertical-align: top;\n",
       "    }\n",
       "\n",
       "    .dataframe thead th {\n",
       "        text-align: right;\n",
       "    }\n",
       "</style>\n",
       "<table border=\"1\" class=\"dataframe\">\n",
       "  <thead>\n",
       "    <tr style=\"text-align: right;\">\n",
       "      <th></th>\n",
       "      <th>Labor Force Statistics from the Current Population Survey</th>\n",
       "      <th>Unnamed: 1</th>\n",
       "      <th>Unnamed: 2</th>\n",
       "      <th>Unnamed: 3</th>\n",
       "      <th>Unnamed: 4</th>\n",
       "      <th>Unnamed: 5</th>\n",
       "      <th>Unnamed: 6</th>\n",
       "      <th>Unnamed: 7</th>\n",
       "      <th>Unnamed: 8</th>\n",
       "      <th>Unnamed: 9</th>\n",
       "      <th>Unnamed: 10</th>\n",
       "      <th>Unnamed: 11</th>\n",
       "      <th>Unnamed: 12</th>\n",
       "    </tr>\n",
       "  </thead>\n",
       "  <tbody>\n",
       "    <tr>\n",
       "      <th>12</th>\n",
       "      <td>Year</td>\n",
       "      <td>Jan</td>\n",
       "      <td>Feb</td>\n",
       "      <td>Mar</td>\n",
       "      <td>Apr</td>\n",
       "      <td>May</td>\n",
       "      <td>Jun</td>\n",
       "      <td>Jul</td>\n",
       "      <td>Aug</td>\n",
       "      <td>Sep</td>\n",
       "      <td>Oct</td>\n",
       "      <td>Nov</td>\n",
       "      <td>Dec</td>\n",
       "    </tr>\n",
       "    <tr>\n",
       "      <th>13</th>\n",
       "      <td>2019</td>\n",
       "      <td>689</td>\n",
       "      <td>598</td>\n",
       "      <td>503</td>\n",
       "      <td>453</td>\n",
       "      <td>314</td>\n",
       "      <td>364</td>\n",
       "      <td>406</td>\n",
       "      <td>398</td>\n",
       "      <td>314</td>\n",
       "      <td>402</td>\n",
       "      <td>437</td>\n",
       "      <td>547</td>\n",
       "    </tr>\n",
       "    <tr>\n",
       "      <th>14</th>\n",
       "      <td>2020</td>\n",
       "      <td>590</td>\n",
       "      <td>604</td>\n",
       "      <td>727</td>\n",
       "      <td>1529</td>\n",
       "      <td>1232</td>\n",
       "      <td>961</td>\n",
       "      <td>876</td>\n",
       "      <td>NaN</td>\n",
       "      <td>NaN</td>\n",
       "      <td>NaN</td>\n",
       "      <td>NaN</td>\n",
       "      <td>NaN</td>\n",
       "    </tr>\n",
       "  </tbody>\n",
       "</table>\n",
       "</div>"
      ],
      "text/plain": [
       "   Labor Force Statistics from the Current Population Survey Unnamed: 1  \\\n",
       "12                                               Year               Jan   \n",
       "13                                               2019               689   \n",
       "14                                               2020               590   \n",
       "\n",
       "   Unnamed: 2 Unnamed: 3 Unnamed: 4 Unnamed: 5 Unnamed: 6 Unnamed: 7  \\\n",
       "12        Feb        Mar        Apr        May        Jun        Jul   \n",
       "13        598        503        453        314        364        406   \n",
       "14        604        727       1529       1232        961        876   \n",
       "\n",
       "   Unnamed: 8 Unnamed: 9 Unnamed: 10 Unnamed: 11 Unnamed: 12  \n",
       "12        Aug        Sep         Oct         Nov         Dec  \n",
       "13        398        314         402         437         547  \n",
       "14        NaN        NaN         NaN         NaN         NaN  "
      ]
     },
     "execution_count": 4,
     "metadata": {},
     "output_type": "execute_result"
    }
   ],
   "source": [
    "# #removing extra rows and columns\n",
    "cons_unemployed_clean = cons_unemployed.drop(cons_unemployed.index[[0,1,2,3,4,5,6,7,8,9,10,11]])\n",
    "cons_unemployed_clean"
   ]
  },
  {
   "cell_type": "code",
   "execution_count": 5,
   "metadata": {},
   "outputs": [],
   "source": [
    "# Adding the correct header\n",
    "headers = cons_unemployed_clean.iloc[0]\n",
    "cons_unemployed_clean = cons_unemployed_clean[1:] "
   ]
  },
  {
   "cell_type": "code",
   "execution_count": 6,
   "metadata": {},
   "outputs": [
    {
     "data": {
      "text/html": [
       "<div>\n",
       "<style scoped>\n",
       "    .dataframe tbody tr th:only-of-type {\n",
       "        vertical-align: middle;\n",
       "    }\n",
       "\n",
       "    .dataframe tbody tr th {\n",
       "        vertical-align: top;\n",
       "    }\n",
       "\n",
       "    .dataframe thead th {\n",
       "        text-align: right;\n",
       "    }\n",
       "</style>\n",
       "<table border=\"1\" class=\"dataframe\">\n",
       "  <thead>\n",
       "    <tr style=\"text-align: right;\">\n",
       "      <th></th>\n",
       "      <th>Labor Force Statistics from the Current Population Survey</th>\n",
       "      <th>Occupation</th>\n",
       "      <th>Unnamed: 1</th>\n",
       "      <th>Unnamed: 2</th>\n",
       "      <th>Unnamed: 3</th>\n",
       "      <th>Unnamed: 4</th>\n",
       "      <th>Unnamed: 5</th>\n",
       "      <th>Unnamed: 6</th>\n",
       "      <th>Unnamed: 7</th>\n",
       "      <th>Unnamed: 8</th>\n",
       "      <th>Unnamed: 9</th>\n",
       "      <th>Unnamed: 10</th>\n",
       "      <th>Unnamed: 11</th>\n",
       "      <th>Unnamed: 12</th>\n",
       "    </tr>\n",
       "  </thead>\n",
       "  <tbody>\n",
       "    <tr>\n",
       "      <th>13</th>\n",
       "      <td>2019</td>\n",
       "      <td>Construction</td>\n",
       "      <td>689</td>\n",
       "      <td>598</td>\n",
       "      <td>503</td>\n",
       "      <td>453</td>\n",
       "      <td>314</td>\n",
       "      <td>364</td>\n",
       "      <td>406</td>\n",
       "      <td>398</td>\n",
       "      <td>314</td>\n",
       "      <td>402</td>\n",
       "      <td>437</td>\n",
       "      <td>547</td>\n",
       "    </tr>\n",
       "    <tr>\n",
       "      <th>14</th>\n",
       "      <td>2020</td>\n",
       "      <td>Construction</td>\n",
       "      <td>590</td>\n",
       "      <td>604</td>\n",
       "      <td>727</td>\n",
       "      <td>1529</td>\n",
       "      <td>1232</td>\n",
       "      <td>961</td>\n",
       "      <td>876</td>\n",
       "      <td>NaN</td>\n",
       "      <td>NaN</td>\n",
       "      <td>NaN</td>\n",
       "      <td>NaN</td>\n",
       "      <td>NaN</td>\n",
       "    </tr>\n",
       "  </tbody>\n",
       "</table>\n",
       "</div>"
      ],
      "text/plain": [
       "   Labor Force Statistics from the Current Population Survey    Occupation  \\\n",
       "13                                               2019         Construction   \n",
       "14                                               2020         Construction   \n",
       "\n",
       "   Unnamed: 1 Unnamed: 2 Unnamed: 3 Unnamed: 4 Unnamed: 5 Unnamed: 6  \\\n",
       "13        689        598        503        453        314        364   \n",
       "14        590        604        727       1529       1232        961   \n",
       "\n",
       "   Unnamed: 7 Unnamed: 8 Unnamed: 9 Unnamed: 10 Unnamed: 11 Unnamed: 12  \n",
       "13        406        398        314         402         437         547  \n",
       "14        876        NaN        NaN         NaN         NaN         NaN  "
      ]
     },
     "execution_count": 6,
     "metadata": {},
     "output_type": "execute_result"
    }
   ],
   "source": [
    "cons_unemployed"
   ]
  },
  {
   "cell_type": "code",
   "execution_count": 16,
   "metadata": {},
   "outputs": [],
   "source": [
    "#cons_unemployed_si = cons_unemployed.set_index(\"Labor Force Statistics from the Current Population Survey\")\n",
    "#cons_unemployed_tp.reset_index(inplace = True)\n",
    "cons_unemployed_tp = cons_unemployed.transpose()\n",
    "cons_unemployed_tp.reset_index(inplace=True)\n",
    "cons_unemployed_tp.columns = [\"Months\", \"2019\", \"2020\"]"
   ]
  },
  {
   "cell_type": "code",
   "execution_count": 27,
   "metadata": {},
   "outputs": [
    {
     "data": {
      "text/html": [
       "<div>\n",
       "<style scoped>\n",
       "    .dataframe tbody tr th:only-of-type {\n",
       "        vertical-align: middle;\n",
       "    }\n",
       "\n",
       "    .dataframe tbody tr th {\n",
       "        vertical-align: top;\n",
       "    }\n",
       "\n",
       "    .dataframe thead th {\n",
       "        text-align: right;\n",
       "    }\n",
       "</style>\n",
       "<table border=\"1\" class=\"dataframe\">\n",
       "  <thead>\n",
       "    <tr style=\"text-align: right;\">\n",
       "      <th></th>\n",
       "      <th>Months</th>\n",
       "      <th>2019</th>\n",
       "      <th>2020</th>\n",
       "    </tr>\n",
       "  </thead>\n",
       "  <tbody>\n",
       "    <tr>\n",
       "      <th>4</th>\n",
       "      <td>Unnamed: 3</td>\n",
       "      <td>503</td>\n",
       "      <td>727</td>\n",
       "    </tr>\n",
       "    <tr>\n",
       "      <th>5</th>\n",
       "      <td>Unnamed: 4</td>\n",
       "      <td>453</td>\n",
       "      <td>1529</td>\n",
       "    </tr>\n",
       "    <tr>\n",
       "      <th>6</th>\n",
       "      <td>Unnamed: 5</td>\n",
       "      <td>314</td>\n",
       "      <td>1232</td>\n",
       "    </tr>\n",
       "    <tr>\n",
       "      <th>7</th>\n",
       "      <td>Unnamed: 6</td>\n",
       "      <td>364</td>\n",
       "      <td>961</td>\n",
       "    </tr>\n",
       "    <tr>\n",
       "      <th>8</th>\n",
       "      <td>Unnamed: 7</td>\n",
       "      <td>406</td>\n",
       "      <td>876</td>\n",
       "    </tr>\n",
       "    <tr>\n",
       "      <th>9</th>\n",
       "      <td>Unnamed: 8</td>\n",
       "      <td>398</td>\n",
       "      <td>NaN</td>\n",
       "    </tr>\n",
       "    <tr>\n",
       "      <th>10</th>\n",
       "      <td>Unnamed: 9</td>\n",
       "      <td>314</td>\n",
       "      <td>NaN</td>\n",
       "    </tr>\n",
       "    <tr>\n",
       "      <th>11</th>\n",
       "      <td>Unnamed: 10</td>\n",
       "      <td>402</td>\n",
       "      <td>NaN</td>\n",
       "    </tr>\n",
       "    <tr>\n",
       "      <th>12</th>\n",
       "      <td>Unnamed: 11</td>\n",
       "      <td>437</td>\n",
       "      <td>NaN</td>\n",
       "    </tr>\n",
       "    <tr>\n",
       "      <th>13</th>\n",
       "      <td>Unnamed: 12</td>\n",
       "      <td>547</td>\n",
       "      <td>NaN</td>\n",
       "    </tr>\n",
       "  </tbody>\n",
       "</table>\n",
       "</div>"
      ],
      "text/plain": [
       "         Months  2019  2020\n",
       "4    Unnamed: 3   503   727\n",
       "5    Unnamed: 4   453  1529\n",
       "6    Unnamed: 5   314  1232\n",
       "7    Unnamed: 6   364   961\n",
       "8    Unnamed: 7   406   876\n",
       "9    Unnamed: 8   398   NaN\n",
       "10   Unnamed: 9   314   NaN\n",
       "11  Unnamed: 10   402   NaN\n",
       "12  Unnamed: 11   437   NaN\n",
       "13  Unnamed: 12   547   NaN"
      ]
     },
     "execution_count": 27,
     "metadata": {},
     "output_type": "execute_result"
    }
   ],
   "source": [
    "#cons_unemployed_tp[\"2019\"]= pd.to_numeric(cons_unemployed_tp[\"2019\"])\n",
    "cons_unemployed_tp = cons_unemployed_tp.drop(cons_unemployed_tp.index[[0,1]])\n",
    "cons_unemployed_tp[\"2019\"]= pd.to_numeric(cons_unemployed_tp[\"2019\"])\n",
    "cons_unemployed_tp"
   ]
  },
  {
   "cell_type": "code",
   "execution_count": 28,
   "metadata": {},
   "outputs": [
    {
     "data": {
      "image/png": "[encoded data removed]",
      "text/plain": [
       "<Figure size 432x288 with 1 Axes>"
      ]
     },
     "metadata": {
      "needs_background": "light"
     },
     "output_type": "display_data"
    }
   ],
   "source": [
    "#Plot chart for Construction unemployment in 2019\n",
    "cons_unemployed_tp.plot(kind = \"bar\", x = \"Months\", y = \"2019\")\n",
    "\n",
    "plt.show()"
   ]
  },
  {
   "cell_type": "code",
   "execution_count": null,
   "metadata": {},
   "outputs": [],
   "source": [
    "#Plot chart for Construction unemployment in 2019\n",
    "cons_unemployed_tp.plot(kind = \"bar\", x = \"13\", y = \"\")\n",
    "\n",
    "plt.show()"
   ]
  },
  {
   "cell_type": "code",
   "execution_count": null,
   "metadata": {},
   "outputs": [],
   "source": [
    "#Plot chart for Construction unemployment in 2020"
   ]
  },
  {
   "cell_type": "code",
   "execution_count": null,
   "metadata": {},
   "outputs": [],
   "source": []
  },
  {
   "cell_type": "code",
   "execution_count": null,
   "metadata": {},
   "outputs": [],
   "source": [
    "cons_unemployed_clean.columns = headers"
   ]
  },
  {
   "cell_type": "code",
   "execution_count": null,
   "metadata": {},
   "outputs": [
    {
     "data": {
      "text/html": [
       "<div>\n",
       "<style scoped>\n",
       "    .dataframe tbody tr th:only-of-type {\n",
       "        vertical-align: middle;\n",
       "    }\n",
       "\n",
       "    .dataframe tbody tr th {\n",
       "        vertical-align: top;\n",
       "    }\n",
       "\n",
       "    .dataframe thead th {\n",
       "        text-align: right;\n",
       "    }\n",
       "</style>\n",
       "<table border=\"1\" class=\"dataframe\">\n",
       "  <thead>\n",
       "    <tr style=\"text-align: right;\">\n",
       "      <th>12</th>\n",
       "      <th>Year</th>\n",
       "      <th>Jan</th>\n",
       "      <th>Feb</th>\n",
       "      <th>Mar</th>\n",
       "      <th>Apr</th>\n",
       "      <th>May</th>\n",
       "      <th>Jun</th>\n",
       "      <th>Jul</th>\n",
       "      <th>Aug</th>\n",
       "      <th>Sep</th>\n",
       "      <th>Oct</th>\n",
       "      <th>Nov</th>\n",
       "      <th>Dec</th>\n",
       "    </tr>\n",
       "  </thead>\n",
       "  <tbody>\n",
       "    <tr>\n",
       "      <th>13</th>\n",
       "      <td>2019</td>\n",
       "      <td>689</td>\n",
       "      <td>598</td>\n",
       "      <td>503</td>\n",
       "      <td>453</td>\n",
       "      <td>314</td>\n",
       "      <td>364</td>\n",
       "      <td>406</td>\n",
       "      <td>398</td>\n",
       "      <td>314</td>\n",
       "      <td>402</td>\n",
       "      <td>437</td>\n",
       "      <td>547</td>\n",
       "    </tr>\n",
       "    <tr>\n",
       "      <th>14</th>\n",
       "      <td>2020</td>\n",
       "      <td>590</td>\n",
       "      <td>604</td>\n",
       "      <td>727</td>\n",
       "      <td>1529</td>\n",
       "      <td>1232</td>\n",
       "      <td>961</td>\n",
       "      <td>876</td>\n",
       "      <td>NaN</td>\n",
       "      <td>NaN</td>\n",
       "      <td>NaN</td>\n",
       "      <td>NaN</td>\n",
       "      <td>NaN</td>\n",
       "    </tr>\n",
       "  </tbody>\n",
       "</table>\n",
       "</div>"
      ],
      "text/plain": [
       "12  Year  Jan  Feb  Mar   Apr   May  Jun  Jul  Aug  Sep  Oct  Nov  Dec\n",
       "13  2019  689  598  503   453   314  364  406  398  314  402  437  547\n",
       "14  2020  590  604  727  1529  1232  961  876  NaN  NaN  NaN  NaN  NaN"
      ]
     },
     "execution_count": 7,
     "metadata": {},
     "output_type": "execute_result"
    }
   ],
   "source": [
    "cons_unemployed_clean"
   ]
  },
  {
   "cell_type": "markdown",
   "metadata": {},
   "source": [
    "### Step 2 - Preparaing data for plotting "
   ]
  },
  {
   "cell_type": "code",
   "execution_count": null,
   "metadata": {},
   "outputs": [],
   "source": [
    "# creating new variable and transposing it for plotting\n",
    "cons_un_tp = cons_unemployed_clean.transpose()"
   ]
  },
  {
   "cell_type": "code",
   "execution_count": null,
   "metadata": {},
   "outputs": [],
   "source": [
    "# Adding the correct header\n",
    "headers = cons_un_tp.iloc[0]\n",
    "cons_un_tp = cons_un_tp[1:] "
   ]
  },
  {
   "cell_type": "code",
   "execution_count": null,
   "metadata": {},
   "outputs": [],
   "source": [
    "cons_un_tp.columns = headers"
   ]
  },
  {
   "cell_type": "code",
   "execution_count": null,
   "metadata": {},
   "outputs": [],
   "source": [
    "# changing the datatype to numeric for plotting\n",
    "cons_un_tp = cons_un_tp.apply (pd.to_numeric, errors=\"ignore\")"
   ]
  },
  {
   "cell_type": "code",
   "execution_count": null,
   "metadata": {},
   "outputs": [
    {
     "data": {
      "image/png": "[encoded data removed]",
      "text/plain": [
       "<Figure size 864x216 with 1 Axes>"
      ]
     },
     "metadata": {
      "needs_background": "light"
     },
     "output_type": "display_data"
    },
    {
     "data": {
      "text/plain": [
       "<Figure size 432x288 with 0 Axes>"
      ]
     },
     "metadata": {},
     "output_type": "display_data"
    }
   ],
   "source": [
    "# Use DataFrame.plot() in order to create a bar chart of the data\n",
    "cons_un_tp.plot(kind=\"bar\", figsize=(12,3))\n",
    "\n",
    "# Set a title for the chart\n",
    "plt.title(\"Count of Unemployed- Construction and Extraction\")\n",
    "\n",
    "plt.show()\n",
    "plt.tight_layout()"
   ]
  },
  {
   "cell_type": "markdown",
   "metadata": {},
   "source": [
    "### Step 3 - Add Occupation column dataframe created in step 1"
   ]
  },
  {
   "cell_type": "code",
   "execution_count": 13,
   "metadata": {},
   "outputs": [],
   "source": [
    "# This dataframe will be merged with other occupations dataframe"
   ]
  },
  {
   "cell_type": "code",
   "execution_count": null,
   "metadata": {},
   "outputs": [],
   "source": [
    "# Add occupation column\n",
    "# inserting column with static value in data frame \n",
    "cons_unemployed_clean.insert(1, \"Occupation\", \"Construction\")"
   ]
  },
  {
   "cell_type": "code",
   "execution_count": 15,
   "metadata": {},
   "outputs": [
    {
     "data": {
      "text/html": [
       "<div>\n",
       "<style scoped>\n",
       "    .dataframe tbody tr th:only-of-type {\n",
       "        vertical-align: middle;\n",
       "    }\n",
       "\n",
       "    .dataframe tbody tr th {\n",
       "        vertical-align: top;\n",
       "    }\n",
       "\n",
       "    .dataframe thead th {\n",
       "        text-align: right;\n",
       "    }\n",
       "</style>\n",
       "<table border=\"1\" class=\"dataframe\">\n",
       "  <thead>\n",
       "    <tr style=\"text-align: right;\">\n",
       "      <th>12</th>\n",
       "      <th>Year</th>\n",
       "      <th>Occupation</th>\n",
       "      <th>Jan</th>\n",
       "      <th>Feb</th>\n",
       "      <th>Mar</th>\n",
       "      <th>Apr</th>\n",
       "      <th>May</th>\n",
       "      <th>Jun</th>\n",
       "      <th>Jul</th>\n",
       "      <th>Aug</th>\n",
       "      <th>Sep</th>\n",
       "      <th>Oct</th>\n",
       "      <th>Nov</th>\n",
       "      <th>Dec</th>\n",
       "    </tr>\n",
       "  </thead>\n",
       "  <tbody>\n",
       "    <tr>\n",
       "      <th>13</th>\n",
       "      <td>2019</td>\n",
       "      <td>Construction</td>\n",
       "      <td>689</td>\n",
       "      <td>598</td>\n",
       "      <td>503</td>\n",
       "      <td>453</td>\n",
       "      <td>314</td>\n",
       "      <td>364</td>\n",
       "      <td>406</td>\n",
       "      <td>398</td>\n",
       "      <td>314</td>\n",
       "      <td>402</td>\n",
       "      <td>437</td>\n",
       "      <td>547</td>\n",
       "    </tr>\n",
       "    <tr>\n",
       "      <th>14</th>\n",
       "      <td>2020</td>\n",
       "      <td>Construction</td>\n",
       "      <td>590</td>\n",
       "      <td>604</td>\n",
       "      <td>727</td>\n",
       "      <td>1529</td>\n",
       "      <td>1232</td>\n",
       "      <td>961</td>\n",
       "      <td>876</td>\n",
       "      <td>NaN</td>\n",
       "      <td>NaN</td>\n",
       "      <td>NaN</td>\n",
       "      <td>NaN</td>\n",
       "      <td>NaN</td>\n",
       "    </tr>\n",
       "  </tbody>\n",
       "</table>\n",
       "</div>"
      ],
      "text/plain": [
       "12  Year    Occupation  Jan  Feb  Mar   Apr   May  Jun  Jul  Aug  Sep  Oct  \\\n",
       "13  2019  Construction  689  598  503   453   314  364  406  398  314  402   \n",
       "14  2020  Construction  590  604  727  1529  1232  961  876  NaN  NaN  NaN   \n",
       "\n",
       "12  Nov  Dec  \n",
       "13  437  547  \n",
       "14  NaN  NaN  "
      ]
     },
     "execution_count": 15,
     "metadata": {},
     "output_type": "execute_result"
    }
   ],
   "source": [
    "cons_unemployed_clean"
   ]
  },
  {
   "cell_type": "markdown",
   "metadata": {},
   "source": [
    "## Farming, Fishing and Forestry"
   ]
  },
  {
   "cell_type": "code",
   "execution_count": 16,
   "metadata": {},
   "outputs": [
    {
     "data": {
      "text/html": [
       "<div>\n",
       "<style scoped>\n",
       "    .dataframe tbody tr th:only-of-type {\n",
       "        vertical-align: middle;\n",
       "    }\n",
       "\n",
       "    .dataframe tbody tr th {\n",
       "        vertical-align: top;\n",
       "    }\n",
       "\n",
       "    .dataframe thead th {\n",
       "        text-align: right;\n",
       "    }\n",
       "</style>\n",
       "<table border=\"1\" class=\"dataframe\">\n",
       "  <thead>\n",
       "    <tr style=\"text-align: right;\">\n",
       "      <th></th>\n",
       "      <th>Labor Force Statistics from the Current Population Survey</th>\n",
       "      <th>Unnamed: 1</th>\n",
       "      <th>Unnamed: 2</th>\n",
       "      <th>Unnamed: 3</th>\n",
       "      <th>Unnamed: 4</th>\n",
       "      <th>Unnamed: 5</th>\n",
       "      <th>Unnamed: 6</th>\n",
       "      <th>Unnamed: 7</th>\n",
       "      <th>Unnamed: 8</th>\n",
       "      <th>Unnamed: 9</th>\n",
       "      <th>Unnamed: 10</th>\n",
       "      <th>Unnamed: 11</th>\n",
       "      <th>Unnamed: 12</th>\n",
       "    </tr>\n",
       "  </thead>\n",
       "  <tbody>\n",
       "    <tr>\n",
       "      <th>12</th>\n",
       "      <td>Year</td>\n",
       "      <td>Jan</td>\n",
       "      <td>Feb</td>\n",
       "      <td>Mar</td>\n",
       "      <td>Apr</td>\n",
       "      <td>May</td>\n",
       "      <td>Jun</td>\n",
       "      <td>Jul</td>\n",
       "      <td>Aug</td>\n",
       "      <td>Sep</td>\n",
       "      <td>Oct</td>\n",
       "      <td>Nov</td>\n",
       "      <td>Dec</td>\n",
       "    </tr>\n",
       "    <tr>\n",
       "      <th>13</th>\n",
       "      <td>2019</td>\n",
       "      <td>257</td>\n",
       "      <td>190</td>\n",
       "      <td>207</td>\n",
       "      <td>140</td>\n",
       "      <td>93</td>\n",
       "      <td>90</td>\n",
       "      <td>61</td>\n",
       "      <td>50</td>\n",
       "      <td>63</td>\n",
       "      <td>55</td>\n",
       "      <td>134</td>\n",
       "      <td>130</td>\n",
       "    </tr>\n",
       "    <tr>\n",
       "      <th>14</th>\n",
       "      <td>2020</td>\n",
       "      <td>210</td>\n",
       "      <td>183</td>\n",
       "      <td>131</td>\n",
       "      <td>153</td>\n",
       "      <td>101</td>\n",
       "      <td>76</td>\n",
       "      <td>78</td>\n",
       "      <td>NaN</td>\n",
       "      <td>NaN</td>\n",
       "      <td>NaN</td>\n",
       "      <td>NaN</td>\n",
       "      <td>NaN</td>\n",
       "    </tr>\n",
       "  </tbody>\n",
       "</table>\n",
       "</div>"
      ],
      "text/plain": [
       "   Labor Force Statistics from the Current Population Survey Unnamed: 1  \\\n",
       "12                                               Year               Jan   \n",
       "13                                               2019               257   \n",
       "14                                               2020               210   \n",
       "\n",
       "   Unnamed: 2 Unnamed: 3 Unnamed: 4 Unnamed: 5 Unnamed: 6 Unnamed: 7  \\\n",
       "12        Feb        Mar        Apr        May        Jun        Jul   \n",
       "13        190        207        140         93         90         61   \n",
       "14        183        131        153        101         76         78   \n",
       "\n",
       "   Unnamed: 8 Unnamed: 9 Unnamed: 10 Unnamed: 11 Unnamed: 12  \n",
       "12        Aug        Sep         Oct         Nov         Dec  \n",
       "13         50         63          55         134         130  \n",
       "14        NaN        NaN         NaN         NaN         NaN  "
      ]
     },
     "execution_count": 16,
     "metadata": {},
     "output_type": "execute_result"
    }
   ],
   "source": [
    "# #removing extra rows and columns\n",
    "farm_unemployed_clean = farm_unemployed.drop(farm_unemployed.index[[0,1,2,3,4,5,6,7,8,9,10,11]])\n",
    "farm_unemployed_clean"
   ]
  },
  {
   "cell_type": "code",
   "execution_count": 17,
   "metadata": {},
   "outputs": [],
   "source": [
    "# Adding the correct header\n",
    "headers = farm_unemployed_clean.iloc[0]\n",
    "farm_unemployed_clean = farm_unemployed_clean[1:] "
   ]
  },
  {
   "cell_type": "code",
   "execution_count": 18,
   "metadata": {},
   "outputs": [],
   "source": [
    "farm_unemployed_clean.columns = headers"
   ]
  },
  {
   "cell_type": "code",
   "execution_count": 19,
   "metadata": {},
   "outputs": [
    {
     "data": {
      "text/html": [
       "<div>\n",
       "<style scoped>\n",
       "    .dataframe tbody tr th:only-of-type {\n",
       "        vertical-align: middle;\n",
       "    }\n",
       "\n",
       "    .dataframe tbody tr th {\n",
       "        vertical-align: top;\n",
       "    }\n",
       "\n",
       "    .dataframe thead th {\n",
       "        text-align: right;\n",
       "    }\n",
       "</style>\n",
       "<table border=\"1\" class=\"dataframe\">\n",
       "  <thead>\n",
       "    <tr style=\"text-align: right;\">\n",
       "      <th>12</th>\n",
       "      <th>Year</th>\n",
       "      <th>Jan</th>\n",
       "      <th>Feb</th>\n",
       "      <th>Mar</th>\n",
       "      <th>Apr</th>\n",
       "      <th>May</th>\n",
       "      <th>Jun</th>\n",
       "      <th>Jul</th>\n",
       "      <th>Aug</th>\n",
       "      <th>Sep</th>\n",
       "      <th>Oct</th>\n",
       "      <th>Nov</th>\n",
       "      <th>Dec</th>\n",
       "    </tr>\n",
       "  </thead>\n",
       "  <tbody>\n",
       "    <tr>\n",
       "      <th>13</th>\n",
       "      <td>2019</td>\n",
       "      <td>257</td>\n",
       "      <td>190</td>\n",
       "      <td>207</td>\n",
       "      <td>140</td>\n",
       "      <td>93</td>\n",
       "      <td>90</td>\n",
       "      <td>61</td>\n",
       "      <td>50</td>\n",
       "      <td>63</td>\n",
       "      <td>55</td>\n",
       "      <td>134</td>\n",
       "      <td>130</td>\n",
       "    </tr>\n",
       "    <tr>\n",
       "      <th>14</th>\n",
       "      <td>2020</td>\n",
       "      <td>210</td>\n",
       "      <td>183</td>\n",
       "      <td>131</td>\n",
       "      <td>153</td>\n",
       "      <td>101</td>\n",
       "      <td>76</td>\n",
       "      <td>78</td>\n",
       "      <td>NaN</td>\n",
       "      <td>NaN</td>\n",
       "      <td>NaN</td>\n",
       "      <td>NaN</td>\n",
       "      <td>NaN</td>\n",
       "    </tr>\n",
       "  </tbody>\n",
       "</table>\n",
       "</div>"
      ],
      "text/plain": [
       "12  Year  Jan  Feb  Mar  Apr  May Jun Jul  Aug  Sep  Oct  Nov  Dec\n",
       "13  2019  257  190  207  140   93  90  61   50   63   55  134  130\n",
       "14  2020  210  183  131  153  101  76  78  NaN  NaN  NaN  NaN  NaN"
      ]
     },
     "execution_count": 19,
     "metadata": {},
     "output_type": "execute_result"
    }
   ],
   "source": [
    "farm_unemployed_clean"
   ]
  },
  {
   "cell_type": "code",
   "execution_count": 20,
   "metadata": {},
   "outputs": [],
   "source": [
    "# creating new variable and transposing it for plotting\n",
    "farm_un_tp = farm_unemployed_clean.transpose()"
   ]
  },
  {
   "cell_type": "code",
   "execution_count": 21,
   "metadata": {},
   "outputs": [],
   "source": [
    "# Adding the correct header\n",
    "headers = farm_un_tp.iloc[0]\n",
    "farm_un_tp = farm_un_tp[1:] "
   ]
  },
  {
   "cell_type": "code",
   "execution_count": 22,
   "metadata": {},
   "outputs": [],
   "source": [
    "farm_un_tp.columns = headers"
   ]
  },
  {
   "cell_type": "code",
   "execution_count": 23,
   "metadata": {},
   "outputs": [],
   "source": [
    "# changing the datatype to numeric for plotting\n",
    "farm_un_tp = farm_un_tp.apply (pd.to_numeric, errors=\"ignore\")"
   ]
  },
  {
   "cell_type": "code",
   "execution_count": 24,
   "metadata": {},
   "outputs": [
    {
     "data": {
      "image/png": "[encoded data removed]",
      "text/plain": [
       "<Figure size 864x216 with 1 Axes>"
      ]
     },
     "metadata": {
      "needs_background": "light"
     },
     "output_type": "display_data"
    },
    {
     "data": {
      "text/plain": [
       "<Figure size 432x288 with 0 Axes>"
      ]
     },
     "metadata": {},
     "output_type": "display_data"
    }
   ],
   "source": [
    "# Use DataFrame.plot() in order to create a bar chart of the data\n",
    "farm_un_tp.plot(kind=\"bar\", figsize=(12,3))\n",
    "\n",
    "# Set a title for the chart\n",
    "plt.title(\"Count of Unemployed- Farming, Fishing and Forestry\")\n",
    "\n",
    "plt.show()\n",
    "plt.tight_layout()"
   ]
  },
  {
   "cell_type": "code",
   "execution_count": 25,
   "metadata": {},
   "outputs": [],
   "source": [
    "# Add occupation column\n",
    "# inserting column with static value in data frame \n",
    "farm_unemployed_clean.insert(1, \"Occupation\", \"Farming\")"
   ]
  },
  {
   "cell_type": "code",
   "execution_count": 26,
   "metadata": {},
   "outputs": [
    {
     "data": {
      "text/html": [
       "<div>\n",
       "<style scoped>\n",
       "    .dataframe tbody tr th:only-of-type {\n",
       "        vertical-align: middle;\n",
       "    }\n",
       "\n",
       "    .dataframe tbody tr th {\n",
       "        vertical-align: top;\n",
       "    }\n",
       "\n",
       "    .dataframe thead th {\n",
       "        text-align: right;\n",
       "    }\n",
       "</style>\n",
       "<table border=\"1\" class=\"dataframe\">\n",
       "  <thead>\n",
       "    <tr style=\"text-align: right;\">\n",
       "      <th>12</th>\n",
       "      <th>Year</th>\n",
       "      <th>Occupation</th>\n",
       "      <th>Jan</th>\n",
       "      <th>Feb</th>\n",
       "      <th>Mar</th>\n",
       "      <th>Apr</th>\n",
       "      <th>May</th>\n",
       "      <th>Jun</th>\n",
       "      <th>Jul</th>\n",
       "      <th>Aug</th>\n",
       "      <th>Sep</th>\n",
       "      <th>Oct</th>\n",
       "      <th>Nov</th>\n",
       "      <th>Dec</th>\n",
       "    </tr>\n",
       "  </thead>\n",
       "  <tbody>\n",
       "    <tr>\n",
       "      <th>13</th>\n",
       "      <td>2019</td>\n",
       "      <td>Farming</td>\n",
       "      <td>257</td>\n",
       "      <td>190</td>\n",
       "      <td>207</td>\n",
       "      <td>140</td>\n",
       "      <td>93</td>\n",
       "      <td>90</td>\n",
       "      <td>61</td>\n",
       "      <td>50</td>\n",
       "      <td>63</td>\n",
       "      <td>55</td>\n",
       "      <td>134</td>\n",
       "      <td>130</td>\n",
       "    </tr>\n",
       "    <tr>\n",
       "      <th>14</th>\n",
       "      <td>2020</td>\n",
       "      <td>Farming</td>\n",
       "      <td>210</td>\n",
       "      <td>183</td>\n",
       "      <td>131</td>\n",
       "      <td>153</td>\n",
       "      <td>101</td>\n",
       "      <td>76</td>\n",
       "      <td>78</td>\n",
       "      <td>NaN</td>\n",
       "      <td>NaN</td>\n",
       "      <td>NaN</td>\n",
       "      <td>NaN</td>\n",
       "      <td>NaN</td>\n",
       "    </tr>\n",
       "  </tbody>\n",
       "</table>\n",
       "</div>"
      ],
      "text/plain": [
       "12  Year Occupation  Jan  Feb  Mar  Apr  May Jun Jul  Aug  Sep  Oct  Nov  Dec\n",
       "13  2019    Farming  257  190  207  140   93  90  61   50   63   55  134  130\n",
       "14  2020    Farming  210  183  131  153  101  76  78  NaN  NaN  NaN  NaN  NaN"
      ]
     },
     "execution_count": 26,
     "metadata": {},
     "output_type": "execute_result"
    }
   ],
   "source": [
    "farm_unemployed_clean"
   ]
  },
  {
   "cell_type": "markdown",
   "metadata": {},
   "source": [
    "## Installation, Maintenance, and Repair"
   ]
  },
  {
   "cell_type": "code",
   "execution_count": 27,
   "metadata": {},
   "outputs": [
    {
     "data": {
      "text/html": [
       "<div>\n",
       "<style scoped>\n",
       "    .dataframe tbody tr th:only-of-type {\n",
       "        vertical-align: middle;\n",
       "    }\n",
       "\n",
       "    .dataframe tbody tr th {\n",
       "        vertical-align: top;\n",
       "    }\n",
       "\n",
       "    .dataframe thead th {\n",
       "        text-align: right;\n",
       "    }\n",
       "</style>\n",
       "<table border=\"1\" class=\"dataframe\">\n",
       "  <thead>\n",
       "    <tr style=\"text-align: right;\">\n",
       "      <th></th>\n",
       "      <th>Labor Force Statistics from the Current Population Survey</th>\n",
       "      <th>Unnamed: 1</th>\n",
       "      <th>Unnamed: 2</th>\n",
       "      <th>Unnamed: 3</th>\n",
       "      <th>Unnamed: 4</th>\n",
       "      <th>Unnamed: 5</th>\n",
       "      <th>Unnamed: 6</th>\n",
       "      <th>Unnamed: 7</th>\n",
       "      <th>Unnamed: 8</th>\n",
       "      <th>Unnamed: 9</th>\n",
       "      <th>Unnamed: 10</th>\n",
       "      <th>Unnamed: 11</th>\n",
       "      <th>Unnamed: 12</th>\n",
       "    </tr>\n",
       "  </thead>\n",
       "  <tbody>\n",
       "    <tr>\n",
       "      <th>12</th>\n",
       "      <td>Year</td>\n",
       "      <td>Jan</td>\n",
       "      <td>Feb</td>\n",
       "      <td>Mar</td>\n",
       "      <td>Apr</td>\n",
       "      <td>May</td>\n",
       "      <td>Jun</td>\n",
       "      <td>Jul</td>\n",
       "      <td>Aug</td>\n",
       "      <td>Sep</td>\n",
       "      <td>Oct</td>\n",
       "      <td>Nov</td>\n",
       "      <td>Dec</td>\n",
       "    </tr>\n",
       "    <tr>\n",
       "      <th>13</th>\n",
       "      <td>2019</td>\n",
       "      <td>136</td>\n",
       "      <td>151</td>\n",
       "      <td>118</td>\n",
       "      <td>132</td>\n",
       "      <td>152</td>\n",
       "      <td>152</td>\n",
       "      <td>174</td>\n",
       "      <td>152</td>\n",
       "      <td>111</td>\n",
       "      <td>76</td>\n",
       "      <td>84</td>\n",
       "      <td>105</td>\n",
       "    </tr>\n",
       "    <tr>\n",
       "      <th>14</th>\n",
       "      <td>2020</td>\n",
       "      <td>137</td>\n",
       "      <td>122</td>\n",
       "      <td>132</td>\n",
       "      <td>619</td>\n",
       "      <td>543</td>\n",
       "      <td>475</td>\n",
       "      <td>386</td>\n",
       "      <td>NaN</td>\n",
       "      <td>NaN</td>\n",
       "      <td>NaN</td>\n",
       "      <td>NaN</td>\n",
       "      <td>NaN</td>\n",
       "    </tr>\n",
       "  </tbody>\n",
       "</table>\n",
       "</div>"
      ],
      "text/plain": [
       "   Labor Force Statistics from the Current Population Survey Unnamed: 1  \\\n",
       "12                                               Year               Jan   \n",
       "13                                               2019               136   \n",
       "14                                               2020               137   \n",
       "\n",
       "   Unnamed: 2 Unnamed: 3 Unnamed: 4 Unnamed: 5 Unnamed: 6 Unnamed: 7  \\\n",
       "12        Feb        Mar        Apr        May        Jun        Jul   \n",
       "13        151        118        132        152        152        174   \n",
       "14        122        132        619        543        475        386   \n",
       "\n",
       "   Unnamed: 8 Unnamed: 9 Unnamed: 10 Unnamed: 11 Unnamed: 12  \n",
       "12        Aug        Sep         Oct         Nov         Dec  \n",
       "13        152        111          76          84         105  \n",
       "14        NaN        NaN         NaN         NaN         NaN  "
      ]
     },
     "execution_count": 27,
     "metadata": {},
     "output_type": "execute_result"
    }
   ],
   "source": [
    "# #removing extra rows and columns\n",
    "inst_unemployed_clean = inst_unemployed.drop(inst_unemployed.index[[0,1,2,3,4,5,6,7,8,9,10,11]])\n",
    "inst_unemployed_clean"
   ]
  },
  {
   "cell_type": "code",
   "execution_count": 28,
   "metadata": {},
   "outputs": [],
   "source": [
    "# Adding the correct header\n",
    "headers = inst_unemployed_clean.iloc[0]\n",
    "inst_unemployed_clean = inst_unemployed_clean[1:] "
   ]
  },
  {
   "cell_type": "code",
   "execution_count": 29,
   "metadata": {},
   "outputs": [],
   "source": [
    "inst_unemployed_clean.columns = headers"
   ]
  },
  {
   "cell_type": "code",
   "execution_count": 30,
   "metadata": {},
   "outputs": [
    {
     "data": {
      "text/html": [
       "<div>\n",
       "<style scoped>\n",
       "    .dataframe tbody tr th:only-of-type {\n",
       "        vertical-align: middle;\n",
       "    }\n",
       "\n",
       "    .dataframe tbody tr th {\n",
       "        vertical-align: top;\n",
       "    }\n",
       "\n",
       "    .dataframe thead th {\n",
       "        text-align: right;\n",
       "    }\n",
       "</style>\n",
       "<table border=\"1\" class=\"dataframe\">\n",
       "  <thead>\n",
       "    <tr style=\"text-align: right;\">\n",
       "      <th>12</th>\n",
       "      <th>Year</th>\n",
       "      <th>Jan</th>\n",
       "      <th>Feb</th>\n",
       "      <th>Mar</th>\n",
       "      <th>Apr</th>\n",
       "      <th>May</th>\n",
       "      <th>Jun</th>\n",
       "      <th>Jul</th>\n",
       "      <th>Aug</th>\n",
       "      <th>Sep</th>\n",
       "      <th>Oct</th>\n",
       "      <th>Nov</th>\n",
       "      <th>Dec</th>\n",
       "    </tr>\n",
       "  </thead>\n",
       "  <tbody>\n",
       "    <tr>\n",
       "      <th>13</th>\n",
       "      <td>2019</td>\n",
       "      <td>136</td>\n",
       "      <td>151</td>\n",
       "      <td>118</td>\n",
       "      <td>132</td>\n",
       "      <td>152</td>\n",
       "      <td>152</td>\n",
       "      <td>174</td>\n",
       "      <td>152</td>\n",
       "      <td>111</td>\n",
       "      <td>76</td>\n",
       "      <td>84</td>\n",
       "      <td>105</td>\n",
       "    </tr>\n",
       "    <tr>\n",
       "      <th>14</th>\n",
       "      <td>2020</td>\n",
       "      <td>137</td>\n",
       "      <td>122</td>\n",
       "      <td>132</td>\n",
       "      <td>619</td>\n",
       "      <td>543</td>\n",
       "      <td>475</td>\n",
       "      <td>386</td>\n",
       "      <td>NaN</td>\n",
       "      <td>NaN</td>\n",
       "      <td>NaN</td>\n",
       "      <td>NaN</td>\n",
       "      <td>NaN</td>\n",
       "    </tr>\n",
       "  </tbody>\n",
       "</table>\n",
       "</div>"
      ],
      "text/plain": [
       "12  Year  Jan  Feb  Mar  Apr  May  Jun  Jul  Aug  Sep  Oct  Nov  Dec\n",
       "13  2019  136  151  118  132  152  152  174  152  111   76   84  105\n",
       "14  2020  137  122  132  619  543  475  386  NaN  NaN  NaN  NaN  NaN"
      ]
     },
     "execution_count": 30,
     "metadata": {},
     "output_type": "execute_result"
    }
   ],
   "source": [
    "inst_unemployed_clean"
   ]
  },
  {
   "cell_type": "code",
   "execution_count": 31,
   "metadata": {},
   "outputs": [],
   "source": [
    "# creating new variable and transposing it for plotting\n",
    "inst_un_tp = inst_unemployed_clean.transpose()"
   ]
  },
  {
   "cell_type": "code",
   "execution_count": 32,
   "metadata": {},
   "outputs": [],
   "source": [
    "# Adding the correct header\n",
    "headers = inst_un_tp.iloc[0]\n",
    "inst_un_tp = inst_un_tp[1:] "
   ]
  },
  {
   "cell_type": "code",
   "execution_count": 33,
   "metadata": {},
   "outputs": [],
   "source": [
    "inst_un_tp.columns = headers"
   ]
  },
  {
   "cell_type": "code",
   "execution_count": 34,
   "metadata": {},
   "outputs": [],
   "source": [
    "# changing the datatype to numeric for plotting\n",
    "inst_un_tp = inst_un_tp.apply (pd.to_numeric, errors=\"ignore\")"
   ]
  },
  {
   "cell_type": "code",
   "execution_count": 35,
   "metadata": {},
   "outputs": [
    {
     "data": {
      "image/png": "[encoded data removed]",
      "text/plain": [
       "<Figure size 864x216 with 1 Axes>"
      ]
     },
     "metadata": {
      "needs_background": "light"
     },
     "output_type": "display_data"
    },
    {
     "data": {
      "text/plain": [
       "<Figure size 432x288 with 0 Axes>"
      ]
     },
     "metadata": {},
     "output_type": "display_data"
    }
   ],
   "source": [
    "# Use DataFrame.plot() in order to create a bar chart of the data\n",
    "inst_un_tp.plot(kind=\"bar\", figsize=(12,3))\n",
    "\n",
    "# Set a title for the chart\n",
    "plt.title(\"Count of Unemployed - Installation, Maintenance, and Repair\")\n",
    "\n",
    "plt.show()\n",
    "plt.tight_layout()"
   ]
  },
  {
   "cell_type": "code",
   "execution_count": 36,
   "metadata": {},
   "outputs": [],
   "source": [
    "# Add occupation column\n",
    "# inserting column with static value in data frame \n",
    "inst_unemployed_clean.insert(1, \"Occupation\", \"Installation\")"
   ]
  },
  {
   "cell_type": "code",
   "execution_count": 37,
   "metadata": {},
   "outputs": [
    {
     "data": {
      "text/html": [
       "<div>\n",
       "<style scoped>\n",
       "    .dataframe tbody tr th:only-of-type {\n",
       "        vertical-align: middle;\n",
       "    }\n",
       "\n",
       "    .dataframe tbody tr th {\n",
       "        vertical-align: top;\n",
       "    }\n",
       "\n",
       "    .dataframe thead th {\n",
       "        text-align: right;\n",
       "    }\n",
       "</style>\n",
       "<table border=\"1\" class=\"dataframe\">\n",
       "  <thead>\n",
       "    <tr style=\"text-align: right;\">\n",
       "      <th>12</th>\n",
       "      <th>Year</th>\n",
       "      <th>Occupation</th>\n",
       "      <th>Jan</th>\n",
       "      <th>Feb</th>\n",
       "      <th>Mar</th>\n",
       "      <th>Apr</th>\n",
       "      <th>May</th>\n",
       "      <th>Jun</th>\n",
       "      <th>Jul</th>\n",
       "      <th>Aug</th>\n",
       "      <th>Sep</th>\n",
       "      <th>Oct</th>\n",
       "      <th>Nov</th>\n",
       "      <th>Dec</th>\n",
       "    </tr>\n",
       "  </thead>\n",
       "  <tbody>\n",
       "    <tr>\n",
       "      <th>13</th>\n",
       "      <td>2019</td>\n",
       "      <td>Installation</td>\n",
       "      <td>136</td>\n",
       "      <td>151</td>\n",
       "      <td>118</td>\n",
       "      <td>132</td>\n",
       "      <td>152</td>\n",
       "      <td>152</td>\n",
       "      <td>174</td>\n",
       "      <td>152</td>\n",
       "      <td>111</td>\n",
       "      <td>76</td>\n",
       "      <td>84</td>\n",
       "      <td>105</td>\n",
       "    </tr>\n",
       "    <tr>\n",
       "      <th>14</th>\n",
       "      <td>2020</td>\n",
       "      <td>Installation</td>\n",
       "      <td>137</td>\n",
       "      <td>122</td>\n",
       "      <td>132</td>\n",
       "      <td>619</td>\n",
       "      <td>543</td>\n",
       "      <td>475</td>\n",
       "      <td>386</td>\n",
       "      <td>NaN</td>\n",
       "      <td>NaN</td>\n",
       "      <td>NaN</td>\n",
       "      <td>NaN</td>\n",
       "      <td>NaN</td>\n",
       "    </tr>\n",
       "  </tbody>\n",
       "</table>\n",
       "</div>"
      ],
      "text/plain": [
       "12  Year    Occupation  Jan  Feb  Mar  Apr  May  Jun  Jul  Aug  Sep  Oct  Nov  \\\n",
       "13  2019  Installation  136  151  118  132  152  152  174  152  111   76   84   \n",
       "14  2020  Installation  137  122  132  619  543  475  386  NaN  NaN  NaN  NaN   \n",
       "\n",
       "12  Dec  \n",
       "13  105  \n",
       "14  NaN  "
      ]
     },
     "execution_count": 37,
     "metadata": {},
     "output_type": "execute_result"
    }
   ],
   "source": [
    "inst_unemployed_clean"
   ]
  },
  {
   "cell_type": "markdown",
   "metadata": {},
   "source": [
    "## Management, business, and financial operations"
   ]
  },
  {
   "cell_type": "code",
   "execution_count": 38,
   "metadata": {},
   "outputs": [
    {
     "data": {
      "text/html": [
       "<div>\n",
       "<style scoped>\n",
       "    .dataframe tbody tr th:only-of-type {\n",
       "        vertical-align: middle;\n",
       "    }\n",
       "\n",
       "    .dataframe tbody tr th {\n",
       "        vertical-align: top;\n",
       "    }\n",
       "\n",
       "    .dataframe thead th {\n",
       "        text-align: right;\n",
       "    }\n",
       "</style>\n",
       "<table border=\"1\" class=\"dataframe\">\n",
       "  <thead>\n",
       "    <tr style=\"text-align: right;\">\n",
       "      <th></th>\n",
       "      <th>Labor Force Statistics from the Current Population Survey</th>\n",
       "      <th>Unnamed: 1</th>\n",
       "      <th>Unnamed: 2</th>\n",
       "      <th>Unnamed: 3</th>\n",
       "      <th>Unnamed: 4</th>\n",
       "      <th>Unnamed: 5</th>\n",
       "      <th>Unnamed: 6</th>\n",
       "      <th>Unnamed: 7</th>\n",
       "      <th>Unnamed: 8</th>\n",
       "      <th>Unnamed: 9</th>\n",
       "      <th>Unnamed: 10</th>\n",
       "      <th>Unnamed: 11</th>\n",
       "      <th>Unnamed: 12</th>\n",
       "    </tr>\n",
       "  </thead>\n",
       "  <tbody>\n",
       "    <tr>\n",
       "      <th>12</th>\n",
       "      <td>Year</td>\n",
       "      <td>Jan</td>\n",
       "      <td>Feb</td>\n",
       "      <td>Mar</td>\n",
       "      <td>Apr</td>\n",
       "      <td>May</td>\n",
       "      <td>Jun</td>\n",
       "      <td>Jul</td>\n",
       "      <td>Aug</td>\n",
       "      <td>Sep</td>\n",
       "      <td>Oct</td>\n",
       "      <td>Nov</td>\n",
       "      <td>Dec</td>\n",
       "    </tr>\n",
       "    <tr>\n",
       "      <th>13</th>\n",
       "      <td>2019</td>\n",
       "      <td>676</td>\n",
       "      <td>565</td>\n",
       "      <td>552</td>\n",
       "      <td>375</td>\n",
       "      <td>398</td>\n",
       "      <td>519</td>\n",
       "      <td>492</td>\n",
       "      <td>506</td>\n",
       "      <td>450</td>\n",
       "      <td>471</td>\n",
       "      <td>453</td>\n",
       "      <td>533</td>\n",
       "    </tr>\n",
       "    <tr>\n",
       "      <th>14</th>\n",
       "      <td>2020</td>\n",
       "      <td>656</td>\n",
       "      <td>507</td>\n",
       "      <td>631</td>\n",
       "      <td>1742</td>\n",
       "      <td>1432</td>\n",
       "      <td>1367</td>\n",
       "      <td>1460</td>\n",
       "      <td>NaN</td>\n",
       "      <td>NaN</td>\n",
       "      <td>NaN</td>\n",
       "      <td>NaN</td>\n",
       "      <td>NaN</td>\n",
       "    </tr>\n",
       "  </tbody>\n",
       "</table>\n",
       "</div>"
      ],
      "text/plain": [
       "   Labor Force Statistics from the Current Population Survey Unnamed: 1  \\\n",
       "12                                               Year               Jan   \n",
       "13                                               2019               676   \n",
       "14                                               2020               656   \n",
       "\n",
       "   Unnamed: 2 Unnamed: 3 Unnamed: 4 Unnamed: 5 Unnamed: 6 Unnamed: 7  \\\n",
       "12        Feb        Mar        Apr        May        Jun        Jul   \n",
       "13        565        552        375        398        519        492   \n",
       "14        507        631       1742       1432       1367       1460   \n",
       "\n",
       "   Unnamed: 8 Unnamed: 9 Unnamed: 10 Unnamed: 11 Unnamed: 12  \n",
       "12        Aug        Sep         Oct         Nov         Dec  \n",
       "13        506        450         471         453         533  \n",
       "14        NaN        NaN         NaN         NaN         NaN  "
      ]
     },
     "execution_count": 38,
     "metadata": {},
     "output_type": "execute_result"
    }
   ],
   "source": [
    "# #removing extra rows and columns\n",
    "fina_unemployed_clean = fina_unemployed.drop(fina_unemployed.index[[0,1,2,3,4,5,6,7,8,9,10,11]])\n",
    "fina_unemployed_clean"
   ]
  },
  {
   "cell_type": "code",
   "execution_count": 39,
   "metadata": {},
   "outputs": [],
   "source": [
    "# Adding the correct header\n",
    "headers = fina_unemployed_clean.iloc[0]\n",
    "fina_unemployed_clean = fina_unemployed_clean[1:] "
   ]
  },
  {
   "cell_type": "code",
   "execution_count": 40,
   "metadata": {},
   "outputs": [],
   "source": [
    "fina_unemployed_clean.columns = headers"
   ]
  },
  {
   "cell_type": "code",
   "execution_count": 41,
   "metadata": {},
   "outputs": [
    {
     "data": {
      "text/html": [
       "<div>\n",
       "<style scoped>\n",
       "    .dataframe tbody tr th:only-of-type {\n",
       "        vertical-align: middle;\n",
       "    }\n",
       "\n",
       "    .dataframe tbody tr th {\n",
       "        vertical-align: top;\n",
       "    }\n",
       "\n",
       "    .dataframe thead th {\n",
       "        text-align: right;\n",
       "    }\n",
       "</style>\n",
       "<table border=\"1\" class=\"dataframe\">\n",
       "  <thead>\n",
       "    <tr style=\"text-align: right;\">\n",
       "      <th>12</th>\n",
       "      <th>Year</th>\n",
       "      <th>Jan</th>\n",
       "      <th>Feb</th>\n",
       "      <th>Mar</th>\n",
       "      <th>Apr</th>\n",
       "      <th>May</th>\n",
       "      <th>Jun</th>\n",
       "      <th>Jul</th>\n",
       "      <th>Aug</th>\n",
       "      <th>Sep</th>\n",
       "      <th>Oct</th>\n",
       "      <th>Nov</th>\n",
       "      <th>Dec</th>\n",
       "    </tr>\n",
       "  </thead>\n",
       "  <tbody>\n",
       "    <tr>\n",
       "      <th>13</th>\n",
       "      <td>2019</td>\n",
       "      <td>676</td>\n",
       "      <td>565</td>\n",
       "      <td>552</td>\n",
       "      <td>375</td>\n",
       "      <td>398</td>\n",
       "      <td>519</td>\n",
       "      <td>492</td>\n",
       "      <td>506</td>\n",
       "      <td>450</td>\n",
       "      <td>471</td>\n",
       "      <td>453</td>\n",
       "      <td>533</td>\n",
       "    </tr>\n",
       "    <tr>\n",
       "      <th>14</th>\n",
       "      <td>2020</td>\n",
       "      <td>656</td>\n",
       "      <td>507</td>\n",
       "      <td>631</td>\n",
       "      <td>1742</td>\n",
       "      <td>1432</td>\n",
       "      <td>1367</td>\n",
       "      <td>1460</td>\n",
       "      <td>NaN</td>\n",
       "      <td>NaN</td>\n",
       "      <td>NaN</td>\n",
       "      <td>NaN</td>\n",
       "      <td>NaN</td>\n",
       "    </tr>\n",
       "  </tbody>\n",
       "</table>\n",
       "</div>"
      ],
      "text/plain": [
       "12  Year  Jan  Feb  Mar   Apr   May   Jun   Jul  Aug  Sep  Oct  Nov  Dec\n",
       "13  2019  676  565  552   375   398   519   492  506  450  471  453  533\n",
       "14  2020  656  507  631  1742  1432  1367  1460  NaN  NaN  NaN  NaN  NaN"
      ]
     },
     "execution_count": 41,
     "metadata": {},
     "output_type": "execute_result"
    }
   ],
   "source": [
    "fina_unemployed_clean"
   ]
  },
  {
   "cell_type": "code",
   "execution_count": 42,
   "metadata": {},
   "outputs": [],
   "source": [
    "# creating new variable and transposing it for plotting\n",
    "fina_un_tp = fina_unemployed_clean.transpose()"
   ]
  },
  {
   "cell_type": "code",
   "execution_count": 43,
   "metadata": {},
   "outputs": [],
   "source": [
    "# Adding the correct header\n",
    "headers = fina_un_tp.iloc[0]\n",
    "fina_un_tp = fina_un_tp[1:] "
   ]
  },
  {
   "cell_type": "code",
   "execution_count": 44,
   "metadata": {},
   "outputs": [],
   "source": [
    "fina_un_tp.columns = headers"
   ]
  },
  {
   "cell_type": "code",
   "execution_count": 45,
   "metadata": {},
   "outputs": [],
   "source": [
    "# changing the datatype to numeric for plotting\n",
    "fina_un_tp = fina_un_tp.apply (pd.to_numeric, errors=\"ignore\")"
   ]
  },
  {
   "cell_type": "code",
   "execution_count": 46,
   "metadata": {},
   "outputs": [
    {
     "data": {
      "image/png": "[encoded data removed]",
      "text/plain": [
       "<Figure size 864x216 with 1 Axes>"
      ]
     },
     "metadata": {
      "needs_background": "light"
     },
     "output_type": "display_data"
    },
    {
     "data": {
      "text/plain": [
       "<Figure size 432x288 with 0 Axes>"
      ]
     },
     "metadata": {},
     "output_type": "display_data"
    }
   ],
   "source": [
    "# Use DataFrame.plot() in order to create a bar chart of the data\n",
    "fina_un_tp.plot(kind=\"bar\", figsize=(12,3))\n",
    "\n",
    "# Set a title for the chart\n",
    "plt.title(\"Count of Unemployed - Management,Business, and Financial Operations\")\n",
    "\n",
    "plt.show()\n",
    "plt.tight_layout()"
   ]
  },
  {
   "cell_type": "code",
   "execution_count": 47,
   "metadata": {},
   "outputs": [],
   "source": [
    "# Add occupation column\n",
    "# inserting column with static value in data frame \n",
    "fina_unemployed_clean.insert(1, \"Occupation\", \"Finance\")"
   ]
  },
  {
   "cell_type": "code",
   "execution_count": 48,
   "metadata": {},
   "outputs": [
    {
     "data": {
      "text/html": [
       "<div>\n",
       "<style scoped>\n",
       "    .dataframe tbody tr th:only-of-type {\n",
       "        vertical-align: middle;\n",
       "    }\n",
       "\n",
       "    .dataframe tbody tr th {\n",
       "        vertical-align: top;\n",
       "    }\n",
       "\n",
       "    .dataframe thead th {\n",
       "        text-align: right;\n",
       "    }\n",
       "</style>\n",
       "<table border=\"1\" class=\"dataframe\">\n",
       "  <thead>\n",
       "    <tr style=\"text-align: right;\">\n",
       "      <th>12</th>\n",
       "      <th>Year</th>\n",
       "      <th>Occupation</th>\n",
       "      <th>Jan</th>\n",
       "      <th>Feb</th>\n",
       "      <th>Mar</th>\n",
       "      <th>Apr</th>\n",
       "      <th>May</th>\n",
       "      <th>Jun</th>\n",
       "      <th>Jul</th>\n",
       "      <th>Aug</th>\n",
       "      <th>Sep</th>\n",
       "      <th>Oct</th>\n",
       "      <th>Nov</th>\n",
       "      <th>Dec</th>\n",
       "    </tr>\n",
       "  </thead>\n",
       "  <tbody>\n",
       "    <tr>\n",
       "      <th>13</th>\n",
       "      <td>2019</td>\n",
       "      <td>Finance</td>\n",
       "      <td>676</td>\n",
       "      <td>565</td>\n",
       "      <td>552</td>\n",
       "      <td>375</td>\n",
       "      <td>398</td>\n",
       "      <td>519</td>\n",
       "      <td>492</td>\n",
       "      <td>506</td>\n",
       "      <td>450</td>\n",
       "      <td>471</td>\n",
       "      <td>453</td>\n",
       "      <td>533</td>\n",
       "    </tr>\n",
       "    <tr>\n",
       "      <th>14</th>\n",
       "      <td>2020</td>\n",
       "      <td>Finance</td>\n",
       "      <td>656</td>\n",
       "      <td>507</td>\n",
       "      <td>631</td>\n",
       "      <td>1742</td>\n",
       "      <td>1432</td>\n",
       "      <td>1367</td>\n",
       "      <td>1460</td>\n",
       "      <td>NaN</td>\n",
       "      <td>NaN</td>\n",
       "      <td>NaN</td>\n",
       "      <td>NaN</td>\n",
       "      <td>NaN</td>\n",
       "    </tr>\n",
       "  </tbody>\n",
       "</table>\n",
       "</div>"
      ],
      "text/plain": [
       "12  Year Occupation  Jan  Feb  Mar   Apr   May   Jun   Jul  Aug  Sep  Oct  \\\n",
       "13  2019    Finance  676  565  552   375   398   519   492  506  450  471   \n",
       "14  2020    Finance  656  507  631  1742  1432  1367  1460  NaN  NaN  NaN   \n",
       "\n",
       "12  Nov  Dec  \n",
       "13  453  533  \n",
       "14  NaN  NaN  "
      ]
     },
     "execution_count": 48,
     "metadata": {},
     "output_type": "execute_result"
    }
   ],
   "source": [
    "fina_unemployed_clean"
   ]
  },
  {
   "cell_type": "markdown",
   "metadata": {},
   "source": [
    "## Office and Administrative Support"
   ]
  },
  {
   "cell_type": "code",
   "execution_count": 49,
   "metadata": {},
   "outputs": [
    {
     "data": {
      "text/html": [
       "<div>\n",
       "<style scoped>\n",
       "    .dataframe tbody tr th:only-of-type {\n",
       "        vertical-align: middle;\n",
       "    }\n",
       "\n",
       "    .dataframe tbody tr th {\n",
       "        vertical-align: top;\n",
       "    }\n",
       "\n",
       "    .dataframe thead th {\n",
       "        text-align: right;\n",
       "    }\n",
       "</style>\n",
       "<table border=\"1\" class=\"dataframe\">\n",
       "  <thead>\n",
       "    <tr style=\"text-align: right;\">\n",
       "      <th></th>\n",
       "      <th>Labor Force Statistics from the Current Population Survey</th>\n",
       "      <th>Unnamed: 1</th>\n",
       "      <th>Unnamed: 2</th>\n",
       "      <th>Unnamed: 3</th>\n",
       "      <th>Unnamed: 4</th>\n",
       "      <th>Unnamed: 5</th>\n",
       "      <th>Unnamed: 6</th>\n",
       "      <th>Unnamed: 7</th>\n",
       "      <th>Unnamed: 8</th>\n",
       "      <th>Unnamed: 9</th>\n",
       "      <th>Unnamed: 10</th>\n",
       "      <th>Unnamed: 11</th>\n",
       "      <th>Unnamed: 12</th>\n",
       "    </tr>\n",
       "  </thead>\n",
       "  <tbody>\n",
       "    <tr>\n",
       "      <th>12</th>\n",
       "      <td>Year</td>\n",
       "      <td>Jan</td>\n",
       "      <td>Feb</td>\n",
       "      <td>Mar</td>\n",
       "      <td>Apr</td>\n",
       "      <td>May</td>\n",
       "      <td>Jun</td>\n",
       "      <td>Jul</td>\n",
       "      <td>Aug</td>\n",
       "      <td>Sep</td>\n",
       "      <td>Oct</td>\n",
       "      <td>Nov</td>\n",
       "      <td>Dec</td>\n",
       "    </tr>\n",
       "    <tr>\n",
       "      <th>13</th>\n",
       "      <td>2019</td>\n",
       "      <td>783</td>\n",
       "      <td>652</td>\n",
       "      <td>640</td>\n",
       "      <td>629</td>\n",
       "      <td>735</td>\n",
       "      <td>761</td>\n",
       "      <td>751</td>\n",
       "      <td>712</td>\n",
       "      <td>577</td>\n",
       "      <td>573</td>\n",
       "      <td>567</td>\n",
       "      <td>533</td>\n",
       "    </tr>\n",
       "    <tr>\n",
       "      <th>14</th>\n",
       "      <td>2020</td>\n",
       "      <td>585</td>\n",
       "      <td>554</td>\n",
       "      <td>602</td>\n",
       "      <td>2080</td>\n",
       "      <td>1948</td>\n",
       "      <td>1759</td>\n",
       "      <td>1650</td>\n",
       "      <td>NaN</td>\n",
       "      <td>NaN</td>\n",
       "      <td>NaN</td>\n",
       "      <td>NaN</td>\n",
       "      <td>NaN</td>\n",
       "    </tr>\n",
       "  </tbody>\n",
       "</table>\n",
       "</div>"
      ],
      "text/plain": [
       "   Labor Force Statistics from the Current Population Survey Unnamed: 1  \\\n",
       "12                                               Year               Jan   \n",
       "13                                               2019               783   \n",
       "14                                               2020               585   \n",
       "\n",
       "   Unnamed: 2 Unnamed: 3 Unnamed: 4 Unnamed: 5 Unnamed: 6 Unnamed: 7  \\\n",
       "12        Feb        Mar        Apr        May        Jun        Jul   \n",
       "13        652        640        629        735        761        751   \n",
       "14        554        602       2080       1948       1759       1650   \n",
       "\n",
       "   Unnamed: 8 Unnamed: 9 Unnamed: 10 Unnamed: 11 Unnamed: 12  \n",
       "12        Aug        Sep         Oct         Nov         Dec  \n",
       "13        712        577         573         567         533  \n",
       "14        NaN        NaN         NaN         NaN         NaN  "
      ]
     },
     "execution_count": 49,
     "metadata": {},
     "output_type": "execute_result"
    }
   ],
   "source": [
    "# #removing extra rows and columns\n",
    "offi_unemployed_clean = offi_unemployed.drop(offi_unemployed.index[[0,1,2,3,4,5,6,7,8,9,10,11]]) \n",
    "offi_unemployed_clean"
   ]
  },
  {
   "cell_type": "code",
   "execution_count": 50,
   "metadata": {},
   "outputs": [],
   "source": [
    "# Adding the correct header\n",
    "headers = offi_unemployed_clean.iloc[0]\n",
    "offi_unemployed_clean = offi_unemployed_clean[1:] "
   ]
  },
  {
   "cell_type": "code",
   "execution_count": 51,
   "metadata": {},
   "outputs": [],
   "source": [
    "offi_unemployed_clean.columns = headers"
   ]
  },
  {
   "cell_type": "code",
   "execution_count": 52,
   "metadata": {},
   "outputs": [
    {
     "data": {
      "text/html": [
       "<div>\n",
       "<style scoped>\n",
       "    .dataframe tbody tr th:only-of-type {\n",
       "        vertical-align: middle;\n",
       "    }\n",
       "\n",
       "    .dataframe tbody tr th {\n",
       "        vertical-align: top;\n",
       "    }\n",
       "\n",
       "    .dataframe thead th {\n",
       "        text-align: right;\n",
       "    }\n",
       "</style>\n",
       "<table border=\"1\" class=\"dataframe\">\n",
       "  <thead>\n",
       "    <tr style=\"text-align: right;\">\n",
       "      <th>12</th>\n",
       "      <th>Year</th>\n",
       "      <th>Jan</th>\n",
       "      <th>Feb</th>\n",
       "      <th>Mar</th>\n",
       "      <th>Apr</th>\n",
       "      <th>May</th>\n",
       "      <th>Jun</th>\n",
       "      <th>Jul</th>\n",
       "      <th>Aug</th>\n",
       "      <th>Sep</th>\n",
       "      <th>Oct</th>\n",
       "      <th>Nov</th>\n",
       "      <th>Dec</th>\n",
       "    </tr>\n",
       "  </thead>\n",
       "  <tbody>\n",
       "    <tr>\n",
       "      <th>13</th>\n",
       "      <td>2019</td>\n",
       "      <td>783</td>\n",
       "      <td>652</td>\n",
       "      <td>640</td>\n",
       "      <td>629</td>\n",
       "      <td>735</td>\n",
       "      <td>761</td>\n",
       "      <td>751</td>\n",
       "      <td>712</td>\n",
       "      <td>577</td>\n",
       "      <td>573</td>\n",
       "      <td>567</td>\n",
       "      <td>533</td>\n",
       "    </tr>\n",
       "    <tr>\n",
       "      <th>14</th>\n",
       "      <td>2020</td>\n",
       "      <td>585</td>\n",
       "      <td>554</td>\n",
       "      <td>602</td>\n",
       "      <td>2080</td>\n",
       "      <td>1948</td>\n",
       "      <td>1759</td>\n",
       "      <td>1650</td>\n",
       "      <td>NaN</td>\n",
       "      <td>NaN</td>\n",
       "      <td>NaN</td>\n",
       "      <td>NaN</td>\n",
       "      <td>NaN</td>\n",
       "    </tr>\n",
       "  </tbody>\n",
       "</table>\n",
       "</div>"
      ],
      "text/plain": [
       "12  Year  Jan  Feb  Mar   Apr   May   Jun   Jul  Aug  Sep  Oct  Nov  Dec\n",
       "13  2019  783  652  640   629   735   761   751  712  577  573  567  533\n",
       "14  2020  585  554  602  2080  1948  1759  1650  NaN  NaN  NaN  NaN  NaN"
      ]
     },
     "execution_count": 52,
     "metadata": {},
     "output_type": "execute_result"
    }
   ],
   "source": [
    "offi_unemployed_clean"
   ]
  },
  {
   "cell_type": "code",
   "execution_count": 53,
   "metadata": {},
   "outputs": [],
   "source": [
    "# creating new variable and transposing it for plotting\n",
    "offi_un_tp = offi_unemployed_clean.transpose()"
   ]
  },
  {
   "cell_type": "code",
   "execution_count": 54,
   "metadata": {},
   "outputs": [],
   "source": [
    "# Adding the correct header\n",
    "headers = offi_un_tp.iloc[0]\n",
    "offi_un_tp = offi_un_tp[1:] "
   ]
  },
  {
   "cell_type": "code",
   "execution_count": 55,
   "metadata": {},
   "outputs": [],
   "source": [
    "offi_un_tp.columns = headers"
   ]
  },
  {
   "cell_type": "code",
   "execution_count": 56,
   "metadata": {},
   "outputs": [],
   "source": [
    "# changing the datatype to numeric for plotting\n",
    "offi_un_tp = offi_un_tp.apply (pd.to_numeric, errors=\"ignore\")"
   ]
  },
  {
   "cell_type": "code",
   "execution_count": 57,
   "metadata": {},
   "outputs": [
    {
     "data": {
      "image/png": "[encoded data removed]",
      "text/plain": [
       "<Figure size 864x216 with 1 Axes>"
      ]
     },
     "metadata": {
      "needs_background": "light"
     },
     "output_type": "display_data"
    },
    {
     "data": {
      "text/plain": [
       "<Figure size 432x288 with 0 Axes>"
      ]
     },
     "metadata": {},
     "output_type": "display_data"
    }
   ],
   "source": [
    "# Use DataFrame.plot() in order to create a bar chart of the data\n",
    "offi_un_tp.plot(kind=\"bar\", figsize=(12,3))\n",
    "\n",
    "# Set a title for the chart\n",
    "plt.title(\"Count of Unemployed - Office and Aministrative Support\")\n",
    "\n",
    "plt.show()\n",
    "plt.tight_layout()"
   ]
  },
  {
   "cell_type": "code",
   "execution_count": 58,
   "metadata": {},
   "outputs": [],
   "source": [
    "# Add occupation column\n",
    "# inserting column with static value in data frame \n",
    "offi_unemployed_clean.insert(1, \"Occupation\", \"Office\")"
   ]
  },
  {
   "cell_type": "code",
   "execution_count": 59,
   "metadata": {},
   "outputs": [
    {
     "data": {
      "text/html": [
       "<div>\n",
       "<style scoped>\n",
       "    .dataframe tbody tr th:only-of-type {\n",
       "        vertical-align: middle;\n",
       "    }\n",
       "\n",
       "    .dataframe tbody tr th {\n",
       "        vertical-align: top;\n",
       "    }\n",
       "\n",
       "    .dataframe thead th {\n",
       "        text-align: right;\n",
       "    }\n",
       "</style>\n",
       "<table border=\"1\" class=\"dataframe\">\n",
       "  <thead>\n",
       "    <tr style=\"text-align: right;\">\n",
       "      <th>12</th>\n",
       "      <th>Year</th>\n",
       "      <th>Occupation</th>\n",
       "      <th>Jan</th>\n",
       "      <th>Feb</th>\n",
       "      <th>Mar</th>\n",
       "      <th>Apr</th>\n",
       "      <th>May</th>\n",
       "      <th>Jun</th>\n",
       "      <th>Jul</th>\n",
       "      <th>Aug</th>\n",
       "      <th>Sep</th>\n",
       "      <th>Oct</th>\n",
       "      <th>Nov</th>\n",
       "      <th>Dec</th>\n",
       "    </tr>\n",
       "  </thead>\n",
       "  <tbody>\n",
       "    <tr>\n",
       "      <th>13</th>\n",
       "      <td>2019</td>\n",
       "      <td>Office</td>\n",
       "      <td>783</td>\n",
       "      <td>652</td>\n",
       "      <td>640</td>\n",
       "      <td>629</td>\n",
       "      <td>735</td>\n",
       "      <td>761</td>\n",
       "      <td>751</td>\n",
       "      <td>712</td>\n",
       "      <td>577</td>\n",
       "      <td>573</td>\n",
       "      <td>567</td>\n",
       "      <td>533</td>\n",
       "    </tr>\n",
       "    <tr>\n",
       "      <th>14</th>\n",
       "      <td>2020</td>\n",
       "      <td>Office</td>\n",
       "      <td>585</td>\n",
       "      <td>554</td>\n",
       "      <td>602</td>\n",
       "      <td>2080</td>\n",
       "      <td>1948</td>\n",
       "      <td>1759</td>\n",
       "      <td>1650</td>\n",
       "      <td>NaN</td>\n",
       "      <td>NaN</td>\n",
       "      <td>NaN</td>\n",
       "      <td>NaN</td>\n",
       "      <td>NaN</td>\n",
       "    </tr>\n",
       "  </tbody>\n",
       "</table>\n",
       "</div>"
      ],
      "text/plain": [
       "12  Year Occupation  Jan  Feb  Mar   Apr   May   Jun   Jul  Aug  Sep  Oct  \\\n",
       "13  2019     Office  783  652  640   629   735   761   751  712  577  573   \n",
       "14  2020     Office  585  554  602  2080  1948  1759  1650  NaN  NaN  NaN   \n",
       "\n",
       "12  Nov  Dec  \n",
       "13  567  533  \n",
       "14  NaN  NaN  "
      ]
     },
     "execution_count": 59,
     "metadata": {},
     "output_type": "execute_result"
    }
   ],
   "source": [
    "offi_unemployed_clean"
   ]
  },
  {
   "cell_type": "markdown",
   "metadata": {},
   "source": [
    "##  Production"
   ]
  },
  {
   "cell_type": "code",
   "execution_count": 60,
   "metadata": {},
   "outputs": [
    {
     "data": {
      "text/html": [
       "<div>\n",
       "<style scoped>\n",
       "    .dataframe tbody tr th:only-of-type {\n",
       "        vertical-align: middle;\n",
       "    }\n",
       "\n",
       "    .dataframe tbody tr th {\n",
       "        vertical-align: top;\n",
       "    }\n",
       "\n",
       "    .dataframe thead th {\n",
       "        text-align: right;\n",
       "    }\n",
       "</style>\n",
       "<table border=\"1\" class=\"dataframe\">\n",
       "  <thead>\n",
       "    <tr style=\"text-align: right;\">\n",
       "      <th></th>\n",
       "      <th>Labor Force Statistics from the Current Population Survey</th>\n",
       "      <th>Unnamed: 1</th>\n",
       "      <th>Unnamed: 2</th>\n",
       "      <th>Unnamed: 3</th>\n",
       "      <th>Unnamed: 4</th>\n",
       "      <th>Unnamed: 5</th>\n",
       "      <th>Unnamed: 6</th>\n",
       "      <th>Unnamed: 7</th>\n",
       "      <th>Unnamed: 8</th>\n",
       "      <th>Unnamed: 9</th>\n",
       "      <th>Unnamed: 10</th>\n",
       "      <th>Unnamed: 11</th>\n",
       "      <th>Unnamed: 12</th>\n",
       "    </tr>\n",
       "  </thead>\n",
       "  <tbody>\n",
       "    <tr>\n",
       "      <th>12</th>\n",
       "      <td>Year</td>\n",
       "      <td>Jan</td>\n",
       "      <td>Feb</td>\n",
       "      <td>Mar</td>\n",
       "      <td>Apr</td>\n",
       "      <td>May</td>\n",
       "      <td>Jun</td>\n",
       "      <td>Jul</td>\n",
       "      <td>Aug</td>\n",
       "      <td>Sep</td>\n",
       "      <td>Oct</td>\n",
       "      <td>Nov</td>\n",
       "      <td>Dec</td>\n",
       "    </tr>\n",
       "    <tr>\n",
       "      <th>13</th>\n",
       "      <td>2019</td>\n",
       "      <td>372</td>\n",
       "      <td>340</td>\n",
       "      <td>375</td>\n",
       "      <td>340</td>\n",
       "      <td>276</td>\n",
       "      <td>309</td>\n",
       "      <td>362</td>\n",
       "      <td>358</td>\n",
       "      <td>379</td>\n",
       "      <td>386</td>\n",
       "      <td>334</td>\n",
       "      <td>372</td>\n",
       "    </tr>\n",
       "    <tr>\n",
       "      <th>14</th>\n",
       "      <td>2020</td>\n",
       "      <td>431</td>\n",
       "      <td>448</td>\n",
       "      <td>449</td>\n",
       "      <td>1457</td>\n",
       "      <td>1228</td>\n",
       "      <td>889</td>\n",
       "      <td>929</td>\n",
       "      <td>NaN</td>\n",
       "      <td>NaN</td>\n",
       "      <td>NaN</td>\n",
       "      <td>NaN</td>\n",
       "      <td>NaN</td>\n",
       "    </tr>\n",
       "  </tbody>\n",
       "</table>\n",
       "</div>"
      ],
      "text/plain": [
       "   Labor Force Statistics from the Current Population Survey Unnamed: 1  \\\n",
       "12                                               Year               Jan   \n",
       "13                                               2019               372   \n",
       "14                                               2020               431   \n",
       "\n",
       "   Unnamed: 2 Unnamed: 3 Unnamed: 4 Unnamed: 5 Unnamed: 6 Unnamed: 7  \\\n",
       "12        Feb        Mar        Apr        May        Jun        Jul   \n",
       "13        340        375        340        276        309        362   \n",
       "14        448        449       1457       1228        889        929   \n",
       "\n",
       "   Unnamed: 8 Unnamed: 9 Unnamed: 10 Unnamed: 11 Unnamed: 12  \n",
       "12        Aug        Sep         Oct         Nov         Dec  \n",
       "13        358        379         386         334         372  \n",
       "14        NaN        NaN         NaN         NaN         NaN  "
      ]
     },
     "execution_count": 60,
     "metadata": {},
     "output_type": "execute_result"
    }
   ],
   "source": [
    "# #removing extra rows and columns\n",
    "prod_unemployed_clean = prod_unemployed.drop(prod_unemployed.index[[0,1,2,3,4,5,6,7,8,9,10,11]])\n",
    "prod_unemployed_clean"
   ]
  },
  {
   "cell_type": "code",
   "execution_count": 61,
   "metadata": {},
   "outputs": [],
   "source": [
    "# Adding the correct header\n",
    "headers = prod_unemployed_clean.iloc[0]\n",
    "prod_unemployed_clean = prod_unemployed_clean[1:] "
   ]
  },
  {
   "cell_type": "code",
   "execution_count": 62,
   "metadata": {},
   "outputs": [],
   "source": [
    "prod_unemployed_clean.columns = headers"
   ]
  },
  {
   "cell_type": "code",
   "execution_count": 63,
   "metadata": {},
   "outputs": [
    {
     "data": {
      "text/html": [
       "<div>\n",
       "<style scoped>\n",
       "    .dataframe tbody tr th:only-of-type {\n",
       "        vertical-align: middle;\n",
       "    }\n",
       "\n",
       "    .dataframe tbody tr th {\n",
       "        vertical-align: top;\n",
       "    }\n",
       "\n",
       "    .dataframe thead th {\n",
       "        text-align: right;\n",
       "    }\n",
       "</style>\n",
       "<table border=\"1\" class=\"dataframe\">\n",
       "  <thead>\n",
       "    <tr style=\"text-align: right;\">\n",
       "      <th>12</th>\n",
       "      <th>Year</th>\n",
       "      <th>Jan</th>\n",
       "      <th>Feb</th>\n",
       "      <th>Mar</th>\n",
       "      <th>Apr</th>\n",
       "      <th>May</th>\n",
       "      <th>Jun</th>\n",
       "      <th>Jul</th>\n",
       "      <th>Aug</th>\n",
       "      <th>Sep</th>\n",
       "      <th>Oct</th>\n",
       "      <th>Nov</th>\n",
       "      <th>Dec</th>\n",
       "    </tr>\n",
       "  </thead>\n",
       "  <tbody>\n",
       "    <tr>\n",
       "      <th>13</th>\n",
       "      <td>2019</td>\n",
       "      <td>372</td>\n",
       "      <td>340</td>\n",
       "      <td>375</td>\n",
       "      <td>340</td>\n",
       "      <td>276</td>\n",
       "      <td>309</td>\n",
       "      <td>362</td>\n",
       "      <td>358</td>\n",
       "      <td>379</td>\n",
       "      <td>386</td>\n",
       "      <td>334</td>\n",
       "      <td>372</td>\n",
       "    </tr>\n",
       "    <tr>\n",
       "      <th>14</th>\n",
       "      <td>2020</td>\n",
       "      <td>431</td>\n",
       "      <td>448</td>\n",
       "      <td>449</td>\n",
       "      <td>1457</td>\n",
       "      <td>1228</td>\n",
       "      <td>889</td>\n",
       "      <td>929</td>\n",
       "      <td>NaN</td>\n",
       "      <td>NaN</td>\n",
       "      <td>NaN</td>\n",
       "      <td>NaN</td>\n",
       "      <td>NaN</td>\n",
       "    </tr>\n",
       "  </tbody>\n",
       "</table>\n",
       "</div>"
      ],
      "text/plain": [
       "12  Year  Jan  Feb  Mar   Apr   May  Jun  Jul  Aug  Sep  Oct  Nov  Dec\n",
       "13  2019  372  340  375   340   276  309  362  358  379  386  334  372\n",
       "14  2020  431  448  449  1457  1228  889  929  NaN  NaN  NaN  NaN  NaN"
      ]
     },
     "execution_count": 63,
     "metadata": {},
     "output_type": "execute_result"
    }
   ],
   "source": [
    "prod_unemployed_clean"
   ]
  },
  {
   "cell_type": "code",
   "execution_count": 64,
   "metadata": {},
   "outputs": [],
   "source": [
    "# creating new variable and transposing it for plotting\n",
    "prod_un_tp = prod_unemployed_clean.transpose()"
   ]
  },
  {
   "cell_type": "code",
   "execution_count": 65,
   "metadata": {},
   "outputs": [],
   "source": [
    "# Adding the correct header\n",
    "headers = prod_un_tp.iloc[0]\n",
    "prod_un_tp = prod_un_tp[1:] "
   ]
  },
  {
   "cell_type": "code",
   "execution_count": 66,
   "metadata": {},
   "outputs": [],
   "source": [
    "prod_un_tp.columns = headers"
   ]
  },
  {
   "cell_type": "code",
   "execution_count": 67,
   "metadata": {},
   "outputs": [],
   "source": [
    "# changing the datatype to numeric for plotting\n",
    "prod_un_tp = prod_un_tp.apply (pd.to_numeric, errors=\"ignore\")"
   ]
  },
  {
   "cell_type": "code",
   "execution_count": 68,
   "metadata": {},
   "outputs": [
    {
     "data": {
      "image/png": "[encoded data removed]",
      "text/plain": [
       "<Figure size 864x216 with 1 Axes>"
      ]
     },
     "metadata": {
      "needs_background": "light"
     },
     "output_type": "display_data"
    },
    {
     "data": {
      "text/plain": [
       "<Figure size 432x288 with 0 Axes>"
      ]
     },
     "metadata": {},
     "output_type": "display_data"
    }
   ],
   "source": [
    "# Use DataFrame.plot() in order to create a bar chart of the data\n",
    "prod_un_tp.plot(kind=\"bar\", figsize=(12,3))\n",
    "\n",
    "# Set a title for the chart\n",
    "plt.title(\"Count of Unemployed - Production and Related\")\n",
    "\n",
    "plt.show()\n",
    "plt.tight_layout()"
   ]
  },
  {
   "cell_type": "code",
   "execution_count": 69,
   "metadata": {},
   "outputs": [],
   "source": [
    "# Add occupation column\n",
    "# inserting column with static value in data frame \n",
    "prod_unemployed_clean.insert(1, \"Occupation\", \"Production\")"
   ]
  },
  {
   "cell_type": "code",
   "execution_count": 70,
   "metadata": {},
   "outputs": [
    {
     "data": {
      "text/html": [
       "<div>\n",
       "<style scoped>\n",
       "    .dataframe tbody tr th:only-of-type {\n",
       "        vertical-align: middle;\n",
       "    }\n",
       "\n",
       "    .dataframe tbody tr th {\n",
       "        vertical-align: top;\n",
       "    }\n",
       "\n",
       "    .dataframe thead th {\n",
       "        text-align: right;\n",
       "    }\n",
       "</style>\n",
       "<table border=\"1\" class=\"dataframe\">\n",
       "  <thead>\n",
       "    <tr style=\"text-align: right;\">\n",
       "      <th>12</th>\n",
       "      <th>Year</th>\n",
       "      <th>Occupation</th>\n",
       "      <th>Jan</th>\n",
       "      <th>Feb</th>\n",
       "      <th>Mar</th>\n",
       "      <th>Apr</th>\n",
       "      <th>May</th>\n",
       "      <th>Jun</th>\n",
       "      <th>Jul</th>\n",
       "      <th>Aug</th>\n",
       "      <th>Sep</th>\n",
       "      <th>Oct</th>\n",
       "      <th>Nov</th>\n",
       "      <th>Dec</th>\n",
       "    </tr>\n",
       "  </thead>\n",
       "  <tbody>\n",
       "    <tr>\n",
       "      <th>13</th>\n",
       "      <td>2019</td>\n",
       "      <td>Production</td>\n",
       "      <td>372</td>\n",
       "      <td>340</td>\n",
       "      <td>375</td>\n",
       "      <td>340</td>\n",
       "      <td>276</td>\n",
       "      <td>309</td>\n",
       "      <td>362</td>\n",
       "      <td>358</td>\n",
       "      <td>379</td>\n",
       "      <td>386</td>\n",
       "      <td>334</td>\n",
       "      <td>372</td>\n",
       "    </tr>\n",
       "    <tr>\n",
       "      <th>14</th>\n",
       "      <td>2020</td>\n",
       "      <td>Production</td>\n",
       "      <td>431</td>\n",
       "      <td>448</td>\n",
       "      <td>449</td>\n",
       "      <td>1457</td>\n",
       "      <td>1228</td>\n",
       "      <td>889</td>\n",
       "      <td>929</td>\n",
       "      <td>NaN</td>\n",
       "      <td>NaN</td>\n",
       "      <td>NaN</td>\n",
       "      <td>NaN</td>\n",
       "      <td>NaN</td>\n",
       "    </tr>\n",
       "  </tbody>\n",
       "</table>\n",
       "</div>"
      ],
      "text/plain": [
       "12  Year  Occupation  Jan  Feb  Mar   Apr   May  Jun  Jul  Aug  Sep  Oct  Nov  \\\n",
       "13  2019  Production  372  340  375   340   276  309  362  358  379  386  334   \n",
       "14  2020  Production  431  448  449  1457  1228  889  929  NaN  NaN  NaN  NaN   \n",
       "\n",
       "12  Dec  \n",
       "13  372  \n",
       "14  NaN  "
      ]
     },
     "execution_count": 70,
     "metadata": {},
     "output_type": "execute_result"
    }
   ],
   "source": [
    "prod_unemployed_clean"
   ]
  },
  {
   "cell_type": "markdown",
   "metadata": {},
   "source": [
    "## Professional and Related"
   ]
  },
  {
   "cell_type": "code",
   "execution_count": 71,
   "metadata": {},
   "outputs": [
    {
     "data": {
      "text/html": [
       "<div>\n",
       "<style scoped>\n",
       "    .dataframe tbody tr th:only-of-type {\n",
       "        vertical-align: middle;\n",
       "    }\n",
       "\n",
       "    .dataframe tbody tr th {\n",
       "        vertical-align: top;\n",
       "    }\n",
       "\n",
       "    .dataframe thead th {\n",
       "        text-align: right;\n",
       "    }\n",
       "</style>\n",
       "<table border=\"1\" class=\"dataframe\">\n",
       "  <thead>\n",
       "    <tr style=\"text-align: right;\">\n",
       "      <th></th>\n",
       "      <th>Labor Force Statistics from the Current Population Survey</th>\n",
       "      <th>Unnamed: 1</th>\n",
       "      <th>Unnamed: 2</th>\n",
       "      <th>Unnamed: 3</th>\n",
       "      <th>Unnamed: 4</th>\n",
       "      <th>Unnamed: 5</th>\n",
       "      <th>Unnamed: 6</th>\n",
       "      <th>Unnamed: 7</th>\n",
       "      <th>Unnamed: 8</th>\n",
       "      <th>Unnamed: 9</th>\n",
       "      <th>Unnamed: 10</th>\n",
       "      <th>Unnamed: 11</th>\n",
       "      <th>Unnamed: 12</th>\n",
       "    </tr>\n",
       "  </thead>\n",
       "  <tbody>\n",
       "    <tr>\n",
       "      <th>12</th>\n",
       "      <td>Year</td>\n",
       "      <td>Jan</td>\n",
       "      <td>Feb</td>\n",
       "      <td>Mar</td>\n",
       "      <td>Apr</td>\n",
       "      <td>May</td>\n",
       "      <td>Jun</td>\n",
       "      <td>Jul</td>\n",
       "      <td>Aug</td>\n",
       "      <td>Sep</td>\n",
       "      <td>Oct</td>\n",
       "      <td>Nov</td>\n",
       "      <td>Dec</td>\n",
       "    </tr>\n",
       "    <tr>\n",
       "      <th>13</th>\n",
       "      <td>2019</td>\n",
       "      <td>931</td>\n",
       "      <td>753</td>\n",
       "      <td>736</td>\n",
       "      <td>664</td>\n",
       "      <td>688</td>\n",
       "      <td>1020</td>\n",
       "      <td>1099</td>\n",
       "      <td>970</td>\n",
       "      <td>786</td>\n",
       "      <td>690</td>\n",
       "      <td>755</td>\n",
       "      <td>638</td>\n",
       "    </tr>\n",
       "    <tr>\n",
       "      <th>14</th>\n",
       "      <td>2020</td>\n",
       "      <td>798</td>\n",
       "      <td>700</td>\n",
       "      <td>1031</td>\n",
       "      <td>3337</td>\n",
       "      <td>3000</td>\n",
       "      <td>3022</td>\n",
       "      <td>2940</td>\n",
       "      <td>NaN</td>\n",
       "      <td>NaN</td>\n",
       "      <td>NaN</td>\n",
       "      <td>NaN</td>\n",
       "      <td>NaN</td>\n",
       "    </tr>\n",
       "  </tbody>\n",
       "</table>\n",
       "</div>"
      ],
      "text/plain": [
       "   Labor Force Statistics from the Current Population Survey Unnamed: 1  \\\n",
       "12                                               Year               Jan   \n",
       "13                                               2019               931   \n",
       "14                                               2020               798   \n",
       "\n",
       "   Unnamed: 2 Unnamed: 3 Unnamed: 4 Unnamed: 5 Unnamed: 6 Unnamed: 7  \\\n",
       "12        Feb        Mar        Apr        May        Jun        Jul   \n",
       "13        753        736        664        688       1020       1099   \n",
       "14        700       1031       3337       3000       3022       2940   \n",
       "\n",
       "   Unnamed: 8 Unnamed: 9 Unnamed: 10 Unnamed: 11 Unnamed: 12  \n",
       "12        Aug        Sep         Oct         Nov         Dec  \n",
       "13        970        786         690         755         638  \n",
       "14        NaN        NaN         NaN         NaN         NaN  "
      ]
     },
     "execution_count": 71,
     "metadata": {},
     "output_type": "execute_result"
    }
   ],
   "source": [
    "# #removing extra rows and columns\n",
    "prof_unemployed_clean = prof_unemployed.drop(prof_unemployed.index[[0,1,2,3,4,5,6,7,8,9,10,11]])\n",
    "prof_unemployed_clean"
   ]
  },
  {
   "cell_type": "code",
   "execution_count": 72,
   "metadata": {},
   "outputs": [],
   "source": [
    "# Adding the correct header\n",
    "headers = prof_unemployed_clean.iloc[0]\n",
    "prof_unemployed_clean = prof_unemployed_clean[1:] "
   ]
  },
  {
   "cell_type": "code",
   "execution_count": 73,
   "metadata": {},
   "outputs": [],
   "source": [
    "prof_unemployed_clean.columns = headers"
   ]
  },
  {
   "cell_type": "code",
   "execution_count": 74,
   "metadata": {},
   "outputs": [
    {
     "data": {
      "text/html": [
       "<div>\n",
       "<style scoped>\n",
       "    .dataframe tbody tr th:only-of-type {\n",
       "        vertical-align: middle;\n",
       "    }\n",
       "\n",
       "    .dataframe tbody tr th {\n",
       "        vertical-align: top;\n",
       "    }\n",
       "\n",
       "    .dataframe thead th {\n",
       "        text-align: right;\n",
       "    }\n",
       "</style>\n",
       "<table border=\"1\" class=\"dataframe\">\n",
       "  <thead>\n",
       "    <tr style=\"text-align: right;\">\n",
       "      <th>12</th>\n",
       "      <th>Year</th>\n",
       "      <th>Jan</th>\n",
       "      <th>Feb</th>\n",
       "      <th>Mar</th>\n",
       "      <th>Apr</th>\n",
       "      <th>May</th>\n",
       "      <th>Jun</th>\n",
       "      <th>Jul</th>\n",
       "      <th>Aug</th>\n",
       "      <th>Sep</th>\n",
       "      <th>Oct</th>\n",
       "      <th>Nov</th>\n",
       "      <th>Dec</th>\n",
       "    </tr>\n",
       "  </thead>\n",
       "  <tbody>\n",
       "    <tr>\n",
       "      <th>13</th>\n",
       "      <td>2019</td>\n",
       "      <td>931</td>\n",
       "      <td>753</td>\n",
       "      <td>736</td>\n",
       "      <td>664</td>\n",
       "      <td>688</td>\n",
       "      <td>1020</td>\n",
       "      <td>1099</td>\n",
       "      <td>970</td>\n",
       "      <td>786</td>\n",
       "      <td>690</td>\n",
       "      <td>755</td>\n",
       "      <td>638</td>\n",
       "    </tr>\n",
       "    <tr>\n",
       "      <th>14</th>\n",
       "      <td>2020</td>\n",
       "      <td>798</td>\n",
       "      <td>700</td>\n",
       "      <td>1031</td>\n",
       "      <td>3337</td>\n",
       "      <td>3000</td>\n",
       "      <td>3022</td>\n",
       "      <td>2940</td>\n",
       "      <td>NaN</td>\n",
       "      <td>NaN</td>\n",
       "      <td>NaN</td>\n",
       "      <td>NaN</td>\n",
       "      <td>NaN</td>\n",
       "    </tr>\n",
       "  </tbody>\n",
       "</table>\n",
       "</div>"
      ],
      "text/plain": [
       "12  Year  Jan  Feb   Mar   Apr   May   Jun   Jul  Aug  Sep  Oct  Nov  Dec\n",
       "13  2019  931  753   736   664   688  1020  1099  970  786  690  755  638\n",
       "14  2020  798  700  1031  3337  3000  3022  2940  NaN  NaN  NaN  NaN  NaN"
      ]
     },
     "execution_count": 74,
     "metadata": {},
     "output_type": "execute_result"
    }
   ],
   "source": [
    "prof_unemployed_clean"
   ]
  },
  {
   "cell_type": "code",
   "execution_count": 75,
   "metadata": {},
   "outputs": [],
   "source": [
    "# creating new variable and transposing it for plotting\n",
    "prof_un_tp = prof_unemployed_clean.transpose()"
   ]
  },
  {
   "cell_type": "code",
   "execution_count": 76,
   "metadata": {},
   "outputs": [],
   "source": [
    "# Adding the correct header\n",
    "headers = prof_un_tp.iloc[0]\n",
    "prof_un_tp = prof_un_tp[1:] "
   ]
  },
  {
   "cell_type": "code",
   "execution_count": 77,
   "metadata": {},
   "outputs": [],
   "source": [
    "prof_un_tp.columns = headers"
   ]
  },
  {
   "cell_type": "code",
   "execution_count": 78,
   "metadata": {},
   "outputs": [],
   "source": [
    "# changing the datatype to numeric for plotting\n",
    "prof_un_tp = prof_un_tp.apply (pd.to_numeric, errors=\"ignore\")"
   ]
  },
  {
   "cell_type": "code",
   "execution_count": 79,
   "metadata": {},
   "outputs": [
    {
     "data": {
      "image/png": "[encoded data removed]",
      "text/plain": [
       "<Figure size 864x216 with 1 Axes>"
      ]
     },
     "metadata": {
      "needs_background": "light"
     },
     "output_type": "display_data"
    },
    {
     "data": {
      "text/plain": [
       "<Figure size 432x288 with 0 Axes>"
      ]
     },
     "metadata": {},
     "output_type": "display_data"
    }
   ],
   "source": [
    "# Use DataFrame.plot() in order to create a bar chart of the data\n",
    "prof_un_tp.plot(kind=\"bar\", figsize=(12,3))\n",
    "\n",
    "# Set a title for the chart\n",
    "plt.title(\"Count of Unemployed - Professional and Related\")\n",
    "\n",
    "plt.show()\n",
    "plt.tight_layout()"
   ]
  },
  {
   "cell_type": "code",
   "execution_count": 80,
   "metadata": {},
   "outputs": [],
   "source": [
    "# Add occupation column\n",
    "# inserting column with static value in data frame \n",
    "prof_unemployed_clean.insert(1, \"Occupation\", \"Professional\")"
   ]
  },
  {
   "cell_type": "code",
   "execution_count": 81,
   "metadata": {},
   "outputs": [
    {
     "data": {
      "text/html": [
       "<div>\n",
       "<style scoped>\n",
       "    .dataframe tbody tr th:only-of-type {\n",
       "        vertical-align: middle;\n",
       "    }\n",
       "\n",
       "    .dataframe tbody tr th {\n",
       "        vertical-align: top;\n",
       "    }\n",
       "\n",
       "    .dataframe thead th {\n",
       "        text-align: right;\n",
       "    }\n",
       "</style>\n",
       "<table border=\"1\" class=\"dataframe\">\n",
       "  <thead>\n",
       "    <tr style=\"text-align: right;\">\n",
       "      <th>12</th>\n",
       "      <th>Year</th>\n",
       "      <th>Occupation</th>\n",
       "      <th>Jan</th>\n",
       "      <th>Feb</th>\n",
       "      <th>Mar</th>\n",
       "      <th>Apr</th>\n",
       "      <th>May</th>\n",
       "      <th>Jun</th>\n",
       "      <th>Jul</th>\n",
       "      <th>Aug</th>\n",
       "      <th>Sep</th>\n",
       "      <th>Oct</th>\n",
       "      <th>Nov</th>\n",
       "      <th>Dec</th>\n",
       "    </tr>\n",
       "  </thead>\n",
       "  <tbody>\n",
       "    <tr>\n",
       "      <th>13</th>\n",
       "      <td>2019</td>\n",
       "      <td>Professional</td>\n",
       "      <td>931</td>\n",
       "      <td>753</td>\n",
       "      <td>736</td>\n",
       "      <td>664</td>\n",
       "      <td>688</td>\n",
       "      <td>1020</td>\n",
       "      <td>1099</td>\n",
       "      <td>970</td>\n",
       "      <td>786</td>\n",
       "      <td>690</td>\n",
       "      <td>755</td>\n",
       "      <td>638</td>\n",
       "    </tr>\n",
       "    <tr>\n",
       "      <th>14</th>\n",
       "      <td>2020</td>\n",
       "      <td>Professional</td>\n",
       "      <td>798</td>\n",
       "      <td>700</td>\n",
       "      <td>1031</td>\n",
       "      <td>3337</td>\n",
       "      <td>3000</td>\n",
       "      <td>3022</td>\n",
       "      <td>2940</td>\n",
       "      <td>NaN</td>\n",
       "      <td>NaN</td>\n",
       "      <td>NaN</td>\n",
       "      <td>NaN</td>\n",
       "      <td>NaN</td>\n",
       "    </tr>\n",
       "  </tbody>\n",
       "</table>\n",
       "</div>"
      ],
      "text/plain": [
       "12  Year    Occupation  Jan  Feb   Mar   Apr   May   Jun   Jul  Aug  Sep  Oct  \\\n",
       "13  2019  Professional  931  753   736   664   688  1020  1099  970  786  690   \n",
       "14  2020  Professional  798  700  1031  3337  3000  3022  2940  NaN  NaN  NaN   \n",
       "\n",
       "12  Nov  Dec  \n",
       "13  755  638  \n",
       "14  NaN  NaN  "
      ]
     },
     "execution_count": 81,
     "metadata": {},
     "output_type": "execute_result"
    }
   ],
   "source": [
    "prof_unemployed_clean"
   ]
  },
  {
   "cell_type": "markdown",
   "metadata": {},
   "source": [
    "## Sales and Related"
   ]
  },
  {
   "cell_type": "code",
   "execution_count": 106,
   "metadata": {},
   "outputs": [
    {
     "data": {
      "text/html": [
       "<div>\n",
       "<style scoped>\n",
       "    .dataframe tbody tr th:only-of-type {\n",
       "        vertical-align: middle;\n",
       "    }\n",
       "\n",
       "    .dataframe tbody tr th {\n",
       "        vertical-align: top;\n",
       "    }\n",
       "\n",
       "    .dataframe thead th {\n",
       "        text-align: right;\n",
       "    }\n",
       "</style>\n",
       "<table border=\"1\" class=\"dataframe\">\n",
       "  <thead>\n",
       "    <tr style=\"text-align: right;\">\n",
       "      <th></th>\n",
       "      <th>Labor Force Statistics from the Current Population Survey</th>\n",
       "      <th>Unnamed: 1</th>\n",
       "      <th>Unnamed: 2</th>\n",
       "      <th>Unnamed: 3</th>\n",
       "      <th>Unnamed: 4</th>\n",
       "      <th>Unnamed: 5</th>\n",
       "      <th>Unnamed: 6</th>\n",
       "      <th>Unnamed: 7</th>\n",
       "      <th>Unnamed: 8</th>\n",
       "      <th>Unnamed: 9</th>\n",
       "      <th>Unnamed: 10</th>\n",
       "      <th>Unnamed: 11</th>\n",
       "      <th>Unnamed: 12</th>\n",
       "    </tr>\n",
       "  </thead>\n",
       "  <tbody>\n",
       "    <tr>\n",
       "      <th>12</th>\n",
       "      <td>Year</td>\n",
       "      <td>Jan</td>\n",
       "      <td>Feb</td>\n",
       "      <td>Mar</td>\n",
       "      <td>Apr</td>\n",
       "      <td>May</td>\n",
       "      <td>Jun</td>\n",
       "      <td>Jul</td>\n",
       "      <td>Aug</td>\n",
       "      <td>Sep</td>\n",
       "      <td>Oct</td>\n",
       "      <td>Nov</td>\n",
       "      <td>Dec</td>\n",
       "    </tr>\n",
       "    <tr>\n",
       "      <th>13</th>\n",
       "      <td>2019</td>\n",
       "      <td>731</td>\n",
       "      <td>800</td>\n",
       "      <td>739</td>\n",
       "      <td>625</td>\n",
       "      <td>582</td>\n",
       "      <td>534</td>\n",
       "      <td>523</td>\n",
       "      <td>625</td>\n",
       "      <td>581</td>\n",
       "      <td>572</td>\n",
       "      <td>531</td>\n",
       "      <td>528</td>\n",
       "    </tr>\n",
       "    <tr>\n",
       "      <th>14</th>\n",
       "      <td>2020</td>\n",
       "      <td>724</td>\n",
       "      <td>657</td>\n",
       "      <td>652</td>\n",
       "      <td>2519</td>\n",
       "      <td>2412</td>\n",
       "      <td>2059</td>\n",
       "      <td>1734</td>\n",
       "      <td>NaN</td>\n",
       "      <td>NaN</td>\n",
       "      <td>NaN</td>\n",
       "      <td>NaN</td>\n",
       "      <td>NaN</td>\n",
       "    </tr>\n",
       "  </tbody>\n",
       "</table>\n",
       "</div>"
      ],
      "text/plain": [
       "   Labor Force Statistics from the Current Population Survey Unnamed: 1  \\\n",
       "12                                               Year               Jan   \n",
       "13                                               2019               731   \n",
       "14                                               2020               724   \n",
       "\n",
       "   Unnamed: 2 Unnamed: 3 Unnamed: 4 Unnamed: 5 Unnamed: 6 Unnamed: 7  \\\n",
       "12        Feb        Mar        Apr        May        Jun        Jul   \n",
       "13        800        739        625        582        534        523   \n",
       "14        657        652       2519       2412       2059       1734   \n",
       "\n",
       "   Unnamed: 8 Unnamed: 9 Unnamed: 10 Unnamed: 11 Unnamed: 12  \n",
       "12        Aug        Sep         Oct         Nov         Dec  \n",
       "13        625        581         572         531         528  \n",
       "14        NaN        NaN         NaN         NaN         NaN  "
      ]
     },
     "execution_count": 106,
     "metadata": {},
     "output_type": "execute_result"
    }
   ],
   "source": [
    "# #removing extra rows and columns\n",
    "sale_unemployed_clean = sale_unemployed.drop(sale_unemployed.index[[0,1,2,3,4,5,6,7,8,9,10,11]])\n",
    "sale_unemployed_clean"
   ]
  },
  {
   "cell_type": "code",
   "execution_count": 107,
   "metadata": {},
   "outputs": [],
   "source": [
    "# Adding the correct header\n",
    "headers = sale_unemployed_clean.iloc[0]\n",
    "sale_unemployed_clean = sale_unemployed_clean[1:] "
   ]
  },
  {
   "cell_type": "code",
   "execution_count": 108,
   "metadata": {},
   "outputs": [],
   "source": [
    "sale_unemployed_clean.columns = headers"
   ]
  },
  {
   "cell_type": "code",
   "execution_count": 109,
   "metadata": {},
   "outputs": [
    {
     "data": {
      "text/html": [
       "<div>\n",
       "<style scoped>\n",
       "    .dataframe tbody tr th:only-of-type {\n",
       "        vertical-align: middle;\n",
       "    }\n",
       "\n",
       "    .dataframe tbody tr th {\n",
       "        vertical-align: top;\n",
       "    }\n",
       "\n",
       "    .dataframe thead th {\n",
       "        text-align: right;\n",
       "    }\n",
       "</style>\n",
       "<table border=\"1\" class=\"dataframe\">\n",
       "  <thead>\n",
       "    <tr style=\"text-align: right;\">\n",
       "      <th>12</th>\n",
       "      <th>Year</th>\n",
       "      <th>Jan</th>\n",
       "      <th>Feb</th>\n",
       "      <th>Mar</th>\n",
       "      <th>Apr</th>\n",
       "      <th>May</th>\n",
       "      <th>Jun</th>\n",
       "      <th>Jul</th>\n",
       "      <th>Aug</th>\n",
       "      <th>Sep</th>\n",
       "      <th>Oct</th>\n",
       "      <th>Nov</th>\n",
       "      <th>Dec</th>\n",
       "    </tr>\n",
       "  </thead>\n",
       "  <tbody>\n",
       "    <tr>\n",
       "      <th>13</th>\n",
       "      <td>2019</td>\n",
       "      <td>731</td>\n",
       "      <td>800</td>\n",
       "      <td>739</td>\n",
       "      <td>625</td>\n",
       "      <td>582</td>\n",
       "      <td>534</td>\n",
       "      <td>523</td>\n",
       "      <td>625</td>\n",
       "      <td>581</td>\n",
       "      <td>572</td>\n",
       "      <td>531</td>\n",
       "      <td>528</td>\n",
       "    </tr>\n",
       "    <tr>\n",
       "      <th>14</th>\n",
       "      <td>2020</td>\n",
       "      <td>724</td>\n",
       "      <td>657</td>\n",
       "      <td>652</td>\n",
       "      <td>2519</td>\n",
       "      <td>2412</td>\n",
       "      <td>2059</td>\n",
       "      <td>1734</td>\n",
       "      <td>NaN</td>\n",
       "      <td>NaN</td>\n",
       "      <td>NaN</td>\n",
       "      <td>NaN</td>\n",
       "      <td>NaN</td>\n",
       "    </tr>\n",
       "  </tbody>\n",
       "</table>\n",
       "</div>"
      ],
      "text/plain": [
       "12  Year  Jan  Feb  Mar   Apr   May   Jun   Jul  Aug  Sep  Oct  Nov  Dec\n",
       "13  2019  731  800  739   625   582   534   523  625  581  572  531  528\n",
       "14  2020  724  657  652  2519  2412  2059  1734  NaN  NaN  NaN  NaN  NaN"
      ]
     },
     "execution_count": 109,
     "metadata": {},
     "output_type": "execute_result"
    }
   ],
   "source": [
    "sale_unemployed_clean"
   ]
  },
  {
   "cell_type": "code",
   "execution_count": 110,
   "metadata": {},
   "outputs": [],
   "source": [
    "# creating new variable and transposing it for plotting\n",
    "sale_un_tp = sale_unemployed_clean.transpose()"
   ]
  },
  {
   "cell_type": "code",
   "execution_count": 111,
   "metadata": {},
   "outputs": [],
   "source": [
    "# Adding the correct header\n",
    "headers = sale_un_tp.iloc[0]\n",
    "sale_un_tp = sale_un_tp[1:] "
   ]
  },
  {
   "cell_type": "code",
   "execution_count": 112,
   "metadata": {},
   "outputs": [],
   "source": [
    "sale_un_tp.columns = headers"
   ]
  },
  {
   "cell_type": "code",
   "execution_count": 113,
   "metadata": {},
   "outputs": [],
   "source": [
    "# changing the datatype to numeric for plotting\n",
    "sale_un_tp = sale_un_tp.apply (pd.to_numeric, errors=\"ignore\")"
   ]
  },
  {
   "cell_type": "code",
   "execution_count": 114,
   "metadata": {},
   "outputs": [
    {
     "data": {
      "image/png": "[encoded data removed]",
      "text/plain": [
       "<Figure size 864x216 with 1 Axes>"
      ]
     },
     "metadata": {
      "needs_background": "light"
     },
     "output_type": "display_data"
    },
    {
     "data": {
      "text/plain": [
       "<Figure size 432x288 with 0 Axes>"
      ]
     },
     "metadata": {},
     "output_type": "display_data"
    }
   ],
   "source": [
    "# Use DataFrame.plot() in order to create a bar chart of the data\n",
    "sale_un_tp.plot(kind=\"bar\", figsize=(12,3))\n",
    "\n",
    "# Set a title for the chart\n",
    "plt.title(\"Count of Unemployed - Sales and Related\")\n",
    "\n",
    "plt.show()\n",
    "plt.tight_layout()"
   ]
  },
  {
   "cell_type": "code",
   "execution_count": 91,
   "metadata": {},
   "outputs": [],
   "source": [
    "# Add occupation column\n",
    "# inserting column with static value in data frame \n",
    "sale_unemployed_clean.insert(1, \"Occupation\", \"Sales\")"
   ]
  },
  {
   "cell_type": "code",
   "execution_count": 115,
   "metadata": {},
   "outputs": [
    {
     "data": {
      "text/html": [
       "<div>\n",
       "<style scoped>\n",
       "    .dataframe tbody tr th:only-of-type {\n",
       "        vertical-align: middle;\n",
       "    }\n",
       "\n",
       "    .dataframe tbody tr th {\n",
       "        vertical-align: top;\n",
       "    }\n",
       "\n",
       "    .dataframe thead th {\n",
       "        text-align: right;\n",
       "    }\n",
       "</style>\n",
       "<table border=\"1\" class=\"dataframe\">\n",
       "  <thead>\n",
       "    <tr style=\"text-align: right;\">\n",
       "      <th>12</th>\n",
       "      <th>Year</th>\n",
       "      <th>Jan</th>\n",
       "      <th>Feb</th>\n",
       "      <th>Mar</th>\n",
       "      <th>Apr</th>\n",
       "      <th>May</th>\n",
       "      <th>Jun</th>\n",
       "      <th>Jul</th>\n",
       "      <th>Aug</th>\n",
       "      <th>Sep</th>\n",
       "      <th>Oct</th>\n",
       "      <th>Nov</th>\n",
       "      <th>Dec</th>\n",
       "    </tr>\n",
       "  </thead>\n",
       "  <tbody>\n",
       "    <tr>\n",
       "      <th>13</th>\n",
       "      <td>2019</td>\n",
       "      <td>731</td>\n",
       "      <td>800</td>\n",
       "      <td>739</td>\n",
       "      <td>625</td>\n",
       "      <td>582</td>\n",
       "      <td>534</td>\n",
       "      <td>523</td>\n",
       "      <td>625</td>\n",
       "      <td>581</td>\n",
       "      <td>572</td>\n",
       "      <td>531</td>\n",
       "      <td>528</td>\n",
       "    </tr>\n",
       "    <tr>\n",
       "      <th>14</th>\n",
       "      <td>2020</td>\n",
       "      <td>724</td>\n",
       "      <td>657</td>\n",
       "      <td>652</td>\n",
       "      <td>2519</td>\n",
       "      <td>2412</td>\n",
       "      <td>2059</td>\n",
       "      <td>1734</td>\n",
       "      <td>NaN</td>\n",
       "      <td>NaN</td>\n",
       "      <td>NaN</td>\n",
       "      <td>NaN</td>\n",
       "      <td>NaN</td>\n",
       "    </tr>\n",
       "  </tbody>\n",
       "</table>\n",
       "</div>"
      ],
      "text/plain": [
       "12  Year  Jan  Feb  Mar   Apr   May   Jun   Jul  Aug  Sep  Oct  Nov  Dec\n",
       "13  2019  731  800  739   625   582   534   523  625  581  572  531  528\n",
       "14  2020  724  657  652  2519  2412  2059  1734  NaN  NaN  NaN  NaN  NaN"
      ]
     },
     "execution_count": 115,
     "metadata": {},
     "output_type": "execute_result"
    }
   ],
   "source": [
    "sale_unemployed_clean"
   ]
  },
  {
   "cell_type": "markdown",
   "metadata": {},
   "source": [
    "## Transportation and Moving "
   ]
  },
  {
   "cell_type": "code",
   "execution_count": 116,
   "metadata": {},
   "outputs": [
    {
     "data": {
      "text/html": [
       "<div>\n",
       "<style scoped>\n",
       "    .dataframe tbody tr th:only-of-type {\n",
       "        vertical-align: middle;\n",
       "    }\n",
       "\n",
       "    .dataframe tbody tr th {\n",
       "        vertical-align: top;\n",
       "    }\n",
       "\n",
       "    .dataframe thead th {\n",
       "        text-align: right;\n",
       "    }\n",
       "</style>\n",
       "<table border=\"1\" class=\"dataframe\">\n",
       "  <thead>\n",
       "    <tr style=\"text-align: right;\">\n",
       "      <th></th>\n",
       "      <th>Labor Force Statistics from the Current Population Survey</th>\n",
       "      <th>Unnamed: 1</th>\n",
       "      <th>Unnamed: 2</th>\n",
       "      <th>Unnamed: 3</th>\n",
       "      <th>Unnamed: 4</th>\n",
       "      <th>Unnamed: 5</th>\n",
       "      <th>Unnamed: 6</th>\n",
       "      <th>Unnamed: 7</th>\n",
       "      <th>Unnamed: 8</th>\n",
       "      <th>Unnamed: 9</th>\n",
       "      <th>Unnamed: 10</th>\n",
       "      <th>Unnamed: 11</th>\n",
       "      <th>Unnamed: 12</th>\n",
       "    </tr>\n",
       "  </thead>\n",
       "  <tbody>\n",
       "    <tr>\n",
       "      <th>12</th>\n",
       "      <td>Year</td>\n",
       "      <td>Jan</td>\n",
       "      <td>Feb</td>\n",
       "      <td>Mar</td>\n",
       "      <td>Apr</td>\n",
       "      <td>May</td>\n",
       "      <td>Jun</td>\n",
       "      <td>Jul</td>\n",
       "      <td>Aug</td>\n",
       "      <td>Sep</td>\n",
       "      <td>Oct</td>\n",
       "      <td>Nov</td>\n",
       "      <td>Dec</td>\n",
       "    </tr>\n",
       "    <tr>\n",
       "      <th>13</th>\n",
       "      <td>2019</td>\n",
       "      <td>498</td>\n",
       "      <td>528</td>\n",
       "      <td>514</td>\n",
       "      <td>427</td>\n",
       "      <td>527</td>\n",
       "      <td>528</td>\n",
       "      <td>541</td>\n",
       "      <td>597</td>\n",
       "      <td>467</td>\n",
       "      <td>411</td>\n",
       "      <td>468</td>\n",
       "      <td>454</td>\n",
       "    </tr>\n",
       "    <tr>\n",
       "      <th>14</th>\n",
       "      <td>2020</td>\n",
       "      <td>574</td>\n",
       "      <td>682</td>\n",
       "      <td>851</td>\n",
       "      <td>2045</td>\n",
       "      <td>2217</td>\n",
       "      <td>1704</td>\n",
       "      <td>1825</td>\n",
       "      <td>NaN</td>\n",
       "      <td>NaN</td>\n",
       "      <td>NaN</td>\n",
       "      <td>NaN</td>\n",
       "      <td>NaN</td>\n",
       "    </tr>\n",
       "  </tbody>\n",
       "</table>\n",
       "</div>"
      ],
      "text/plain": [
       "   Labor Force Statistics from the Current Population Survey Unnamed: 1  \\\n",
       "12                                               Year               Jan   \n",
       "13                                               2019               498   \n",
       "14                                               2020               574   \n",
       "\n",
       "   Unnamed: 2 Unnamed: 3 Unnamed: 4 Unnamed: 5 Unnamed: 6 Unnamed: 7  \\\n",
       "12        Feb        Mar        Apr        May        Jun        Jul   \n",
       "13        528        514        427        527        528        541   \n",
       "14        682        851       2045       2217       1704       1825   \n",
       "\n",
       "   Unnamed: 8 Unnamed: 9 Unnamed: 10 Unnamed: 11 Unnamed: 12  \n",
       "12        Aug        Sep         Oct         Nov         Dec  \n",
       "13        597        467         411         468         454  \n",
       "14        NaN        NaN         NaN         NaN         NaN  "
      ]
     },
     "execution_count": 116,
     "metadata": {},
     "output_type": "execute_result"
    }
   ],
   "source": [
    "# #removing extra rows and columns\n",
    "tran_unemployed_clean = tran_unemployed.drop(tran_unemployed.index[[0,1,2,3,4,5,6,7,8,9,10,11]])\n",
    "tran_unemployed_clean"
   ]
  },
  {
   "cell_type": "code",
   "execution_count": 117,
   "metadata": {},
   "outputs": [],
   "source": [
    "# Adding the correct header\n",
    "headers = tran_unemployed_clean.iloc[0]\n",
    "tran_unemployed_clean = tran_unemployed_clean[1:] "
   ]
  },
  {
   "cell_type": "code",
   "execution_count": 118,
   "metadata": {},
   "outputs": [],
   "source": [
    "tran_unemployed_clean.columns = headers"
   ]
  },
  {
   "cell_type": "code",
   "execution_count": 119,
   "metadata": {},
   "outputs": [
    {
     "data": {
      "text/html": [
       "<div>\n",
       "<style scoped>\n",
       "    .dataframe tbody tr th:only-of-type {\n",
       "        vertical-align: middle;\n",
       "    }\n",
       "\n",
       "    .dataframe tbody tr th {\n",
       "        vertical-align: top;\n",
       "    }\n",
       "\n",
       "    .dataframe thead th {\n",
       "        text-align: right;\n",
       "    }\n",
       "</style>\n",
       "<table border=\"1\" class=\"dataframe\">\n",
       "  <thead>\n",
       "    <tr style=\"text-align: right;\">\n",
       "      <th>12</th>\n",
       "      <th>Year</th>\n",
       "      <th>Jan</th>\n",
       "      <th>Feb</th>\n",
       "      <th>Mar</th>\n",
       "      <th>Apr</th>\n",
       "      <th>May</th>\n",
       "      <th>Jun</th>\n",
       "      <th>Jul</th>\n",
       "      <th>Aug</th>\n",
       "      <th>Sep</th>\n",
       "      <th>Oct</th>\n",
       "      <th>Nov</th>\n",
       "      <th>Dec</th>\n",
       "    </tr>\n",
       "  </thead>\n",
       "  <tbody>\n",
       "    <tr>\n",
       "      <th>13</th>\n",
       "      <td>2019</td>\n",
       "      <td>498</td>\n",
       "      <td>528</td>\n",
       "      <td>514</td>\n",
       "      <td>427</td>\n",
       "      <td>527</td>\n",
       "      <td>528</td>\n",
       "      <td>541</td>\n",
       "      <td>597</td>\n",
       "      <td>467</td>\n",
       "      <td>411</td>\n",
       "      <td>468</td>\n",
       "      <td>454</td>\n",
       "    </tr>\n",
       "    <tr>\n",
       "      <th>14</th>\n",
       "      <td>2020</td>\n",
       "      <td>574</td>\n",
       "      <td>682</td>\n",
       "      <td>851</td>\n",
       "      <td>2045</td>\n",
       "      <td>2217</td>\n",
       "      <td>1704</td>\n",
       "      <td>1825</td>\n",
       "      <td>NaN</td>\n",
       "      <td>NaN</td>\n",
       "      <td>NaN</td>\n",
       "      <td>NaN</td>\n",
       "      <td>NaN</td>\n",
       "    </tr>\n",
       "  </tbody>\n",
       "</table>\n",
       "</div>"
      ],
      "text/plain": [
       "12  Year  Jan  Feb  Mar   Apr   May   Jun   Jul  Aug  Sep  Oct  Nov  Dec\n",
       "13  2019  498  528  514   427   527   528   541  597  467  411  468  454\n",
       "14  2020  574  682  851  2045  2217  1704  1825  NaN  NaN  NaN  NaN  NaN"
      ]
     },
     "execution_count": 119,
     "metadata": {},
     "output_type": "execute_result"
    }
   ],
   "source": [
    "tran_unemployed_clean"
   ]
  },
  {
   "cell_type": "code",
   "execution_count": 120,
   "metadata": {},
   "outputs": [],
   "source": [
    "# creating new variable and transposing it for plotting\n",
    "tran_un_tp = tran_unemployed_clean.transpose()"
   ]
  },
  {
   "cell_type": "code",
   "execution_count": 121,
   "metadata": {},
   "outputs": [],
   "source": [
    "# Adding the correct header\n",
    "headers = tran_un_tp.iloc[0]\n",
    "tran_un_tp = tran_un_tp[1:] "
   ]
  },
  {
   "cell_type": "code",
   "execution_count": 122,
   "metadata": {},
   "outputs": [],
   "source": [
    "tran_un_tp.columns = headers"
   ]
  },
  {
   "cell_type": "code",
   "execution_count": 123,
   "metadata": {},
   "outputs": [],
   "source": [
    "# changing the datatype to numeric for plotting\n",
    "tran_un_tp = tran_un_tp.apply (pd.to_numeric, errors=\"ignore\")"
   ]
  },
  {
   "cell_type": "code",
   "execution_count": 124,
   "metadata": {},
   "outputs": [
    {
     "data": {
      "image/png": "[encoded data removed]",
      "text/plain": [
       "<Figure size 864x216 with 1 Axes>"
      ]
     },
     "metadata": {
      "needs_background": "light"
     },
     "output_type": "display_data"
    },
    {
     "data": {
      "text/plain": [
       "<Figure size 432x288 with 0 Axes>"
      ]
     },
     "metadata": {},
     "output_type": "display_data"
    }
   ],
   "source": [
    "# Use DataFrame.plot() in order to create a bar chart of the data\n",
    "tran_un_tp.plot(kind=\"bar\", figsize=(12,3))\n",
    "\n",
    "# Set a title for the chart\n",
    "plt.title(\"Count of Unemployed - Transportation and Moving\")\n",
    "\n",
    "plt.show()\n",
    "plt.tight_layout()"
   ]
  },
  {
   "cell_type": "code",
   "execution_count": 102,
   "metadata": {},
   "outputs": [],
   "source": [
    "# Add occupation column\n",
    "# inserting column with static value in data frame \n",
    "tran_unemployed_clean.insert(1, \"Occupation\", \"Transportation\")"
   ]
  },
  {
   "cell_type": "code",
   "execution_count": 125,
   "metadata": {},
   "outputs": [
    {
     "data": {
      "text/html": [
       "<div>\n",
       "<style scoped>\n",
       "    .dataframe tbody tr th:only-of-type {\n",
       "        vertical-align: middle;\n",
       "    }\n",
       "\n",
       "    .dataframe tbody tr th {\n",
       "        vertical-align: top;\n",
       "    }\n",
       "\n",
       "    .dataframe thead th {\n",
       "        text-align: right;\n",
       "    }\n",
       "</style>\n",
       "<table border=\"1\" class=\"dataframe\">\n",
       "  <thead>\n",
       "    <tr style=\"text-align: right;\">\n",
       "      <th>12</th>\n",
       "      <th>Year</th>\n",
       "      <th>Jan</th>\n",
       "      <th>Feb</th>\n",
       "      <th>Mar</th>\n",
       "      <th>Apr</th>\n",
       "      <th>May</th>\n",
       "      <th>Jun</th>\n",
       "      <th>Jul</th>\n",
       "      <th>Aug</th>\n",
       "      <th>Sep</th>\n",
       "      <th>Oct</th>\n",
       "      <th>Nov</th>\n",
       "      <th>Dec</th>\n",
       "    </tr>\n",
       "  </thead>\n",
       "  <tbody>\n",
       "    <tr>\n",
       "      <th>13</th>\n",
       "      <td>2019</td>\n",
       "      <td>498</td>\n",
       "      <td>528</td>\n",
       "      <td>514</td>\n",
       "      <td>427</td>\n",
       "      <td>527</td>\n",
       "      <td>528</td>\n",
       "      <td>541</td>\n",
       "      <td>597</td>\n",
       "      <td>467</td>\n",
       "      <td>411</td>\n",
       "      <td>468</td>\n",
       "      <td>454</td>\n",
       "    </tr>\n",
       "    <tr>\n",
       "      <th>14</th>\n",
       "      <td>2020</td>\n",
       "      <td>574</td>\n",
       "      <td>682</td>\n",
       "      <td>851</td>\n",
       "      <td>2045</td>\n",
       "      <td>2217</td>\n",
       "      <td>1704</td>\n",
       "      <td>1825</td>\n",
       "      <td>NaN</td>\n",
       "      <td>NaN</td>\n",
       "      <td>NaN</td>\n",
       "      <td>NaN</td>\n",
       "      <td>NaN</td>\n",
       "    </tr>\n",
       "  </tbody>\n",
       "</table>\n",
       "</div>"
      ],
      "text/plain": [
       "12  Year  Jan  Feb  Mar   Apr   May   Jun   Jul  Aug  Sep  Oct  Nov  Dec\n",
       "13  2019  498  528  514   427   527   528   541  597  467  411  468  454\n",
       "14  2020  574  682  851  2045  2217  1704  1825  NaN  NaN  NaN  NaN  NaN"
      ]
     },
     "execution_count": 125,
     "metadata": {},
     "output_type": "execute_result"
    }
   ],
   "source": [
    "tran_unemployed_clean"
   ]
  },
  {
   "cell_type": "markdown",
   "metadata": {},
   "source": [
    "## Merging all the dataframes to one "
   ]
  },
  {
   "cell_type": "code",
   "execution_count": 104,

   "metadata": {},
   "outputs": [],
   "source": [
    "# # add row at index 13:14 from dataframe cons_unemployed to dataframe mgmt_unemployed\n",
    "# combined_unemployed = mgmt_unemployed.append(cons_unemployed.loc[13:14], ignore_index=True)\n",
    "# combined_unemployed\n"
   ]
  },
  {
   "cell_type": "code",
   "execution_count": 126,
   "metadata": {},
   "outputs": [],
   "source": [
    "combined_unemployed = cons_unemployed_clean.append ([farm_unemployed_clean, inst_unemployed_clean, fina_unemployed_clean, offi_unemployed_clean, prod_unemployed_clean, prof_unemployed_clean, sale_unemployed_clean, tran_unemployed_clean]) "
   ]
  },
  {
   "cell_type": "code",
   "execution_count": 127,
   "metadata": {},
   "outputs": [
    {
     "data": {
      "text/html": [
       "<div>\n",
       "<style scoped>\n",
       "    .dataframe tbody tr th:only-of-type {\n",
       "        vertical-align: middle;\n",
       "    }\n",
       "\n",
       "    .dataframe tbody tr th {\n",
       "        vertical-align: top;\n",
       "    }\n",
       "\n",
       "    .dataframe thead th {\n",
       "        text-align: right;\n",
       "    }\n",
       "</style>\n",
       "<table border=\"1\" class=\"dataframe\">\n",
       "  <thead>\n",
       "    <tr style=\"text-align: right;\">\n",
       "      <th></th>\n",
       "      <th>Year</th>\n",
       "      <th>Occupation</th>\n",
       "      <th>Jan</th>\n",
       "      <th>Feb</th>\n",
       "      <th>Mar</th>\n",
       "      <th>Apr</th>\n",
       "      <th>May</th>\n",
       "      <th>Jun</th>\n",
       "      <th>Jul</th>\n",
       "      <th>Aug</th>\n",
       "      <th>Sep</th>\n",
       "      <th>Oct</th>\n",
       "      <th>Nov</th>\n",
       "      <th>Dec</th>\n",
       "    </tr>\n",
       "  </thead>\n",
       "  <tbody>\n",
       "    <tr>\n",
       "      <th>13</th>\n",
       "      <td>2019</td>\n",
       "      <td>Construction</td>\n",
       "      <td>689</td>\n",
       "      <td>598</td>\n",
       "      <td>503</td>\n",
       "      <td>453</td>\n",
       "      <td>314</td>\n",
       "      <td>364</td>\n",
       "      <td>406</td>\n",
       "      <td>398</td>\n",
       "      <td>314</td>\n",
       "      <td>402</td>\n",
       "      <td>437</td>\n",
       "      <td>547</td>\n",
       "    </tr>\n",
       "    <tr>\n",
       "      <th>14</th>\n",
       "      <td>2020</td>\n",
       "      <td>Construction</td>\n",
       "      <td>590</td>\n",
       "      <td>604</td>\n",
       "      <td>727</td>\n",
       "      <td>1529</td>\n",
       "      <td>1232</td>\n",
       "      <td>961</td>\n",
       "      <td>876</td>\n",
       "      <td>NaN</td>\n",
       "      <td>NaN</td>\n",
       "      <td>NaN</td>\n",
       "      <td>NaN</td>\n",
       "      <td>NaN</td>\n",
       "    </tr>\n",
       "    <tr>\n",
       "      <th>13</th>\n",
       "      <td>2019</td>\n",
       "      <td>Farming</td>\n",
       "      <td>257</td>\n",
       "      <td>190</td>\n",
       "      <td>207</td>\n",
       "      <td>140</td>\n",
       "      <td>93</td>\n",
       "      <td>90</td>\n",
       "      <td>61</td>\n",
       "      <td>50</td>\n",
       "      <td>63</td>\n",
       "      <td>55</td>\n",
       "      <td>134</td>\n",
       "      <td>130</td>\n",
       "    </tr>\n",
       "    <tr>\n",
       "      <th>14</th>\n",
       "      <td>2020</td>\n",
       "      <td>Farming</td>\n",
       "      <td>210</td>\n",
       "      <td>183</td>\n",
       "      <td>131</td>\n",
       "      <td>153</td>\n",
       "      <td>101</td>\n",
       "      <td>76</td>\n",
       "      <td>78</td>\n",
       "      <td>NaN</td>\n",
       "      <td>NaN</td>\n",
       "      <td>NaN</td>\n",
       "      <td>NaN</td>\n",
       "      <td>NaN</td>\n",
       "    </tr>\n",
       "    <tr>\n",
       "      <th>13</th>\n",
       "      <td>2019</td>\n",
       "      <td>Installation</td>\n",
       "      <td>136</td>\n",
       "      <td>151</td>\n",
       "      <td>118</td>\n",
       "      <td>132</td>\n",
       "      <td>152</td>\n",
       "      <td>152</td>\n",
       "      <td>174</td>\n",
       "      <td>152</td>\n",
       "      <td>111</td>\n",
       "      <td>76</td>\n",
       "      <td>84</td>\n",
       "      <td>105</td>\n",
       "    </tr>\n",
       "    <tr>\n",
       "      <th>14</th>\n",
       "      <td>2020</td>\n",
       "      <td>Installation</td>\n",
       "      <td>137</td>\n",
       "      <td>122</td>\n",
       "      <td>132</td>\n",
       "      <td>619</td>\n",
       "      <td>543</td>\n",
       "      <td>475</td>\n",
       "      <td>386</td>\n",
       "      <td>NaN</td>\n",
       "      <td>NaN</td>\n",
       "      <td>NaN</td>\n",
       "      <td>NaN</td>\n",
       "      <td>NaN</td>\n",
       "    </tr>\n",
       "    <tr>\n",
       "      <th>13</th>\n",
       "      <td>2019</td>\n",
       "      <td>Finance</td>\n",
       "      <td>676</td>\n",
       "      <td>565</td>\n",
       "      <td>552</td>\n",
       "      <td>375</td>\n",
       "      <td>398</td>\n",
       "      <td>519</td>\n",
       "      <td>492</td>\n",
       "      <td>506</td>\n",
       "      <td>450</td>\n",
       "      <td>471</td>\n",
       "      <td>453</td>\n",
       "      <td>533</td>\n",
       "    </tr>\n",
       "    <tr>\n",
       "      <th>14</th>\n",
       "      <td>2020</td>\n",
       "      <td>Finance</td>\n",
       "      <td>656</td>\n",
       "      <td>507</td>\n",
       "      <td>631</td>\n",
       "      <td>1742</td>\n",
       "      <td>1432</td>\n",
       "      <td>1367</td>\n",
       "      <td>1460</td>\n",
       "      <td>NaN</td>\n",
       "      <td>NaN</td>\n",
       "      <td>NaN</td>\n",
       "      <td>NaN</td>\n",
       "      <td>NaN</td>\n",
       "    </tr>\n",
       "    <tr>\n",
       "      <th>13</th>\n",
       "      <td>2019</td>\n",
       "      <td>Office</td>\n",
       "      <td>783</td>\n",
       "      <td>652</td>\n",
       "      <td>640</td>\n",
       "      <td>629</td>\n",
       "      <td>735</td>\n",
       "      <td>761</td>\n",
       "      <td>751</td>\n",
       "      <td>712</td>\n",
       "      <td>577</td>\n",
       "      <td>573</td>\n",
       "      <td>567</td>\n",
       "      <td>533</td>\n",
       "    </tr>\n",
       "    <tr>\n",
       "      <th>14</th>\n",
       "      <td>2020</td>\n",
       "      <td>Office</td>\n",
       "      <td>585</td>\n",
       "      <td>554</td>\n",
       "      <td>602</td>\n",
       "      <td>2080</td>\n",
       "      <td>1948</td>\n",
       "      <td>1759</td>\n",
       "      <td>1650</td>\n",
       "      <td>NaN</td>\n",
       "      <td>NaN</td>\n",
       "      <td>NaN</td>\n",
       "      <td>NaN</td>\n",
       "      <td>NaN</td>\n",
       "    </tr>\n",
       "  </tbody>\n",
       "</table>\n",
       "</div>"
      ],
      "text/plain": [
       "    Year    Occupation  Jan  Feb  Mar   Apr   May   Jun   Jul  Aug  Sep  Oct  \\\n",
       "13  2019  Construction  689  598  503   453   314   364   406  398  314  402   \n",
       "14  2020  Construction  590  604  727  1529  1232   961   876  NaN  NaN  NaN   \n",
       "13  2019       Farming  257  190  207   140    93    90    61   50   63   55   \n",
       "14  2020       Farming  210  183  131   153   101    76    78  NaN  NaN  NaN   \n",
       "13  2019  Installation  136  151  118   132   152   152   174  152  111   76   \n",
       "14  2020  Installation  137  122  132   619   543   475   386  NaN  NaN  NaN   \n",
       "13  2019       Finance  676  565  552   375   398   519   492  506  450  471   \n",
       "14  2020       Finance  656  507  631  1742  1432  1367  1460  NaN  NaN  NaN   \n",
       "13  2019        Office  783  652  640   629   735   761   751  712  577  573   \n",
       "14  2020        Office  585  554  602  2080  1948  1759  1650  NaN  NaN  NaN   \n",
       "\n",
       "    Nov  Dec  \n",
       "13  437  547  \n",
       "14  NaN  NaN  \n",
       "13  134  130  \n",
       "14  NaN  NaN  \n",
       "13   84  105  \n",
       "14  NaN  NaN  \n",
       "13  453  533  \n",
       "14  NaN  NaN  \n",
       "13  567  533  \n",
       "14  NaN  NaN  "
      ]
     },
     "execution_count": 127,
     "metadata": {},
     "output_type": "execute_result"
    }
   ],
   "source": [
    "combined_unemployed.head(10)"
   ]
  },
  {
   "cell_type": "code",
   "execution_count": 128,
   "metadata": {},
   "outputs": [
    {
     "data": {
      "text/html": [
       "<div>\n",
       "<style scoped>\n",
       "    .dataframe tbody tr th:only-of-type {\n",
       "        vertical-align: middle;\n",
       "    }\n",
       "\n",
       "    .dataframe tbody tr th {\n",
       "        vertical-align: top;\n",
       "    }\n",
       "\n",
       "    .dataframe thead th {\n",
       "        text-align: right;\n",
       "    }\n",
       "</style>\n",
       "<table border=\"1\" class=\"dataframe\">\n",
       "  <thead>\n",
       "    <tr style=\"text-align: right;\">\n",
       "      <th></th>\n",
       "      <th>Year</th>\n",
       "      <th>Occupation</th>\n",
       "      <th>Jan</th>\n",
       "      <th>Feb</th>\n",
       "      <th>Mar</th>\n",
       "      <th>Apr</th>\n",
       "      <th>May</th>\n",
       "      <th>Jun</th>\n",
       "      <th>Jul</th>\n",
       "      <th>Aug</th>\n",
       "      <th>Sep</th>\n",
       "      <th>Oct</th>\n",
       "      <th>Nov</th>\n",
       "      <th>Dec</th>\n",
       "    </tr>\n",
       "  </thead>\n",
       "  <tbody>\n",
       "    <tr>\n",
       "      <th>0</th>\n",
       "      <td>2019</td>\n",
       "      <td>Construction</td>\n",
       "      <td>689</td>\n",
       "      <td>598</td>\n",
       "      <td>503</td>\n",
       "      <td>453</td>\n",
       "      <td>314</td>\n",
       "      <td>364</td>\n",
       "      <td>406</td>\n",
       "      <td>398</td>\n",
       "      <td>314</td>\n",
       "      <td>402</td>\n",
       "      <td>437</td>\n",
       "      <td>547</td>\n",
       "    </tr>\n",
       "    <tr>\n",
       "      <th>1</th>\n",
       "      <td>2020</td>\n",
       "      <td>Construction</td>\n",
       "      <td>590</td>\n",
       "      <td>604</td>\n",
       "      <td>727</td>\n",
       "      <td>1529</td>\n",
       "      <td>1232</td>\n",
       "      <td>961</td>\n",
       "      <td>876</td>\n",
       "      <td>NaN</td>\n",
       "      <td>NaN</td>\n",
       "      <td>NaN</td>\n",
       "      <td>NaN</td>\n",
       "      <td>NaN</td>\n",
       "    </tr>\n",
       "    <tr>\n",
       "      <th>2</th>\n",
       "      <td>2019</td>\n",
       "      <td>Farming</td>\n",
       "      <td>257</td>\n",
       "      <td>190</td>\n",
       "      <td>207</td>\n",
       "      <td>140</td>\n",
       "      <td>93</td>\n",
       "      <td>90</td>\n",
       "      <td>61</td>\n",
       "      <td>50</td>\n",
       "      <td>63</td>\n",
       "      <td>55</td>\n",
       "      <td>134</td>\n",
       "      <td>130</td>\n",
       "    </tr>\n",
       "    <tr>\n",
       "      <th>3</th>\n",
       "      <td>2020</td>\n",
       "      <td>Farming</td>\n",
       "      <td>210</td>\n",
       "      <td>183</td>\n",
       "      <td>131</td>\n",
       "      <td>153</td>\n",
       "      <td>101</td>\n",
       "      <td>76</td>\n",
       "      <td>78</td>\n",
       "      <td>NaN</td>\n",
       "      <td>NaN</td>\n",
       "      <td>NaN</td>\n",
       "      <td>NaN</td>\n",
       "      <td>NaN</td>\n",
       "    </tr>\n",
       "    <tr>\n",
       "      <th>4</th>\n",
       "      <td>2019</td>\n",
       "      <td>Installation</td>\n",
       "      <td>136</td>\n",
       "      <td>151</td>\n",
       "      <td>118</td>\n",
       "      <td>132</td>\n",
       "      <td>152</td>\n",
       "      <td>152</td>\n",
       "      <td>174</td>\n",
       "      <td>152</td>\n",
       "      <td>111</td>\n",
       "      <td>76</td>\n",
       "      <td>84</td>\n",
       "      <td>105</td>\n",
       "    </tr>\n",
       "  </tbody>\n",
       "</table>\n",
       "</div>"
      ],
      "text/plain": [
       "   Year    Occupation  Jan  Feb  Mar   Apr   May  Jun  Jul  Aug  Sep  Oct  \\\n",
       "0  2019  Construction  689  598  503   453   314  364  406  398  314  402   \n",
       "1  2020  Construction  590  604  727  1529  1232  961  876  NaN  NaN  NaN   \n",
       "2  2019       Farming  257  190  207   140    93   90   61   50   63   55   \n",
       "3  2020       Farming  210  183  131   153   101   76   78  NaN  NaN  NaN   \n",
       "4  2019  Installation  136  151  118   132   152  152  174  152  111   76   \n",
       "\n",
       "   Nov  Dec  \n",
       "0  437  547  \n",
       "1  NaN  NaN  \n",
       "2  134  130  \n",
       "3  NaN  NaN  \n",
       "4   84  105  "
      ]
     },
     "execution_count": 128,
     "metadata": {},
     "output_type": "execute_result"
    }
   ],
   "source": [
    "#reset index\n",
    "combined_unemployed = combined_unemployed.reset_index(drop=True)\n",
    "combined_unemployed.head()"
   ]
  }
 ],
 "metadata": {
  "kernelspec": {
   "display_name": "Python 3",
   "language": "python",
   "name": "python3"
  },
  "language_info": {
   "codemirror_mode": {
    "name": "ipython",
    "version": 3
   },
   "file_extension": ".py",
   "mimetype": "text/x-python",
   "name": "python",
   "nbconvert_exporter": "python",
   "pygments_lexer": "ipython3",
   "version": "3.6.10"
  }
 },
 "nbformat": 4,
 "nbformat_minor": 4
}
