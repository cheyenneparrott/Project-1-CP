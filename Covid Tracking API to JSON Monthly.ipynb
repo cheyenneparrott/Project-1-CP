{
 "cells": [
  {
   "cell_type": "code",
   "execution_count": null,
   "metadata": {},
   "outputs": [],
   "source": [
    "#Import modules\n",
    "import pandas as pd\n",
    "import matplotlib.pyplot as plt\n",
    "import numpy as np\n",
    "import requests\n",
    "import json\n",
    "import os"
   ]
  },
  {
   "cell_type": "code",
   "execution_count": null,
   "metadata": {},
   "outputs": [],
   "source": [
    "#Source - https://covidtracking.com/data\n",
    "#https://github.com/CSSEGISandData/COVID-19/tree/master/csse_covid_19_data used to verify accuracy \n",
    "\n",
    "#Get Covid data for all of U.S.\n",
    "json_url = \"https://api.covidtracking.com/v1/states/daily.json\"\n",
    "\n",
    "#Create dictionary to read from\n",
    "us_daily_dict = requests.get(json_url).json()"
   ]
  },
  {
   "cell_type": "code",
   "execution_count": null,
   "metadata": {},
   "outputs": [],
   "source": [
    "#Create data frame from dictionary\n",
    "us_daily = pd.DataFrame(us_daily_dict)"
   ]
  },
  {
   "cell_type": "markdown",
   "metadata": {},
   "source": [
    "# Filter Kansas and New Jersey"
   ]
  },
  {
   "cell_type": "code",
   "execution_count": null,
   "metadata": {},
   "outputs": [],
   "source": [
    "#Filter Kansas and New Jersey\n",
    "ks_nj_daily = pd.DataFrame(us_daily[[\"date\", \"state\", \"positive\", \"negative\", \"positiveIncrease\", \"negativeIncrease\", \"death\", \"deathIncrease\", \n",
    "                  \"totalTestResultsIncrease\", \"totalTestResults\", \"recovered\"]])\n",
    "ks_nj_daily = ks_nj_daily.loc[(ks_nj_daily[\"state\"] == \"KS\") | (ks_nj_daily[\"state\"] == \"NJ\") ]"
   ]
  },
  {
   "cell_type": "markdown",
   "metadata": {},
   "source": [
    "# Calculate Active Cases and Percent of Positive Results"
   ]
  },
  {
   "cell_type": "code",
   "execution_count": null,
   "metadata": {},
   "outputs": [],
   "source": [
    "#Fill percentage column\n",
    "ks_nj_daily[\"Percentage\"] = ks_nj_daily[\"positiveIncrease\"]/ks_nj_daily[\"totalTestResultsIncrease\"]\n",
    "\n",
    "#Fill NaN fields to be zero for readability\n",
    "ks_nj_daily[[\"Percentage\", \"death\", \"recovered\", \"positive\", \"negative\"]] = ks_nj_daily[[\"Percentage\", \"death\", \"recovered\", \"positive\", \"negative\"]].fillna(0)\n",
    "\n",
    "#Add active cases column\n",
    "ks_nj_daily[\"Active Cases\"] = ks_nj_daily[\"positive\"] - (ks_nj_daily[\"recovered\"] + ks_nj_daily[\"death\"])\n",
    "\n",
    "#Format percentage\n",
    "ks_nj_daily[\"Percentage\"] = ks_nj_daily[\"Percentage\"].astype(float).map(\"{:.2%}\".format)\n",
    "\n",
    "#Format date\n",
    "ks_nj_daily[\"date\"] = pd.to_datetime(ks_nj_daily[\"date\"], format='%Y%m%d')\n",
    "\n",
    "#Write to csv file\n",
    "ks_nj_daily.to_csv('Resources/ks_nj_daily.csv')"
   ]
  },
  {
   "cell_type": "markdown",
   "metadata": {},
   "source": [
    "# Create DataFrames for Monthly Plotting"
   ]
  },
  {
   "cell_type": "code",
   "execution_count": null,
   "metadata": {},
   "outputs": [],
   "source": [
    "#Filter for March data\n",
    "ks_march = ks_nj_daily.loc[(ks_nj_daily[\"date\"] >= \"2020-03-01\") & (ks_nj_daily[\"date\"] <= \"2020-03-31\") & (ks_nj_daily[\"state\"] == \"KS\") ,:]\n",
    "nj_march = ks_nj_daily.loc[(ks_nj_daily[\"date\"] >= \"2020-03-01\") & (ks_nj_daily[\"date\"] <= \"2020-03-31\") & (ks_nj_daily[\"state\"] == \"NJ\") ,:]\n",
    "nj_march = nj_march.loc[(nj_march[\"positive\"] > 0),:]\n",
    "\n",
    "#Sort values for charting\n",
    "ks_march = ks_march.sort_values(\"date\", ascending = True)\n",
    "nj_march = nj_march.sort_values(\"date\", ascending = True)\n",
    "\n",
    "#Filter April data\n",
    "ks_april = ks_nj_daily.loc[(ks_nj_daily[\"date\"] >= \"2020-04-01\") & (ks_nj_daily[\"date\"] <= \"2020-04-30\") & (ks_nj_daily[\"state\"] == \"KS\") ,:]\n",
    "nj_april = ks_nj_daily.loc[(ks_nj_daily[\"date\"] >= \"2020-04-01\") & (ks_nj_daily[\"date\"] <= \"2020-04-30\") & (ks_nj_daily[\"state\"] == \"NJ\"),:]\n",
    "\n",
    "#Sort values for charting\n",
    "ks_april = ks_april.sort_values(\"date\", ascending = True)\n",
    "nj_april = nj_april.sort_values(\"date\", ascending = True)\n",
    "\n",
    "#Filter May data\n",
    "ks_may = ks_nj_daily.loc[(ks_nj_daily[\"date\"] >= \"2020-05-01\") & (ks_nj_daily[\"date\"] <= \"2020-05-31\") & (ks_nj_daily[\"state\"] == \"KS\") ,:]\n",
    "nj_may = ks_nj_daily.loc[(ks_nj_daily[\"date\"] >= \"2020-05-01\") & (ks_nj_daily[\"date\"] <= \"2020-05-31\") & (ks_nj_daily[\"state\"] == \"NJ\"),:]\n",
    "\n",
    "#Sort values for charting\n",
    "ks_may = ks_may.sort_values(\"date\", ascending = True)\n",
    "nj_may = nj_may.sort_values(\"date\", ascending = True)\n",
    "\n",
    "#Filter June data\n",
    "ks_june = ks_nj_daily.loc[(ks_nj_daily[\"date\"] >= \"2020-06-01\") & (ks_nj_daily[\"date\"] <= \"2020-06-30\") & (ks_nj_daily[\"state\"] == \"KS\") ,:]\n",
    "nj_june = ks_nj_daily.loc[(ks_nj_daily[\"date\"] >= \"2020-06-01\") & (ks_nj_daily[\"date\"] <= \"2020-06-30\") & (ks_nj_daily[\"state\"] == \"NJ\"),:]\n",
    "\n",
    "#Sort values for charting\n",
    "ks_june = ks_june.sort_values(\"date\", ascending = True)\n",
    "nj_june = nj_june.sort_values(\"date\", ascending = True)\n",
    "\n",
    "#Filter July data\n",
    "ks_july = ks_nj_daily.loc[(ks_nj_daily[\"date\"] >= \"2020-07-01\") & (ks_nj_daily[\"date\"] <= \"2020-07-31\") & (ks_nj_daily[\"state\"] == \"KS\") ,:]\n",
    "nj_july = ks_nj_daily.loc[(ks_nj_daily[\"date\"] >= \"2020-07-01\") & (ks_nj_daily[\"date\"] <= \"2020-07-31\") & (ks_nj_daily[\"state\"] == \"NJ\"),:]\n",
    "\n",
    "#Sort values for charting\n",
    "ks_july = ks_july.sort_values(\"date\", ascending = True)\n",
    "nj_july = nj_july.sort_values(\"date\", ascending = True)\n",
    "\n",
    "#Filter August data\n",
    "ks_aug = ks_nj_daily.loc[(ks_nj_daily[\"date\"] >= \"2020-08-01\") & (ks_nj_daily[\"date\"] <= \"2020-08-31\") & (ks_nj_daily[\"state\"] == \"KS\") ,:]\n",
    "nj_aug = ks_nj_daily.loc[(ks_nj_daily[\"date\"] >= \"2020-08-01\") & (ks_nj_daily[\"date\"] <= \"2020-08-31\") & (ks_nj_daily[\"state\"] == \"NJ\"),:]\n",
    "\n",
    "#Sort values for charting\n",
    "ks_aug = ks_aug.sort_values(\"date\", ascending = True)\n",
    "nj_aug = nj_aug.sort_values(\"date\", ascending = True)"
   ]
  },
  {
   "cell_type": "markdown",
   "metadata": {},
   "source": [
    "# Plot maximum active cases for each state by month"
   ]
  },
  {
   "cell_type": "code",
   "execution_count": null,
   "metadata": {},
   "outputs": [],
   "source": [
    "#Get active cases for each month in Kansas\n",
    "tot_ks_march = ks_march[\"Active Cases\"].max()\n",
    "tot_ks_april = ks_april[\"Active Cases\"].max()\n",
    "tot_ks_may = ks_may[\"Active Cases\"].max()\n",
    "tot_ks_june = ks_june[\"Active Cases\"].max()\n",
    "tot_ks_july = ks_july[\"Active Cases\"].max()\n",
    "tot_ks_aug = ks_aug[\"Active Cases\"].max()\n",
    "\n",
    "#Create dataframe\n",
    "ks_cases_by_month = pd.DataFrame({\"March\":[tot_ks_march], \"April\":[tot_ks_april], \"May\":[tot_ks_may], \"June\":[tot_ks_june],\n",
    "                                 \"July\":[tot_ks_july], \"August\":[tot_ks_aug]})\n",
    "ks_cases_by_month_final = ks_cases_by_month.transpose()\n",
    "ks_cases_by_month_final.reset_index(inplace=True)\n",
    "ks_cases_by_month_final.columns = [\"Month\", \"Kansas\"]\n",
    "ks_cases_by_month_final"
   ]
  },
  {
   "cell_type": "code",
   "execution_count": null,
   "metadata": {},
   "outputs": [],
   "source": [
    "#Plot Monthly data for Kansas\n",
    "ks_cases_by_month_final.plot(kind = \"bar\", x = \"Month\", y = \"Kansas\")\n",
    "plt.savefig(\"Images/ks_monthly_graph.png\")\n",
    "plt.show()"
   ]
  },
  {
   "cell_type": "code",
   "execution_count": null,
   "metadata": {},
   "outputs": [],
   "source": [
    "#Get active cases for each month in New Jersey\n",
    "tot_nj_march = nj_march[\"Active Cases\"].max()\n",
    "tot_nj_april = nj_april[\"Active Cases\"].max()\n",
    "tot_nj_may = nj_may[\"Active Cases\"].max()\n",
    "tot_nj_june = nj_june[\"Active Cases\"].max()\n",
    "tot_nj_july = nj_july[\"Active Cases\"].max()\n",
    "tot_nj_aug = nj_aug[\"Active Cases\"].max()\n",
    "\n",
    "nj_cases_by_month = pd.DataFrame({\"March\":[tot_nj_march], \"April\":[tot_nj_april], \"May\":[tot_nj_may], \"June\":[tot_nj_june],\n",
    "                                 \"July\":[tot_nj_july], \"August\":[tot_nj_aug]})\n",
    "nj_cases_by_month_final = nj_cases_by_month.transpose()\n",
    "nj_cases_by_month_final.reset_index(inplace=True)\n",
    "nj_cases_by_month_final.columns = [\"Month\", \"New Jersey\"]\n",
    "nj_cases_by_month_final"
   ]
  },
  {
   "cell_type": "code",
   "execution_count": null,
   "metadata": {},
   "outputs": [],
   "source": [
    "#Plot Monthly data for New Jersey\n",
    "nj_cases_by_month_final.plot(kind = \"bar\", x = \"Month\", y = \"New Jersey\")\n",
    "plt.savefig(\"Images/nj_monthly_graph.png\")\n",
    "plt.show()"
   ]
  },
  {
   "cell_type": "code",
   "execution_count": null,
   "metadata": {},
   "outputs": [],
   "source": []
  }
 ],
 "metadata": {
  "kernelspec": {
   "display_name": "Python 3",
   "language": "python",
   "name": "python3"
  },
  "language_info": {
   "codemirror_mode": {
    "name": "ipython",
    "version": 3
   },
   "file_extension": ".py",
   "mimetype": "text/x-python",
   "name": "python",
   "nbconvert_exporter": "python",
   "pygments_lexer": "ipython3",
   "version": "3.6.10"
  }
 },
 "nbformat": 4,
 "nbformat_minor": 4
}
