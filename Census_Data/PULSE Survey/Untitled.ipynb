{
 "cells": [
  {
   "cell_type": "code",
   "execution_count": 2,
   "metadata": {},
   "outputs": [],
   "source": [
    "# Dependencies and Setup\n",
    "import matplotlib.pyplot as plt\n",
    "import pandas as pd\n",
    "import scipy.stats as st\n",
    "import numpy as np"
   ]
  },
  {
   "cell_type": "code",
   "execution_count": 5,
   "metadata": {},
   "outputs": [],
   "source": [
    "# Study data files\n",
    "unexpected_loss_path = \"KS-NJ_loss_in_employment_income.csv\"\n",
    "expected_loss_path = \"KS-NJexpected_loss_of_income.csv\"\n",
    "delayed_care_path = \"KS-NJ Delayed Medical Care.csv\"\n",
    "housing_insecurity_path = \"KS-NJ food insecurity.csv\"\n",
    "food_scarcity_path = \"KS-NJ Food Scarcity.csv\"\n",
    "school_changes_path = \"KS-NJ K-12 changes.csv\"\n",
    "\n",
    "# Read the mouse data and the study results\n",
    "unexpected_loss_df = pd.read_csv(unexpected_loss_path)\n",
    "expected_loss_df =  pd.read_csv(expected_loss_path)\n",
    "delayed_care_df =  pd.read_csv(delayed_care_path)\n",
    "housing_insecurity_df =  pd.read_csv(housing_insecurity_path)\n",
    "food_scarcity_df =  pd.read_csv(food_scarcity_path)\n",
    "school_changes_df =  pd.read_csv(school_changes_path)\n",
    "\n",
    "# Combine the data into a single dataset\n",
    "#combined_df = pd.merge(unexpected_loss_df, expected_loss_df, delayed_care_df, housing_insecurity_df, food_scarcity_df, school_changes_df, on=\"Area\", how=\"left\")\n"
   ]
  },
  {
   "cell_type": "code",
   "execution_count": 8,
   "metadata": {},
   "outputs": [
    {
     "ename": "SyntaxError",
     "evalue": "cannot assign to function call (<ipython-input-8-8034df0f30b8>, line 1)",
     "output_type": "error",
     "traceback": [
      "\u001b[1;36m  File \u001b[1;32m\"<ipython-input-8-8034df0f30b8>\"\u001b[1;36m, line \u001b[1;32m1\u001b[0m\n\u001b[1;33m    unexpected_loss_df.sort_values(\"week\"), ascending=True\u001b[0m\n\u001b[1;37m    ^\u001b[0m\n\u001b[1;31mSyntaxError\u001b[0m\u001b[1;31m:\u001b[0m cannot assign to function call\n"
     ]
    }
   ],
   "source": [
    "unexpected_loss_df.sort_values(\"week\"), ascending=True"
   ]
  },
  {
   "cell_type": "code",
   "execution_count": null,
   "metadata": {},
   "outputs": [],
   "source": [
    "school_summary.sort_values(\"% Overall Passing\", ascending=False).tail().style.format({"
   ]
  }
 ],
 "metadata": {
  "kernelspec": {
   "display_name": "Python 3",
   "language": "python",
   "name": "python3"
  },
  "language_info": {
   "codemirror_mode": {
    "name": "ipython",
    "version": 3
   },
   "file_extension": ".py",
   "mimetype": "text/x-python",
   "name": "python",
   "nbconvert_exporter": "python",
   "pygments_lexer": "ipython3",
   "version": "3.8.3"
  }
 },
 "nbformat": 4,
 "nbformat_minor": 4
}
